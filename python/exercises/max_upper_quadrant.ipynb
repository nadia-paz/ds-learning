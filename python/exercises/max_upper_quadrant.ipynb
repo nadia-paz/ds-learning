{
 "cells": [
  {
   "attachments": {},
   "cell_type": "markdown",
   "metadata": {},
   "source": [
    "You can flip rows and columns as many times as needed to place numbers the way, upper left corner has the maximum sum of elements. Return the maximum sum"
   ]
  },
  {
   "cell_type": "code",
   "execution_count": 42,
   "metadata": {},
   "outputs": [
    {
     "name": "stdout",
     "output_type": "stream",
     "text": [
      "Matrix                     Transposed Matrix\n",
      "[112, 42, 83, 119]        [112, 56, 15, 62]\n",
      "[56, 125, 56, 49]        [42, 125, 78, 98]\n",
      "[15, 78, 101, 43]        [83, 56, 101, 114]\n",
      "[62, 98, 114, 108]        [119, 49, 43, 108]\n"
     ]
    }
   ],
   "source": [
    "matrix = [[112, 42, 83, 119], [56, 125, 56, 49], [15, 78, 101, 43], [62, 98, 114, 108]]\n",
    "transposed_matrix = list(map(list, zip(*matrix)))\n",
    "print('Matrix                     Transposed Matrix')\n",
    "for m, m1 in zip(matrix, transposed_matrix):\n",
    "    print(m, end='        ')\n",
    "    print(m1)"
   ]
  },
  {
   "cell_type": "code",
   "execution_count": 37,
   "metadata": {},
   "outputs": [],
   "source": [
    "# we assume that rows equals columns = 2n I add number of columns just in cas\n",
    "n = len(matrix) // 2\n",
    "#r_tr_matrix = len(transposed_matrix)"
   ]
  },
  {
   "cell_type": "code",
   "execution_count": 28,
   "metadata": {},
   "outputs": [],
   "source": [
    "# now we go through every column of matrix (row of transposed matrix)\n",
    "# if the sum of first n elements < the sum of last n elements, we flip the row\n",
    "for i in range(len(transposed_matrix)):\n",
    "    #print(transposed_matrix[i])\n",
    "    if sum(transposed_matrix[i][:n]) < sum(transposed_matrix[i][n:]):\n",
    "        #print('Row: ' + str(i))\n",
    "        transposed_matrix[i] = transposed_matrix[i][::-1]\n",
    "        #print(transposed_matrix[i])\n",
    "matrix = list(map(list, zip(*transposed_matrix)))\n"
   ]
  },
  {
   "cell_type": "code",
   "execution_count": 30,
   "metadata": {},
   "outputs": [],
   "source": [
    "# go through every row of matrix and flip if the sum of las n \n",
    "for i in range(len(matrix)):\n",
    "    if sum(matrix[i][:n]) < sum(matrix[i][n:]):\n",
    "        matrix[i] = matrix[i][::-1]"
   ]
  },
  {
   "cell_type": "code",
   "execution_count": 29,
   "metadata": {},
   "outputs": [
    {
     "name": "stdout",
     "output_type": "stream",
     "text": [
      "[112, 98, 114, 119]        [112, 56, 15, 62]\n",
      "[56, 78, 101, 49]        [98, 78, 125, 42]\n",
      "[15, 125, 56, 43]        [114, 101, 56, 83]\n",
      "[62, 42, 83, 108]        [119, 49, 43, 108]\n"
     ]
    }
   ],
   "source": [
    "for m, m1 in zip(matrix, transposed_matrix):\n",
    "    print(m, end='        ')\n",
    "    print(m1)"
   ]
  },
  {
   "cell_type": "code",
   "execution_count": 34,
   "metadata": {},
   "outputs": [
    {
     "name": "stdout",
     "output_type": "stream",
     "text": [
      "[119, 114, 98, 112]        [112, 56, 15, 62]\n",
      "[49, 101, 78, 56]        [98, 78, 125, 42]\n",
      "[15, 125, 56, 43]        [114, 101, 56, 83]\n",
      "[108, 83, 42, 62]        [119, 49, 43, 108]\n"
     ]
    }
   ],
   "source": [
    "for m, m1 in zip(matrix, transposed_matrix):\n",
    "    print(m, end='        ')\n",
    "    print(m1)"
   ]
  },
  {
   "cell_type": "code",
   "execution_count": 35,
   "metadata": {},
   "outputs": [
    {
     "data": {
      "text/plain": [
       "383"
      ]
     },
     "execution_count": 35,
     "metadata": {},
     "output_type": "execute_result"
    }
   ],
   "source": [
    "sum(matrix[i][j] for i in range(n) for j in range(n))"
   ]
  },
  {
   "attachments": {},
   "cell_type": "markdown",
   "metadata": {},
   "source": [
    "Didn't work, we have to get 441"
   ]
  },
  {
   "cell_type": "code",
   "execution_count": 41,
   "metadata": {},
   "outputs": [
    {
     "name": "stdout",
     "output_type": "stream",
     "text": [
      "383\n"
     ]
    }
   ],
   "source": [
    "while(True):\n",
    "    # go through every column\n",
    "    for i in range(len(transposed_matrix)):\n",
    "        #print(transposed_matrix[i])\n",
    "        if sum(transposed_matrix[i][:n]) < sum(transposed_matrix[i][n:]):\n",
    "            #print('Row: ' + str(i))\n",
    "            transposed_matrix[i] = transposed_matrix[i][::-1]\n",
    "        #print(transposed_matrix[i])\n",
    "    matrix = list(map(list, zip(*transposed_matrix)))\n",
    "    # go through every row of matrix and flip if the sum of las n \n",
    "    for i in range(len(matrix)):\n",
    "        if sum(matrix[i][:n]) < sum(matrix[i][n:]):\n",
    "            matrix[i] = matrix[i][::-1]\n",
    "    # check if\n",
    "    left_up, left_down, right_up, right_down = 0, 0, 0, 0\n",
    "    for i in range(n):\n",
    "        left_up += sum(matrix[i][:n])\n",
    "        left_down += sum(matrix[n+i][:n])\n",
    "        right_up += sum(matrix[i][n:])\n",
    "        right_down += sum(matrix[n+i][n:])\n",
    "    if left_up >= left_down and left_up >= right_up and left_up >= right_down:\n",
    "        print(left_up)\n",
    "        break\n",
    "    "
   ]
  },
  {
   "cell_type": "code",
   "execution_count": 121,
   "metadata": {},
   "outputs": [],
   "source": [
    "left_up, left_down, right_up, right_down = 0, 0, 0, 0\n",
    "rows, columns = len(matrix), len(matrix[0])\n",
    "hr, hc = rows // 2, columns // 2\n",
    "for i in range(nr):\n",
    "        left_up += sum(matrix[i][:n])\n",
    "        left_down += sum(matrix[n+i][:n])\n",
    "        right_up += sum(matrix[i][n:])\n",
    "        right_down += sum(matrix[n+i][n:])"
   ]
  },
  {
   "attachments": {},
   "cell_type": "markdown",
   "metadata": {},
   "source": [
    "Find the maximum sum by finding the maximum elements in symmetrical positions"
   ]
  },
  {
   "cell_type": "code",
   "execution_count": 43,
   "metadata": {},
   "outputs": [
    {
     "name": "stdout",
     "output_type": "stream",
     "text": [
      "[112, 42, 83, 119]        [112, 56, 15, 62]\n",
      "[56, 125, 56, 49]        [42, 125, 78, 98]\n",
      "[15, 78, 101, 43]        [83, 56, 101, 114]\n",
      "[62, 98, 114, 108]        [119, 49, 43, 108]\n"
     ]
    }
   ],
   "source": [
    "for m, m1 in zip(matrix, transposed_matrix):\n",
    "    print(m, end='        ')\n",
    "    print(m1)"
   ]
  },
  {
   "cell_type": "code",
   "execution_count": 44,
   "metadata": {},
   "outputs": [],
   "source": [
    "row, col = len(matrix), len(matrix[0])"
   ]
  },
  {
   "cell_type": "code",
   "execution_count": 46,
   "metadata": {},
   "outputs": [
    {
     "data": {
      "text/plain": [
       "[112, 119, 62, 108]"
      ]
     },
     "execution_count": 46,
     "metadata": {},
     "output_type": "execute_result"
    }
   ],
   "source": [
    "[matrix[0][0], matrix[0][row - 1], matrix[col - 1][0], matrix[col - 1][col - 1]]"
   ]
  },
  {
   "cell_type": "code",
   "execution_count": 45,
   "metadata": {},
   "outputs": [
    {
     "data": {
      "text/plain": [
       "119"
      ]
     },
     "execution_count": 45,
     "metadata": {},
     "output_type": "execute_result"
    }
   ],
   "source": [
    "max([matrix[0][0], matrix[0][row - 1], matrix[col - 1][0], matrix[col - 1][col - 1]])"
   ]
  },
  {
   "cell_type": "code",
   "execution_count": 47,
   "metadata": {},
   "outputs": [],
   "source": [
    "max_sum = 0\n",
    "for i in range(row // 2):\n",
    "    for j in range(col // 2):\n",
    "        max_sum += max(\n",
    "            [matrix[i][j], matrix[i][row - j - 1], matrix[col - i - 1][0], matrix[col - i - 1][col - j - 1]]\n",
    "            )"
   ]
  },
  {
   "cell_type": "code",
   "execution_count": 48,
   "metadata": {},
   "outputs": [
    {
     "data": {
      "text/plain": [
       "414"
      ]
     },
     "execution_count": 48,
     "metadata": {},
     "output_type": "execute_result"
    }
   ],
   "source": [
    "# bingo!\n",
    "max_sum"
   ]
  }
 ],
 "metadata": {
  "kernelspec": {
   "display_name": "base",
   "language": "python",
   "name": "python3"
  },
  "language_info": {
   "codemirror_mode": {
    "name": "ipython",
    "version": 3
   },
   "file_extension": ".py",
   "mimetype": "text/x-python",
   "name": "python",
   "nbconvert_exporter": "python",
   "pygments_lexer": "ipython3",
   "version": "3.10.9"
  },
  "orig_nbformat": 4
 },
 "nbformat": 4,
 "nbformat_minor": 2
}
