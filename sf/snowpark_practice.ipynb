{
 "cells": [
  {
   "cell_type": "code",
   "execution_count": 1,
   "metadata": {},
   "outputs": [],
   "source": [
    "# Snowpark for Python\n",
    "from snowflake.snowpark.session import Session\n",
    "from snowflake.snowpark.functions import month,year,col,sum\n",
    "from snowflake.snowpark.version import VERSION\n",
    "# Misc\n",
    "import json\n",
    "import logging \n",
    "logger = logging.getLogger(\"snowflake.snowpark.session\")\n",
    "logger.setLevel(logging.ERROR)"
   ]
  },
  {
   "cell_type": "code",
   "execution_count": 2,
   "metadata": {},
   "outputs": [],
   "source": [
    "param = json.load(open('connection_movie.json'))"
   ]
  },
  {
   "cell_type": "code",
   "execution_count": 3,
   "metadata": {},
   "outputs": [],
   "source": [
    "session = Session.builder.configs(param).create()"
   ]
  },
  {
   "cell_type": "code",
   "execution_count": 4,
   "metadata": {},
   "outputs": [
    {
     "data": {
      "text/plain": [
       "<snowflake.snowpark.session.Session at 0x7fe2bd4d9bb0>"
      ]
     },
     "execution_count": 4,
     "metadata": {},
     "output_type": "execute_result"
    }
   ],
   "source": [
    "session"
   ]
  },
  {
   "cell_type": "code",
   "execution_count": 5,
   "metadata": {},
   "outputs": [],
   "source": [
    "session.sql_simplifier_enabled = True"
   ]
  },
  {
   "cell_type": "code",
   "execution_count": 6,
   "metadata": {},
   "outputs": [],
   "source": [
    "snowflake_environment = session.sql('select current_user(), current_version()').collect()"
   ]
  },
  {
   "cell_type": "code",
   "execution_count": 13,
   "metadata": {},
   "outputs": [
    {
     "data": {
      "text/plain": [
       "list"
      ]
     },
     "execution_count": 13,
     "metadata": {},
     "output_type": "execute_result"
    }
   ],
   "source": [
    "type(snowflake_environment)"
   ]
  },
  {
   "cell_type": "code",
   "execution_count": 7,
   "metadata": {},
   "outputs": [
    {
     "data": {
      "text/plain": [
       "[Row(CURRENT_USER()='NADINA', CURRENT_VERSION()='7.17.0')]"
      ]
     },
     "execution_count": 7,
     "metadata": {},
     "output_type": "execute_result"
    }
   ],
   "source": [
    "snowflake_environment"
   ]
  },
  {
   "cell_type": "code",
   "execution_count": 8,
   "metadata": {},
   "outputs": [
    {
     "data": {
      "text/plain": [
       "'\"ACCOUNTADMIN\"'"
      ]
     },
     "execution_count": 8,
     "metadata": {},
     "output_type": "execute_result"
    }
   ],
   "source": [
    "session.get_current_role()"
   ]
  },
  {
   "cell_type": "code",
   "execution_count": 9,
   "metadata": {},
   "outputs": [
    {
     "data": {
      "text/plain": [
       "('\"MOVIE_DB\"', '\"MOVIE_SCHEMA\"', '\"MOVIE_L\"')"
      ]
     },
     "execution_count": 9,
     "metadata": {},
     "output_type": "execute_result"
    }
   ],
   "source": [
    "session.get_current_database(), session.get_current_schema(), session.get_current_warehouse()"
   ]
  },
  {
   "cell_type": "code",
   "execution_count": 10,
   "metadata": {},
   "outputs": [],
   "source": [
    "tables = session.sql('show tables').collect()"
   ]
  },
  {
   "cell_type": "code",
   "execution_count": 39,
   "metadata": {},
   "outputs": [
    {
     "data": {
      "text/plain": [
       "'ITEMS'"
      ]
     },
     "execution_count": 39,
     "metadata": {},
     "output_type": "execute_result"
    }
   ],
   "source": [
    "tables[0]['name']"
   ]
  },
  {
   "cell_type": "code",
   "execution_count": 19,
   "metadata": {},
   "outputs": [
    {
     "name": "stdout",
     "output_type": "stream",
     "text": [
      "items\n",
      "ratings\n",
      "users\n"
     ]
    }
   ],
   "source": [
    "for table in tables:\n",
    "    print(table['name'].lower())"
   ]
  },
  {
   "cell_type": "code",
   "execution_count": 14,
   "metadata": {},
   "outputs": [],
   "source": [
    "dict_of_vars = vars()"
   ]
  },
  {
   "cell_type": "code",
   "execution_count": 15,
   "metadata": {},
   "outputs": [
    {
     "data": {
      "text/plain": [
       "dict"
      ]
     },
     "execution_count": 15,
     "metadata": {},
     "output_type": "execute_result"
    }
   ],
   "source": [
    "type(dict_of_vars)"
   ]
  },
  {
   "cell_type": "code",
   "execution_count": 20,
   "metadata": {},
   "outputs": [
    {
     "name": "stdout",
     "output_type": "stream",
     "text": [
      "------------------------------------------------------------------------------------------------------------------------------------------------------------------------------------------------------------------------------------------------------------------------------------------------------------------------------------------------\n",
      "|\"ITEM_ID\"  |\"TITLE\"           |\"RELEASE_DATE\"  |\"IMDB_URL\"                                          |\"UNKNOWN_GENRE\"  |\"ACTION\"  |\"ADVENTURE\"  |\"ANIMATION\"  |\"CHILDREN\"  |\"COMEDY\"  |\"CRIME\"  |\"DOCUMENTARY\"  |\"DRAMA\"  |\"FANTASY\"  |\"FILM_NOIR\"  |\"HORROR\"  |\"MUSICAL\"  |\"MYSTERY\"  |\"ROMANCE\"  |\"SCI_FI\"  |\"THRILLER\"  |\"WAR\"  |\"WESTERN\"  |\n",
      "------------------------------------------------------------------------------------------------------------------------------------------------------------------------------------------------------------------------------------------------------------------------------------------------------------------------------------------------\n",
      "|1          |Toy Story (1995)  |1995-01-01      |http://us.imdb.com/M/title-exact?Toy%20Story%20...  |False            |False     |False        |True         |True        |True      |False    |False          |False    |False      |False        |False     |False      |False      |False      |False     |False       |False  |False      |\n",
      "|2          |GoldenEye (1995)  |1995-01-01      |http://us.imdb.com/M/title-exact?GoldenEye%20(1...  |False            |True      |True         |False        |False       |False     |False    |False          |False    |False      |False        |False     |False      |False      |False      |False     |True        |False  |False      |\n",
      "------------------------------------------------------------------------------------------------------------------------------------------------------------------------------------------------------------------------------------------------------------------------------------------------------------------------------------------------\n",
      "\n"
     ]
    }
   ],
   "source": [
    "session.table('ITEMS').show(2)"
   ]
  },
  {
   "cell_type": "code",
   "execution_count": 22,
   "metadata": {},
   "outputs": [
    {
     "name": "stdout",
     "output_type": "stream",
     "text": [
      "------------------------------------------------------------------------------------------------------------------------------------------------------------------------------------------------------------------------------------------------------------------------------------------------------------------------------------------------\n",
      "|\"ITEM_ID\"  |\"TITLE\"           |\"RELEASE_DATE\"  |\"IMDB_URL\"                                          |\"UNKNOWN_GENRE\"  |\"ACTION\"  |\"ADVENTURE\"  |\"ANIMATION\"  |\"CHILDREN\"  |\"COMEDY\"  |\"CRIME\"  |\"DOCUMENTARY\"  |\"DRAMA\"  |\"FANTASY\"  |\"FILM_NOIR\"  |\"HORROR\"  |\"MUSICAL\"  |\"MYSTERY\"  |\"ROMANCE\"  |\"SCI_FI\"  |\"THRILLER\"  |\"WAR\"  |\"WESTERN\"  |\n",
      "------------------------------------------------------------------------------------------------------------------------------------------------------------------------------------------------------------------------------------------------------------------------------------------------------------------------------------------------\n",
      "|1          |Toy Story (1995)  |1995-01-01      |http://us.imdb.com/M/title-exact?Toy%20Story%20...  |False            |False     |False        |True         |True        |True      |False    |False          |False    |False      |False        |False     |False      |False      |False      |False     |False       |False  |False      |\n",
      "|2          |GoldenEye (1995)  |1995-01-01      |http://us.imdb.com/M/title-exact?GoldenEye%20(1...  |False            |True      |True         |False        |False       |False     |False    |False          |False    |False      |False        |False     |False      |False      |False      |False     |True        |False  |False      |\n",
      "------------------------------------------------------------------------------------------------------------------------------------------------------------------------------------------------------------------------------------------------------------------------------------------------------------------------------------------------\n",
      "\n"
     ]
    }
   ],
   "source": [
    "session.table('items').show(2)"
   ]
  },
  {
   "cell_type": "code",
   "execution_count": 31,
   "metadata": {},
   "outputs": [],
   "source": [
    "# dict_of_vars = vars()\n",
    "# tables from DB to data frames\n",
    "list_of_table_names = []\n",
    "for table in tables:\n",
    "    table_name = table['name'].lower()\n",
    "    list_of_table_names.append(table_name)\n",
    "    # converts strings items, users, retings into variables with the same name\n",
    "    # saving a data frame object\n",
    "    dict_of_vars[table_name] = session.table(table_name)"
   ]
  },
  {
   "cell_type": "code",
   "execution_count": 32,
   "metadata": {},
   "outputs": [
    {
     "data": {
      "text/plain": [
       "['items', 'ratings', 'users']"
      ]
     },
     "execution_count": 32,
     "metadata": {},
     "output_type": "execute_result"
    }
   ],
   "source": [
    "list_of_table_names"
   ]
  },
  {
   "cell_type": "code",
   "execution_count": 33,
   "metadata": {},
   "outputs": [
    {
     "name": "stdout",
     "output_type": "stream",
     "text": [
      "Session\t VERSION\t col\t dict_of_vars\t items\t json\t list_of_table_names\t logger\t logging\t \n",
      "month\t param\t ratings\t session\t snowflake_environment\t sum\t table\t table_name\t tables\t \n",
      "users\t year\t \n"
     ]
    }
   ],
   "source": [
    "%who"
   ]
  },
  {
   "cell_type": "code",
   "execution_count": 34,
   "metadata": {},
   "outputs": [
    {
     "name": "stdout",
     "output_type": "stream",
     "text": [
      "------------------------------------------------------------------------------------------------------------------------------------------------------------------------------------------------------------------------------------------------------------------------------------------------------------------------------------------------\n",
      "|\"ITEM_ID\"  |\"TITLE\"           |\"RELEASE_DATE\"  |\"IMDB_URL\"                                          |\"UNKNOWN_GENRE\"  |\"ACTION\"  |\"ADVENTURE\"  |\"ANIMATION\"  |\"CHILDREN\"  |\"COMEDY\"  |\"CRIME\"  |\"DOCUMENTARY\"  |\"DRAMA\"  |\"FANTASY\"  |\"FILM_NOIR\"  |\"HORROR\"  |\"MUSICAL\"  |\"MYSTERY\"  |\"ROMANCE\"  |\"SCI_FI\"  |\"THRILLER\"  |\"WAR\"  |\"WESTERN\"  |\n",
      "------------------------------------------------------------------------------------------------------------------------------------------------------------------------------------------------------------------------------------------------------------------------------------------------------------------------------------------------\n",
      "|1          |Toy Story (1995)  |1995-01-01      |http://us.imdb.com/M/title-exact?Toy%20Story%20...  |False            |False     |False        |True         |True        |True      |False    |False          |False    |False      |False        |False     |False      |False      |False      |False     |False       |False  |False      |\n",
      "|2          |GoldenEye (1995)  |1995-01-01      |http://us.imdb.com/M/title-exact?GoldenEye%20(1...  |False            |True      |True         |False        |False       |False     |False    |False          |False    |False      |False        |False     |False      |False      |False      |False     |True        |False  |False      |\n",
      "------------------------------------------------------------------------------------------------------------------------------------------------------------------------------------------------------------------------------------------------------------------------------------------------------------------------------------------------\n",
      "\n"
     ]
    }
   ],
   "source": [
    "items.show(2)"
   ]
  },
  {
   "cell_type": "code",
   "execution_count": 35,
   "metadata": {},
   "outputs": [
    {
     "name": "stdout",
     "output_type": "stream",
     "text": [
      "-------------------------------------------------------\n",
      "|\"USER_ID\"  |\"AGE\"  |\"GENDER\"  |\"OCCUPATION\"  |\"ZIP\"  |\n",
      "-------------------------------------------------------\n",
      "|1          |24     |M         |technician    |85711  |\n",
      "|2          |53     |F         |other         |94043  |\n",
      "-------------------------------------------------------\n",
      "\n"
     ]
    }
   ],
   "source": [
    "users.show(2)"
   ]
  },
  {
   "cell_type": "code",
   "execution_count": 36,
   "metadata": {},
   "outputs": [
    {
     "name": "stdout",
     "output_type": "stream",
     "text": [
      "--------------------------------------------------\n",
      "|\"USER_ID\"  |\"ITEM_ID\"  |\"RATING\"  |\"TIMESTAMP\"  |\n",
      "--------------------------------------------------\n",
      "|196        |242        |3.0       |881250949    |\n",
      "|186        |302        |3.0       |891717742    |\n",
      "--------------------------------------------------\n",
      "\n"
     ]
    }
   ],
   "source": [
    "ratings.show(2)"
   ]
  },
  {
   "cell_type": "code",
   "execution_count": null,
   "metadata": {},
   "outputs": [],
   "source": []
  }
 ],
 "metadata": {
  "kernelspec": {
   "display_name": "snowpark-de-ml",
   "language": "python",
   "name": "python3"
  },
  "language_info": {
   "codemirror_mode": {
    "name": "ipython",
    "version": 3
   },
   "file_extension": ".py",
   "mimetype": "text/x-python",
   "name": "python",
   "nbconvert_exporter": "python",
   "pygments_lexer": "ipython3",
   "version": "3.8.16"
  },
  "orig_nbformat": 4
 },
 "nbformat": 4,
 "nbformat_minor": 2
}
