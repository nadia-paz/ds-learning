{
 "cells": [
  {
   "cell_type": "code",
   "execution_count": 1,
   "metadata": {},
   "outputs": [],
   "source": [
    "# Snowpark for Python\n",
    "from snowflake.snowpark.session import Session\n",
    "#from snowflake.snowpark.functions import month,year,col,sum\n",
    "#from snowflake.snowpark.version import VERSION\n",
    "# Misc\n",
    "import json\n",
    "import logging \n",
    "logger = logging.getLogger(\"snowflake.snowpark.session\")\n",
    "logger.setLevel(logging.ERROR)"
   ]
  },
  {
   "cell_type": "code",
   "execution_count": 2,
   "metadata": {},
   "outputs": [],
   "source": [
    "param = json.load(open('connection_movie.json'))"
   ]
  },
  {
   "cell_type": "code",
   "execution_count": 3,
   "metadata": {},
   "outputs": [],
   "source": [
    "session = Session.builder.configs(param).create()"
   ]
  },
  {
   "cell_type": "code",
   "execution_count": 4,
   "metadata": {},
   "outputs": [
    {
     "data": {
      "text/plain": [
       "<snowflake.snowpark.session.Session at 0x7fac52ae07c0>"
      ]
     },
     "execution_count": 4,
     "metadata": {},
     "output_type": "execute_result"
    }
   ],
   "source": [
    "session"
   ]
  },
  {
   "cell_type": "code",
   "execution_count": 5,
   "metadata": {},
   "outputs": [],
   "source": [
    "session.sql_simplifier_enabled = True"
   ]
  },
  {
   "cell_type": "code",
   "execution_count": 6,
   "metadata": {},
   "outputs": [],
   "source": [
    "snowflake_environment = session.sql('select current_user(), current_version()').collect()"
   ]
  },
  {
   "cell_type": "code",
   "execution_count": 6,
   "metadata": {},
   "outputs": [
    {
     "data": {
      "text/plain": [
       "'\"ACCOUNTADMIN\"'"
      ]
     },
     "execution_count": 6,
     "metadata": {},
     "output_type": "execute_result"
    }
   ],
   "source": [
    "session.get_current_role()"
   ]
  },
  {
   "cell_type": "code",
   "execution_count": 7,
   "metadata": {},
   "outputs": [
    {
     "data": {
      "text/plain": [
       "('\"MOVIE_DB\"', '\"MOVIE_SCHEMA\"', '\"MOVIE_L\"')"
      ]
     },
     "execution_count": 7,
     "metadata": {},
     "output_type": "execute_result"
    }
   ],
   "source": [
    "session.get_current_database(), session.get_current_schema(), session.get_current_warehouse()"
   ]
  },
  {
   "cell_type": "code",
   "execution_count": 8,
   "metadata": {},
   "outputs": [],
   "source": [
    "tables = session.sql('show tables').collect()"
   ]
  },
  {
   "cell_type": "code",
   "execution_count": 9,
   "metadata": {},
   "outputs": [
    {
     "data": {
      "text/plain": [
       "'ITEMS'"
      ]
     },
     "execution_count": 9,
     "metadata": {},
     "output_type": "execute_result"
    }
   ],
   "source": [
    "tables[0]['name']"
   ]
  },
  {
   "cell_type": "code",
   "execution_count": 10,
   "metadata": {},
   "outputs": [
    {
     "name": "stdout",
     "output_type": "stream",
     "text": [
      "items\n",
      "ratings\n",
      "users\n"
     ]
    }
   ],
   "source": [
    "for table in tables:\n",
    "    print(table['name'].lower())"
   ]
  },
  {
   "cell_type": "code",
   "execution_count": 11,
   "metadata": {},
   "outputs": [],
   "source": [
    "dict_of_vars = vars()"
   ]
  },
  {
   "cell_type": "code",
   "execution_count": 12,
   "metadata": {},
   "outputs": [],
   "source": [
    "# dict_of_vars = vars()\n",
    "# tables from DB to data frames\n",
    "list_of_table_names = []\n",
    "for table in tables:\n",
    "    table_name = table['name'].lower()\n",
    "    list_of_table_names.append(table_name)\n",
    "    # converts strings items, users, retings into variables with the same name\n",
    "    # saving a data frame object\n",
    "    dict_of_vars[table_name] = session.table(table_name)"
   ]
  },
  {
   "cell_type": "code",
   "execution_count": 13,
   "metadata": {},
   "outputs": [
    {
     "data": {
      "text/plain": [
       "['items', 'ratings', 'users']"
      ]
     },
     "execution_count": 13,
     "metadata": {},
     "output_type": "execute_result"
    }
   ],
   "source": [
    "list_of_table_names"
   ]
  },
  {
   "cell_type": "code",
   "execution_count": 14,
   "metadata": {},
   "outputs": [
    {
     "name": "stdout",
     "output_type": "stream",
     "text": [
      "------------------------------------------------------------------------------------------------------------------------------------------------------------------------------------------------------------------------------------------------------------------------------------------------------------------------------------------------\n",
      "|\"ITEM_ID\"  |\"TITLE\"           |\"RELEASE_DATE\"  |\"IMDB_URL\"                                          |\"UNKNOWN_GENRE\"  |\"ACTION\"  |\"ADVENTURE\"  |\"ANIMATION\"  |\"CHILDREN\"  |\"COMEDY\"  |\"CRIME\"  |\"DOCUMENTARY\"  |\"DRAMA\"  |\"FANTASY\"  |\"FILM_NOIR\"  |\"HORROR\"  |\"MUSICAL\"  |\"MYSTERY\"  |\"ROMANCE\"  |\"SCI_FI\"  |\"THRILLER\"  |\"WAR\"  |\"WESTERN\"  |\n",
      "------------------------------------------------------------------------------------------------------------------------------------------------------------------------------------------------------------------------------------------------------------------------------------------------------------------------------------------------\n",
      "|1          |Toy Story (1995)  |1995-01-01      |http://us.imdb.com/M/title-exact?Toy%20Story%20...  |False            |False     |False        |True         |True        |True      |False    |False          |False    |False      |False        |False     |False      |False      |False      |False     |False       |False  |False      |\n",
      "|2          |GoldenEye (1995)  |1995-01-01      |http://us.imdb.com/M/title-exact?GoldenEye%20(1...  |False            |True      |True         |False        |False       |False     |False    |False          |False    |False      |False        |False     |False      |False      |False      |False     |True        |False  |False      |\n",
      "------------------------------------------------------------------------------------------------------------------------------------------------------------------------------------------------------------------------------------------------------------------------------------------------------------------------------------------------\n",
      "\n"
     ]
    }
   ],
   "source": [
    "items.show(2)"
   ]
  },
  {
   "cell_type": "code",
   "execution_count": 15,
   "metadata": {},
   "outputs": [
    {
     "name": "stdout",
     "output_type": "stream",
     "text": [
      "-------------------------------------------------------\n",
      "|\"USER_ID\"  |\"AGE\"  |\"GENDER\"  |\"OCCUPATION\"  |\"ZIP\"  |\n",
      "-------------------------------------------------------\n",
      "|1          |24     |M         |technician    |85711  |\n",
      "|2          |53     |F         |other         |94043  |\n",
      "-------------------------------------------------------\n",
      "\n"
     ]
    }
   ],
   "source": [
    "users.show(2)"
   ]
  },
  {
   "cell_type": "code",
   "execution_count": 16,
   "metadata": {},
   "outputs": [
    {
     "name": "stdout",
     "output_type": "stream",
     "text": [
      "--------------------------------------------------\n",
      "|\"USER_ID\"  |\"ITEM_ID\"  |\"RATING\"  |\"TIMESTAMP\"  |\n",
      "--------------------------------------------------\n",
      "|196        |242        |3.0       |881250949    |\n",
      "|186        |302        |3.0       |891717742    |\n",
      "--------------------------------------------------\n",
      "\n"
     ]
    }
   ],
   "source": [
    "ratings.show(2)"
   ]
  },
  {
   "cell_type": "code",
   "execution_count": 17,
   "metadata": {},
   "outputs": [
    {
     "data": {
      "text/plain": [
       "{'queries': ['SELECT  *  FROM (items)'], 'post_actions': []}"
      ]
     },
     "execution_count": 17,
     "metadata": {},
     "output_type": "execute_result"
    }
   ],
   "source": [
    "items.queries"
   ]
  },
  {
   "cell_type": "code",
   "execution_count": 18,
   "metadata": {},
   "outputs": [
    {
     "name": "stdout",
     "output_type": "stream",
     "text": [
      "---------DATAFRAME EXECUTION PLAN----------\n",
      "Query List:\n",
      "1.\n",
      "SELECT  *  FROM (items)\n",
      "Logical Execution Plan:\n",
      "GlobalStats:\n",
      "    partitionsTotal=1\n",
      "    partitionsAssigned=1\n",
      "    bytesAssigned=73728\n",
      "Operations:\n",
      "1:0     ->Result  ITEMS.ITEM_ID, ITEMS.TITLE, ITEMS.RELEASE_DATE, ITEMS.IMDB_URL, ITEMS.UNKNOWN_GENRE, ITEMS.ACTION, ITEMS.ADVENTURE, ITEMS.ANIMATION, ITEMS.CHILDREN, ITEMS.COMEDY, ITEMS.CRIME, ITEMS.DOCUMENTARY, ITEMS.DRAMA, ITEMS.FANTASY, ITEMS.FILM_NOIR, ITEMS.HORROR, ITEMS.MUSICAL, ITEMS.MYSTERY, ITEMS.ROMANCE, ITEMS.SCI_FI, ITEMS.THRILLER, ITEMS.WAR, ITEMS.WESTERN  \n",
      "1:1          ->TableScan  MOVIE_DB.MOVIE_SCHEMA.ITEMS  ITEM_ID, TITLE, RELEASE_DATE, IMDB_URL, UNKNOWN_GENRE, ACTION, ADVENTURE, ANIMATION, CHILDREN, COMEDY, CRIME, DOCUMENTARY, DRAMA, FANTASY, FILM_NOIR, HORROR, MUSICAL, MYSTERY, ROMANCE, SCI_FI, THRILLER, WAR, WESTERN  {partitionsTotal=1, partitionsAssigned=1, bytesAssigned=73728}\n",
      "\n",
      "--------------------------------------------\n"
     ]
    }
   ],
   "source": [
    "items.explain()"
   ]
  },
  {
   "cell_type": "code",
   "execution_count": 20,
   "metadata": {},
   "outputs": [],
   "source": [
    "items_df = items.to_pandas()"
   ]
  },
  {
   "cell_type": "code",
   "execution_count": 21,
   "metadata": {},
   "outputs": [],
   "source": [
    "ratings_df = ratings.to_pandas()\n",
    "users_df = users.to_pandas()"
   ]
  },
  {
   "cell_type": "code",
   "execution_count": 24,
   "metadata": {},
   "outputs": [
    {
     "data": {
      "text/html": [
       "<div>\n",
       "<style scoped>\n",
       "    .dataframe tbody tr th:only-of-type {\n",
       "        vertical-align: middle;\n",
       "    }\n",
       "\n",
       "    .dataframe tbody tr th {\n",
       "        vertical-align: top;\n",
       "    }\n",
       "\n",
       "    .dataframe thead th {\n",
       "        text-align: right;\n",
       "    }\n",
       "</style>\n",
       "<table border=\"1\" class=\"dataframe\">\n",
       "  <thead>\n",
       "    <tr style=\"text-align: right;\">\n",
       "      <th></th>\n",
       "      <th>USER_ID</th>\n",
       "      <th>AGE</th>\n",
       "      <th>GENDER</th>\n",
       "      <th>OCCUPATION</th>\n",
       "      <th>ZIP</th>\n",
       "    </tr>\n",
       "  </thead>\n",
       "  <tbody>\n",
       "    <tr>\n",
       "      <th>0</th>\n",
       "      <td>1</td>\n",
       "      <td>24</td>\n",
       "      <td>M</td>\n",
       "      <td>technician</td>\n",
       "      <td>85711</td>\n",
       "    </tr>\n",
       "    <tr>\n",
       "      <th>1</th>\n",
       "      <td>2</td>\n",
       "      <td>53</td>\n",
       "      <td>F</td>\n",
       "      <td>other</td>\n",
       "      <td>94043</td>\n",
       "    </tr>\n",
       "  </tbody>\n",
       "</table>\n",
       "</div>"
      ],
      "text/plain": [
       "   USER_ID  AGE GENDER  OCCUPATION    ZIP\n",
       "0        1   24      M  technician  85711\n",
       "1        2   53      F       other  94043"
      ]
     },
     "execution_count": 24,
     "metadata": {},
     "output_type": "execute_result"
    }
   ],
   "source": [
    "users_df.head(2)"
   ]
  },
  {
   "cell_type": "code",
   "execution_count": 25,
   "metadata": {},
   "outputs": [
    {
     "data": {
      "text/html": [
       "<div>\n",
       "<style scoped>\n",
       "    .dataframe tbody tr th:only-of-type {\n",
       "        vertical-align: middle;\n",
       "    }\n",
       "\n",
       "    .dataframe tbody tr th {\n",
       "        vertical-align: top;\n",
       "    }\n",
       "\n",
       "    .dataframe thead th {\n",
       "        text-align: right;\n",
       "    }\n",
       "</style>\n",
       "<table border=\"1\" class=\"dataframe\">\n",
       "  <thead>\n",
       "    <tr style=\"text-align: right;\">\n",
       "      <th></th>\n",
       "      <th>USER_ID</th>\n",
       "      <th>ITEM_ID</th>\n",
       "      <th>RATING</th>\n",
       "      <th>TIMESTAMP</th>\n",
       "    </tr>\n",
       "  </thead>\n",
       "  <tbody>\n",
       "    <tr>\n",
       "      <th>0</th>\n",
       "      <td>196</td>\n",
       "      <td>242</td>\n",
       "      <td>3.0</td>\n",
       "      <td>881250949</td>\n",
       "    </tr>\n",
       "    <tr>\n",
       "      <th>1</th>\n",
       "      <td>186</td>\n",
       "      <td>302</td>\n",
       "      <td>3.0</td>\n",
       "      <td>891717742</td>\n",
       "    </tr>\n",
       "  </tbody>\n",
       "</table>\n",
       "</div>"
      ],
      "text/plain": [
       "   USER_ID  ITEM_ID  RATING  TIMESTAMP\n",
       "0      196      242     3.0  881250949\n",
       "1      186      302     3.0  891717742"
      ]
     },
     "execution_count": 25,
     "metadata": {},
     "output_type": "execute_result"
    }
   ],
   "source": [
    "ratings_df.head(2)"
   ]
  },
  {
   "cell_type": "code",
   "execution_count": 26,
   "metadata": {},
   "outputs": [
    {
     "data": {
      "text/html": [
       "<div>\n",
       "<style scoped>\n",
       "    .dataframe tbody tr th:only-of-type {\n",
       "        vertical-align: middle;\n",
       "    }\n",
       "\n",
       "    .dataframe tbody tr th {\n",
       "        vertical-align: top;\n",
       "    }\n",
       "\n",
       "    .dataframe thead th {\n",
       "        text-align: right;\n",
       "    }\n",
       "</style>\n",
       "<table border=\"1\" class=\"dataframe\">\n",
       "  <thead>\n",
       "    <tr style=\"text-align: right;\">\n",
       "      <th></th>\n",
       "      <th>ITEM_ID</th>\n",
       "      <th>TITLE</th>\n",
       "      <th>RELEASE_DATE</th>\n",
       "      <th>IMDB_URL</th>\n",
       "      <th>UNKNOWN_GENRE</th>\n",
       "      <th>ACTION</th>\n",
       "      <th>ADVENTURE</th>\n",
       "      <th>ANIMATION</th>\n",
       "      <th>CHILDREN</th>\n",
       "      <th>COMEDY</th>\n",
       "      <th>...</th>\n",
       "      <th>FANTASY</th>\n",
       "      <th>FILM_NOIR</th>\n",
       "      <th>HORROR</th>\n",
       "      <th>MUSICAL</th>\n",
       "      <th>MYSTERY</th>\n",
       "      <th>ROMANCE</th>\n",
       "      <th>SCI_FI</th>\n",
       "      <th>THRILLER</th>\n",
       "      <th>WAR</th>\n",
       "      <th>WESTERN</th>\n",
       "    </tr>\n",
       "  </thead>\n",
       "  <tbody>\n",
       "    <tr>\n",
       "      <th>0</th>\n",
       "      <td>1</td>\n",
       "      <td>Toy Story (1995)</td>\n",
       "      <td>1995-01-01</td>\n",
       "      <td>http://us.imdb.com/M/title-exact?Toy%20Story%2...</td>\n",
       "      <td>False</td>\n",
       "      <td>False</td>\n",
       "      <td>False</td>\n",
       "      <td>True</td>\n",
       "      <td>True</td>\n",
       "      <td>True</td>\n",
       "      <td>...</td>\n",
       "      <td>False</td>\n",
       "      <td>False</td>\n",
       "      <td>False</td>\n",
       "      <td>False</td>\n",
       "      <td>False</td>\n",
       "      <td>False</td>\n",
       "      <td>False</td>\n",
       "      <td>False</td>\n",
       "      <td>False</td>\n",
       "      <td>False</td>\n",
       "    </tr>\n",
       "    <tr>\n",
       "      <th>1</th>\n",
       "      <td>2</td>\n",
       "      <td>GoldenEye (1995)</td>\n",
       "      <td>1995-01-01</td>\n",
       "      <td>http://us.imdb.com/M/title-exact?GoldenEye%20(...</td>\n",
       "      <td>False</td>\n",
       "      <td>True</td>\n",
       "      <td>True</td>\n",
       "      <td>False</td>\n",
       "      <td>False</td>\n",
       "      <td>False</td>\n",
       "      <td>...</td>\n",
       "      <td>False</td>\n",
       "      <td>False</td>\n",
       "      <td>False</td>\n",
       "      <td>False</td>\n",
       "      <td>False</td>\n",
       "      <td>False</td>\n",
       "      <td>False</td>\n",
       "      <td>True</td>\n",
       "      <td>False</td>\n",
       "      <td>False</td>\n",
       "    </tr>\n",
       "  </tbody>\n",
       "</table>\n",
       "<p>2 rows × 23 columns</p>\n",
       "</div>"
      ],
      "text/plain": [
       "   ITEM_ID             TITLE RELEASE_DATE  \\\n",
       "0        1  Toy Story (1995)   1995-01-01   \n",
       "1        2  GoldenEye (1995)   1995-01-01   \n",
       "\n",
       "                                            IMDB_URL  UNKNOWN_GENRE  ACTION  \\\n",
       "0  http://us.imdb.com/M/title-exact?Toy%20Story%2...          False   False   \n",
       "1  http://us.imdb.com/M/title-exact?GoldenEye%20(...          False    True   \n",
       "\n",
       "   ADVENTURE  ANIMATION  CHILDREN  COMEDY  ...  FANTASY  FILM_NOIR  HORROR  \\\n",
       "0      False       True      True    True  ...    False      False   False   \n",
       "1       True      False     False   False  ...    False      False   False   \n",
       "\n",
       "   MUSICAL  MYSTERY  ROMANCE  SCI_FI  THRILLER    WAR  WESTERN  \n",
       "0    False    False    False   False     False  False    False  \n",
       "1    False    False    False   False      True  False    False  \n",
       "\n",
       "[2 rows x 23 columns]"
      ]
     },
     "execution_count": 26,
     "metadata": {},
     "output_type": "execute_result"
    }
   ],
   "source": [
    "items_df.head(2)"
   ]
  }
 ],
 "metadata": {
  "kernelspec": {
   "display_name": "snowpark-de-ml",
   "language": "python",
   "name": "python3"
  },
  "language_info": {
   "codemirror_mode": {
    "name": "ipython",
    "version": 3
   },
   "file_extension": ".py",
   "mimetype": "text/x-python",
   "name": "python",
   "nbconvert_exporter": "python",
   "pygments_lexer": "ipython3",
   "version": "3.8.16"
  },
  "orig_nbformat": 4
 },
 "nbformat": 4,
 "nbformat_minor": 2
}
