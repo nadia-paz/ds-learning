{
 "cells": [
  {
   "cell_type": "code",
   "execution_count": 2,
   "id": "c54b90a5-5fc1-4c89-ae2e-bb62e529b33f",
   "metadata": {},
   "outputs": [],
   "source": [
    "import pandas as pd\n",
    "import numpy as np\n",
    "import src.acquire as ac"
   ]
  },
  {
   "cell_type": "code",
   "execution_count": 29,
   "id": "88527903-3394-4ff9-adfb-c882de5ca3f6",
   "metadata": {},
   "outputs": [],
   "source": [
    "df = ac.get_parsed_df()"
   ]
  },
  {
   "cell_type": "code",
   "execution_count": 5,
   "id": "7dcc737a-62af-4e21-b341-9d83e9ed377c",
   "metadata": {},
   "outputs": [
    {
     "name": "stdout",
     "output_type": "stream",
     "text": [
      "<class 'pandas.core.frame.DataFrame'>\n",
      "RangeIndex: 9332 entries, 0 to 9331\n",
      "Data columns (total 27 columns):\n",
      " #   Column        Non-Null Count  Dtype  \n",
      "---  ------        --------------  -----  \n",
      " 0   alert         59 non-null     object \n",
      " 1   cdi           329 non-null    float64\n",
      " 2   code          9332 non-null   object \n",
      " 3   detail        9332 non-null   object \n",
      " 4   dmin          6139 non-null   float64\n",
      " 5   felt          329 non-null    float64\n",
      " 6   gap           6164 non-null   float64\n",
      " 7   ids           9332 non-null   object \n",
      " 8   mag           9331 non-null   float64\n",
      " 9   magType       9331 non-null   object \n",
      " 10  mmi           93 non-null     float64\n",
      " 11  net           9332 non-null   object \n",
      " 12  nst           5364 non-null   float64\n",
      " 13  place         9332 non-null   object \n",
      " 14  rms           9332 non-null   float64\n",
      " 15  sig           9332 non-null   int64  \n",
      " 16  sources       9332 non-null   object \n",
      " 17  status        9332 non-null   object \n",
      " 18  time          9332 non-null   int64  \n",
      " 19  title         9332 non-null   object \n",
      " 20  tsunami       9332 non-null   int64  \n",
      " 21  type          9332 non-null   object \n",
      " 22  types         9332 non-null   object \n",
      " 23  tz            9331 non-null   float64\n",
      " 24  updated       9332 non-null   int64  \n",
      " 25  url           9332 non-null   object \n",
      " 26  parsed_place  9332 non-null   object \n",
      "dtypes: float64(9), int64(4), object(14)\n",
      "memory usage: 1.9+ MB\n"
     ]
    }
   ],
   "source": [
    "df.info()"
   ]
  },
  {
   "cell_type": "markdown",
   "id": "c4bd109c-13be-4cf4-8a65-857f60e3dc43",
   "metadata": {},
   "source": [
    "1. Find the 95th percentile of earthquake magnitude in Japan"
   ]
  },
  {
   "cell_type": "code",
   "execution_count": 12,
   "id": "8c8e71c6-8432-433f-95e4-e4f9712d475a",
   "metadata": {},
   "outputs": [],
   "source": [
    "jp = df[(df.place.str.contains('Japan')) & (df.magType == 'mb')]"
   ]
  },
  {
   "cell_type": "code",
   "execution_count": 17,
   "id": "5bb1a01f-bec5-48aa-b229-2fdbaa4560b9",
   "metadata": {},
   "outputs": [
    {
     "data": {
      "text/plain": [
       "4.9"
      ]
     },
     "execution_count": 17,
     "metadata": {},
     "output_type": "execute_result"
    }
   ],
   "source": [
    "jp.mag.quantile(0.95)"
   ]
  },
  {
   "cell_type": "markdown",
   "id": "504b45eb-594a-44ec-8d0f-33c4af8f767e",
   "metadata": {},
   "source": [
    "2. Find the percentage of earthquake in Indonesia that were coupled with tsunamis"
   ]
  },
  {
   "cell_type": "code",
   "execution_count": 22,
   "id": "90ddbb31-dc6b-4fb6-b251-1d7eeb15c22e",
   "metadata": {},
   "outputs": [],
   "source": [
    "indonesia = df[df.place.str.contains('Indonesia')]"
   ]
  },
  {
   "cell_type": "code",
   "execution_count": 24,
   "id": "25f69791-683e-4cb0-b3cf-82f7ac68169d",
   "metadata": {},
   "outputs": [
    {
     "data": {
      "text/plain": [
       "23.13"
      ]
     },
     "execution_count": 24,
     "metadata": {},
     "output_type": "execute_result"
    }
   ],
   "source": [
    "round(indonesia.tsunami.sum() / len(indonesia) * 100, 2)"
   ]
  },
  {
   "cell_type": "markdown",
   "id": "4f86cab9-760a-4e5b-b718-685492d72030",
   "metadata": {},
   "source": [
    "3. Get summary statistics for earthquakes in Nevada"
   ]
  },
  {
   "cell_type": "code",
   "execution_count": 30,
   "id": "154e58bb-488d-4759-b460-020401a08f04",
   "metadata": {},
   "outputs": [
    {
     "data": {
      "text/plain": [
       "4"
      ]
     },
     "execution_count": 30,
     "metadata": {},
     "output_type": "execute_result"
    }
   ],
   "source": [
    "df.place.str.contains('NV').sum()"
   ]
  },
  {
   "cell_type": "code",
   "execution_count": 31,
   "id": "4a88a8e7-f098-4ef2-b314-38e83ebecc81",
   "metadata": {},
   "outputs": [
    {
     "data": {
      "text/plain": [
       "677"
      ]
     },
     "execution_count": 31,
     "metadata": {},
     "output_type": "execute_result"
    }
   ],
   "source": [
    "df.place.str.contains('Nevada').sum()"
   ]
  },
  {
   "cell_type": "code",
   "execution_count": 34,
   "id": "a7cad11d-3255-4265-98bd-a779f994511a",
   "metadata": {},
   "outputs": [
    {
     "data": {
      "text/html": [
       "<div>\n",
       "<style scoped>\n",
       "    .dataframe tbody tr th:only-of-type {\n",
       "        vertical-align: middle;\n",
       "    }\n",
       "\n",
       "    .dataframe tbody tr th {\n",
       "        vertical-align: top;\n",
       "    }\n",
       "\n",
       "    .dataframe thead th {\n",
       "        text-align: right;\n",
       "    }\n",
       "</style>\n",
       "<table border=\"1\" class=\"dataframe\">\n",
       "  <thead>\n",
       "    <tr style=\"text-align: right;\">\n",
       "      <th></th>\n",
       "      <th>cdi</th>\n",
       "      <th>dmin</th>\n",
       "      <th>felt</th>\n",
       "      <th>gap</th>\n",
       "      <th>mag</th>\n",
       "      <th>mmi</th>\n",
       "      <th>nst</th>\n",
       "      <th>rms</th>\n",
       "      <th>sig</th>\n",
       "      <th>time</th>\n",
       "      <th>tsunami</th>\n",
       "      <th>tz</th>\n",
       "      <th>updated</th>\n",
       "    </tr>\n",
       "  </thead>\n",
       "  <tbody>\n",
       "    <tr>\n",
       "      <th>count</th>\n",
       "      <td>15.000000</td>\n",
       "      <td>681.000000</td>\n",
       "      <td>15.000000</td>\n",
       "      <td>681.000000</td>\n",
       "      <td>681.000000</td>\n",
       "      <td>1.00</td>\n",
       "      <td>681.000000</td>\n",
       "      <td>681.000000</td>\n",
       "      <td>681.000000</td>\n",
       "      <td>6.810000e+02</td>\n",
       "      <td>681.0</td>\n",
       "      <td>681.0</td>\n",
       "      <td>6.810000e+02</td>\n",
       "    </tr>\n",
       "    <tr>\n",
       "      <th>mean</th>\n",
       "      <td>2.440000</td>\n",
       "      <td>0.166199</td>\n",
       "      <td>2.400000</td>\n",
       "      <td>153.668120</td>\n",
       "      <td>0.500073</td>\n",
       "      <td>2.84</td>\n",
       "      <td>12.618209</td>\n",
       "      <td>0.151986</td>\n",
       "      <td>10.970631</td>\n",
       "      <td>1.538314e+12</td>\n",
       "      <td>0.0</td>\n",
       "      <td>-480.0</td>\n",
       "      <td>1.538402e+12</td>\n",
       "    </tr>\n",
       "    <tr>\n",
       "      <th>std</th>\n",
       "      <td>0.501142</td>\n",
       "      <td>0.166228</td>\n",
       "      <td>4.626013</td>\n",
       "      <td>68.735302</td>\n",
       "      <td>0.696710</td>\n",
       "      <td>NaN</td>\n",
       "      <td>9.866963</td>\n",
       "      <td>0.084662</td>\n",
       "      <td>19.607150</td>\n",
       "      <td>5.965637e+08</td>\n",
       "      <td>0.0</td>\n",
       "      <td>0.0</td>\n",
       "      <td>6.010951e+08</td>\n",
       "    </tr>\n",
       "    <tr>\n",
       "      <th>min</th>\n",
       "      <td>2.000000</td>\n",
       "      <td>0.001000</td>\n",
       "      <td>1.000000</td>\n",
       "      <td>29.140000</td>\n",
       "      <td>-0.500000</td>\n",
       "      <td>2.84</td>\n",
       "      <td>3.000000</td>\n",
       "      <td>0.000500</td>\n",
       "      <td>0.000000</td>\n",
       "      <td>1.537247e+12</td>\n",
       "      <td>0.0</td>\n",
       "      <td>-480.0</td>\n",
       "      <td>1.537307e+12</td>\n",
       "    </tr>\n",
       "    <tr>\n",
       "      <th>25%</th>\n",
       "      <td>2.000000</td>\n",
       "      <td>0.053000</td>\n",
       "      <td>1.000000</td>\n",
       "      <td>97.380000</td>\n",
       "      <td>-0.100000</td>\n",
       "      <td>2.84</td>\n",
       "      <td>6.000000</td>\n",
       "      <td>0.106900</td>\n",
       "      <td>0.000000</td>\n",
       "      <td>1.537854e+12</td>\n",
       "      <td>0.0</td>\n",
       "      <td>-480.0</td>\n",
       "      <td>1.537928e+12</td>\n",
       "    </tr>\n",
       "    <tr>\n",
       "      <th>50%</th>\n",
       "      <td>2.200000</td>\n",
       "      <td>0.112000</td>\n",
       "      <td>1.000000</td>\n",
       "      <td>149.140000</td>\n",
       "      <td>0.400000</td>\n",
       "      <td>2.84</td>\n",
       "      <td>10.000000</td>\n",
       "      <td>0.146300</td>\n",
       "      <td>2.000000</td>\n",
       "      <td>1.538280e+12</td>\n",
       "      <td>0.0</td>\n",
       "      <td>-480.0</td>\n",
       "      <td>1.538428e+12</td>\n",
       "    </tr>\n",
       "    <tr>\n",
       "      <th>75%</th>\n",
       "      <td>2.900000</td>\n",
       "      <td>0.233000</td>\n",
       "      <td>1.000000</td>\n",
       "      <td>199.720000</td>\n",
       "      <td>0.900000</td>\n",
       "      <td>2.84</td>\n",
       "      <td>16.000000</td>\n",
       "      <td>0.187100</td>\n",
       "      <td>12.000000</td>\n",
       "      <td>1.538821e+12</td>\n",
       "      <td>0.0</td>\n",
       "      <td>-480.0</td>\n",
       "      <td>1.538878e+12</td>\n",
       "    </tr>\n",
       "    <tr>\n",
       "      <th>max</th>\n",
       "      <td>3.300000</td>\n",
       "      <td>1.414000</td>\n",
       "      <td>19.000000</td>\n",
       "      <td>355.910000</td>\n",
       "      <td>2.900000</td>\n",
       "      <td>2.84</td>\n",
       "      <td>61.000000</td>\n",
       "      <td>0.863400</td>\n",
       "      <td>129.000000</td>\n",
       "      <td>1.539461e+12</td>\n",
       "      <td>0.0</td>\n",
       "      <td>-480.0</td>\n",
       "      <td>1.539483e+12</td>\n",
       "    </tr>\n",
       "  </tbody>\n",
       "</table>\n",
       "</div>"
      ],
      "text/plain": [
       "             cdi        dmin       felt         gap         mag   mmi  \\\n",
       "count  15.000000  681.000000  15.000000  681.000000  681.000000  1.00   \n",
       "mean    2.440000    0.166199   2.400000  153.668120    0.500073  2.84   \n",
       "std     0.501142    0.166228   4.626013   68.735302    0.696710   NaN   \n",
       "min     2.000000    0.001000   1.000000   29.140000   -0.500000  2.84   \n",
       "25%     2.000000    0.053000   1.000000   97.380000   -0.100000  2.84   \n",
       "50%     2.200000    0.112000   1.000000  149.140000    0.400000  2.84   \n",
       "75%     2.900000    0.233000   1.000000  199.720000    0.900000  2.84   \n",
       "max     3.300000    1.414000  19.000000  355.910000    2.900000  2.84   \n",
       "\n",
       "              nst         rms         sig          time  tsunami     tz  \\\n",
       "count  681.000000  681.000000  681.000000  6.810000e+02    681.0  681.0   \n",
       "mean    12.618209    0.151986   10.970631  1.538314e+12      0.0 -480.0   \n",
       "std      9.866963    0.084662   19.607150  5.965637e+08      0.0    0.0   \n",
       "min      3.000000    0.000500    0.000000  1.537247e+12      0.0 -480.0   \n",
       "25%      6.000000    0.106900    0.000000  1.537854e+12      0.0 -480.0   \n",
       "50%     10.000000    0.146300    2.000000  1.538280e+12      0.0 -480.0   \n",
       "75%     16.000000    0.187100   12.000000  1.538821e+12      0.0 -480.0   \n",
       "max     61.000000    0.863400  129.000000  1.539461e+12      0.0 -480.0   \n",
       "\n",
       "            updated  \n",
       "count  6.810000e+02  \n",
       "mean   1.538402e+12  \n",
       "std    6.010951e+08  \n",
       "min    1.537307e+12  \n",
       "25%    1.537928e+12  \n",
       "50%    1.538428e+12  \n",
       "75%    1.538878e+12  \n",
       "max    1.539483e+12  "
      ]
     },
     "execution_count": 34,
     "metadata": {},
     "output_type": "execute_result"
    }
   ],
   "source": [
    "df[df.place.str.contains('NV') | df.place.str.contains('Nevada')].describe()"
   ]
  },
  {
   "cell_type": "markdown",
   "id": "7a2abc5e-db54-476f-8cc4-928b06c61337",
   "metadata": {},
   "source": [
    "4. Add a column indicating whether or not the earthquake happen in a country or US state that is on the Ring of Fire"
   ]
  },
  {
   "cell_type": "code",
   "execution_count": 35,
   "id": "5f073e46-a7d1-4afc-afa9-4f2d07074b6b",
   "metadata": {},
   "outputs": [
    {
     "data": {
      "text/plain": [
       "0                  M 1.4 - 9km NE of Aguanga, CA\n",
       "1                  M 1.3 - 9km NE of Aguanga, CA\n",
       "2                  M 3.4 - 8km NE of Aguanga, CA\n",
       "3                  M 0.4 - 9km NE of Aguanga, CA\n",
       "4                  M 2.2 - 10km NW of Avenal, CA\n",
       "                          ...                   \n",
       "9327        M 0.6 - 9km ENE of Mammoth Lakes, CA\n",
       "9328                 M 1.0 - 3km W of Julian, CA\n",
       "9329    M 2.4 - 35km NNE of Hatillo, Puerto Rico\n",
       "9330               M 1.1 - 9km NE of Aguanga, CA\n",
       "9331               M 0.7 - 9km NE of Aguanga, CA\n",
       "Name: title, Length: 9332, dtype: object"
      ]
     },
     "execution_count": 35,
     "metadata": {},
     "output_type": "execute_result"
    }
   ],
   "source": [
    "df.title"
   ]
  },
  {
   "cell_type": "code",
   "execution_count": 36,
   "id": "1d5339a4-4a73-4314-a176-ebe85e4a0057",
   "metadata": {},
   "outputs": [
    {
     "data": {
      "text/plain": [
       "0                  9km NE of Aguanga, CA\n",
       "1                  9km NE of Aguanga, CA\n",
       "2                  8km NE of Aguanga, CA\n",
       "3                  9km NE of Aguanga, CA\n",
       "4                  10km NW of Avenal, CA\n",
       "                      ...               \n",
       "9327        9km ENE of Mammoth Lakes, CA\n",
       "9328                 3km W of Julian, CA\n",
       "9329    35km NNE of Hatillo, Puerto Rico\n",
       "9330               9km NE of Aguanga, CA\n",
       "9331               9km NE of Aguanga, CA\n",
       "Name: place, Length: 9332, dtype: object"
      ]
     },
     "execution_count": 36,
     "metadata": {},
     "output_type": "execute_result"
    }
   ],
   "source": [
    "df.place"
   ]
  },
  {
   "cell_type": "code",
   "execution_count": 48,
   "id": "d6be643e-44f2-4a26-86b0-84b101ff5a11",
   "metadata": {},
   "outputs": [
    {
     "data": {
      "text/plain": [
       "array(['Afghanistan', 'Alaska', 'Argentina', 'Arizona', 'Arkansas',\n",
       "       'Australia', 'Azerbaijan', 'B.C., MX', 'Barbuda', 'Bolivia',\n",
       "       'Bonaire, Saint Eustatius and Saba ', 'British Virgin Islands',\n",
       "       'Burma', 'CA', 'California', 'Canada', 'Chile', 'China',\n",
       "       'Christmas Island', 'Colombia', 'Colorado', 'Costa Rica',\n",
       "       'Dominican Republic', 'East Timor', 'Ecuador', 'Ecuador region',\n",
       "       'El Salvador', 'Fiji', 'Greece', 'Greenland', 'Guam', 'Guatemala',\n",
       "       'Haiti', 'Hawaii', 'Honduras', 'Idaho', 'Illinois', 'India',\n",
       "       'Indonesia', 'Iran', 'Iraq', 'Italy', 'Jamaica', 'Japan', 'Kansas',\n",
       "       'Kentucky', 'Kyrgyzstan', 'Martinique', 'Mauritius', 'Mayotte',\n",
       "       'Mexico', 'Missouri', 'Montana', 'NV', 'Nevada', 'New Caledonia',\n",
       "       'New Hampshire', 'New Mexico', 'New Zealand', 'Nicaragua',\n",
       "       'North Carolina', 'Northern Mariana Islands', 'Oklahoma', 'Oregon',\n",
       "       'Pakistan', 'Papua New Guinea', 'Peru', 'Philippines',\n",
       "       'Puerto Rico', 'Romania', 'Russia', 'Saint Helena',\n",
       "       'Solomon Islands', 'Somalia', 'South Africa', 'South Carolina',\n",
       "       'South Georgia and the South Sandwich Islands',\n",
       "       'South Sandwich Islands', 'Taiwan', 'Tajikistan', 'Tennessee',\n",
       "       'Texas', 'Tonga', 'Turkey', 'U.S. Virgin Islands', 'Utah',\n",
       "       'Uzbekistan', 'Vanuatu', 'Vermont', 'Washington', 'Wyoming',\n",
       "       'Yemen', nan], dtype=object)"
      ]
     },
     "execution_count": 48,
     "metadata": {},
     "output_type": "execute_result"
    }
   ],
   "source": [
    "df.place.str.extract(r', (.*$)')[0].sort_values().unique()"
   ]
  },
  {
   "cell_type": "code",
   "execution_count": 116,
   "id": "79ee0790-5f69-42f7-b6b7-c986aeb4a342",
   "metadata": {},
   "outputs": [],
   "source": [
    "df['state'] = df.place.str.replace(\n",
    "    r'CA$', 'California', regex=True\n",
    ").str.replace( \n",
    "    r'.* of ', '', regex=True # removes '* of ' f.e. South of Fiji Islands\n",
    ").str.replace(\n",
    "    'the ', '' # remove 'the '\n",
    ").str.replace(\n",
    "    'northern ', ''\n",
    ").str.replace(\n",
    "    r' region$', '', regex=True\n",
    ").str.replace(\n",
    "    'Fiji Islands', 'Fiji'\n",
    ").str.replace(\n",
    "    r'MX$', 'Mexico', regex=True\n",
    ").str.replace(\n",
    "    r'NV$', 'Nevada', regex=True\n",
    ").str.replace(\n",
    "    r'^.*, ', '', regex=True # every character in the beginning of the string before ', '  including ', '\n",
    ").str.strip()"
   ]
  },
  {
   "cell_type": "code",
   "execution_count": 117,
   "id": "779c84ca-c686-4c60-be7c-31610815da87",
   "metadata": {},
   "outputs": [
    {
     "data": {
      "text/plain": [
       "0"
      ]
     },
     "execution_count": 117,
     "metadata": {},
     "output_type": "execute_result"
    }
   ],
   "source": [
    "(df.parsed_place != df.state).sum()"
   ]
  },
  {
   "cell_type": "code",
   "execution_count": 118,
   "id": "70095db2-77df-460b-8e33-39e1327e67c3",
   "metadata": {},
   "outputs": [
    {
     "data": {
      "text/html": [
       "<div>\n",
       "<style scoped>\n",
       "    .dataframe tbody tr th:only-of-type {\n",
       "        vertical-align: middle;\n",
       "    }\n",
       "\n",
       "    .dataframe tbody tr th {\n",
       "        vertical-align: top;\n",
       "    }\n",
       "\n",
       "    .dataframe thead th {\n",
       "        text-align: right;\n",
       "    }\n",
       "</style>\n",
       "<table border=\"1\" class=\"dataframe\">\n",
       "  <thead>\n",
       "    <tr style=\"text-align: right;\">\n",
       "      <th></th>\n",
       "      <th>title</th>\n",
       "      <th>place</th>\n",
       "      <th>parsed_place</th>\n",
       "      <th>state</th>\n",
       "    </tr>\n",
       "  </thead>\n",
       "  <tbody>\n",
       "  </tbody>\n",
       "</table>\n",
       "</div>"
      ],
      "text/plain": [
       "Empty DataFrame\n",
       "Columns: [title, place, parsed_place, state]\n",
       "Index: []"
      ]
     },
     "metadata": {},
     "output_type": "display_data"
    }
   ],
   "source": [
    "# set options to display the entire dataframe only once\n",
    "# look where I parced the sting incorrect\n",
    "with pd.option_context('display.max_rows', None,\n",
    "                       'display.max_columns', None,\n",
    "                       'display.precision', 3,\n",
    "                       ):\n",
    "    display(df[df.parsed_place != df.state].loc[:, ['title', 'place', 'parsed_place', 'state']])"
   ]
  },
  {
   "cell_type": "code",
   "execution_count": 119,
   "id": "c930d95f-c6f8-4e5a-87bd-d3373966bf6d",
   "metadata": {},
   "outputs": [],
   "source": [
    "# no more parsing errors"
   ]
  },
  {
   "cell_type": "code",
   "execution_count": 120,
   "id": "e5e9d712-ab0a-401e-b734-0b7b454830aa",
   "metadata": {},
   "outputs": [],
   "source": [
    "try:\n",
    "    del df['parsed_place']\n",
    "except KeyError:\n",
    "    print('the column doesn\\'t exist')"
   ]
  },
  {
   "cell_type": "code",
   "execution_count": 127,
   "id": "4a3d1dbf-e1d6-4dcc-8f7a-10aa72282a69",
   "metadata": {},
   "outputs": [
    {
     "data": {
      "text/plain": [
       "array(['Afghanistan', 'Alaska', 'Argentina', 'Arizona', 'Arkansas',\n",
       "       'Ascension Island', 'Australia', 'Azerbaijan', 'Balleny Islands',\n",
       "       'Barbuda', 'Bolivia', 'British Virgin Islands', 'Burma',\n",
       "       'California', 'Canada', 'Carlsberg Ridge',\n",
       "       'Central East Pacific Rise', 'Central Mid-Atlantic Ridge', 'Chile',\n",
       "       'China', 'Christmas Island', 'Colombia', 'Colorado', 'Costa Rica',\n",
       "       'Dominican Republic', 'East Timor', 'Ecuador', 'El Salvador',\n",
       "       'Fiji', 'Greece', 'Greenland', 'Guam', 'Guatemala', 'Haiti',\n",
       "       'Hawaii', 'Honduras', 'Idaho', 'Illinois', 'India',\n",
       "       'Indian Ocean Triple Junction', 'Indonesia', 'Iran', 'Iraq',\n",
       "       'Italy', 'Jamaica', 'Japan', 'Kansas', 'Kentucky',\n",
       "       'Kermadec Islands', 'Kuril Islands', 'Kyrgyzstan', 'Martinique',\n",
       "       'Mauritius', 'Mayotte', 'Mexico', 'Mid-Indian Ridge', 'Missouri',\n",
       "       'Montana', 'Nevada', 'New Caledonia', 'New Hampshire',\n",
       "       'New Mexico', 'New Zealand', 'Nicaragua', 'North Carolina',\n",
       "       'Northern East Pacific Rise', 'Northern Mariana Islands',\n",
       "       'Northern Mid-Atlantic Ridge', 'Oklahoma', 'Oregon',\n",
       "       'Pacific-Antarctic Ridge', 'Pakistan', 'Papua New Guinea', 'Peru',\n",
       "       'Philippines', 'Prince Edward Islands', 'Puerto Rico',\n",
       "       'Queen Charlotte Islands', 'Romania', 'Russia',\n",
       "       'Saint Eustatius and Saba', 'Saint Helena', 'Socotra',\n",
       "       'Solomon Islands', 'Somalia', 'South Africa', 'South Carolina',\n",
       "       'South Georgia and South Sandwich Islands',\n",
       "       'South Sandwich Islands', 'Southeast Indian Ridge',\n",
       "       'Southern East Pacific Rise', 'Southern Mid-Atlantic Ridge',\n",
       "       'Southwest Indian Ridge', 'Sumatra', 'Taiwan', 'Tajikistan',\n",
       "       'Tennessee', 'Texas', 'Tonga', 'Turkey', 'U.S. Virgin Islands',\n",
       "       'Utah', 'Uzbekistan', 'Vanuatu', 'Vermont', 'Washington',\n",
       "       'Western Indian-Antarctic Ridge', 'Western Xizang', 'Wyoming',\n",
       "       'Yemen'], dtype=object)"
      ]
     },
     "execution_count": 127,
     "metadata": {},
     "output_type": "execute_result"
    }
   ],
   "source": [
    "df.state.sort_values().unique()"
   ]
  },
  {
   "cell_type": "code",
   "execution_count": 124,
   "id": "0c115b53-808c-4840-bf5a-4b3ed5ee166e",
   "metadata": {},
   "outputs": [
    {
     "data": {
      "text/plain": [
       "Afghanistan                                    6\n",
       "Alaska                                      3665\n",
       "Argentina                                     11\n",
       "Arizona                                        2\n",
       "Arkansas                                       3\n",
       "Ascension Island                               2\n",
       "Australia                                      1\n",
       "Azerbaijan                                     2\n",
       "Balleny Islands                                1\n",
       "Barbuda                                        1\n",
       "Bolivia                                        4\n",
       "British Virgin Islands                        21\n",
       "Burma                                          2\n",
       "California                                  2861\n",
       "Canada                                        55\n",
       "Carlsberg Ridge                                2\n",
       "Central East Pacific Rise                      1\n",
       "Central Mid-Atlantic Ridge                     1\n",
       "Chile                                         31\n",
       "China                                          8\n",
       "Christmas Island                               1\n",
       "Colombia                                       8\n",
       "Colorado                                       1\n",
       "Costa Rica                                     1\n",
       "Dominican Republic                            57\n",
       "East Timor                                     3\n",
       "Ecuador                                        3\n",
       "El Salvador                                    2\n",
       "Fiji                                          61\n",
       "Greece                                         8\n",
       "Greenland                                      1\n",
       "Guam                                           3\n",
       "Guatemala                                      2\n",
       "Haiti                                          3\n",
       "Hawaii                                       367\n",
       "Honduras                                       1\n",
       "Idaho                                         71\n",
       "Illinois                                       1\n",
       "India                                          2\n",
       "Indian Ocean Triple Junction                  16\n",
       "Indonesia                                    147\n",
       "Iran                                          16\n",
       "Iraq                                           1\n",
       "Italy                                          3\n",
       "Jamaica                                        1\n",
       "Japan                                         57\n",
       "Kansas                                        23\n",
       "Kentucky                                       2\n",
       "Kermadec Islands                               2\n",
       "Kuril Islands                                  4\n",
       "Kyrgyzstan                                     1\n",
       "Martinique                                     1\n",
       "Mauritius                                      1\n",
       "Mayotte                                        2\n",
       "Mexico                                        38\n",
       "Mid-Indian Ridge                               2\n",
       "Missouri                                      11\n",
       "Montana                                      204\n",
       "Nevada                                       681\n",
       "New Caledonia                                  9\n",
       "New Hampshire                                  1\n",
       "New Mexico                                     1\n",
       "New Zealand                                   13\n",
       "Nicaragua                                      4\n",
       "North Carolina                                 1\n",
       "Northern East Pacific Rise                     2\n",
       "Northern Mariana Islands                       4\n",
       "Northern Mid-Atlantic Ridge                    2\n",
       "Oklahoma                                      37\n",
       "Oregon                                        27\n",
       "Pacific-Antarctic Ridge                        3\n",
       "Pakistan                                       2\n",
       "Papua New Guinea                              34\n",
       "Peru                                          14\n",
       "Philippines                                   21\n",
       "Prince Edward Islands                          1\n",
       "Puerto Rico                                  216\n",
       "Queen Charlotte Islands                        1\n",
       "Romania                                        1\n",
       "Russia                                        33\n",
       "Saint Eustatius and Saba                       1\n",
       "Saint Helena                                   3\n",
       "Socotra                                        1\n",
       "Solomon Islands                                9\n",
       "Somalia                                        1\n",
       "South Africa                                   2\n",
       "South Carolina                                 1\n",
       "South Georgia and South Sandwich Islands       5\n",
       "South Sandwich Islands                         6\n",
       "Southeast Indian Ridge                         1\n",
       "Southern East Pacific Rise                     2\n",
       "Southern Mid-Atlantic Ridge                    3\n",
       "Southwest Indian Ridge                         5\n",
       "Sumatra                                        1\n",
       "Taiwan                                         2\n",
       "Tajikistan                                     4\n",
       "Tennessee                                     30\n",
       "Texas                                          1\n",
       "Tonga                                         17\n",
       "Turkey                                         2\n",
       "U.S. Virgin Islands                           31\n",
       "Utah                                          67\n",
       "Uzbekistan                                     1\n",
       "Vanuatu                                       17\n",
       "Vermont                                        1\n",
       "Washington                                   157\n",
       "Western Indian-Antarctic Ridge                 1\n",
       "Western Xizang                                 1\n",
       "Wyoming                                       42\n",
       "Yemen                                          1\n",
       "Name: state, dtype: int64"
      ]
     },
     "metadata": {},
     "output_type": "display_data"
    }
   ],
   "source": [
    "with pd.option_context('display.max_rows', None):\n",
    "    display(df.state.value_counts().sort_index())"
   ]
  },
  {
   "cell_type": "code",
   "execution_count": 131,
   "id": "92cc7bc5-10f2-4163-b05b-9b9dcf8a5523",
   "metadata": {},
   "outputs": [
    {
     "data": {
      "text/plain": [
       "array(['Pacific-Antarctic Ridge', 'Western Indian-Antarctic Ridge'],\n",
       "      dtype=object)"
      ]
     },
     "execution_count": 131,
     "metadata": {},
     "output_type": "execute_result"
    }
   ],
   "source": [
    "df[df.state.str.contains('Antarctic')].state.unique()"
   ]
  },
  {
   "cell_type": "code",
   "execution_count": 134,
   "id": "8e7f956a-e3b3-412a-b3fd-1bf833067269",
   "metadata": {},
   "outputs": [],
   "source": [
    "# creat a list that holds all names of areas of Ring of Fire\n",
    "rf = ['Bolivia', 'Chile', 'Ecuador', 'Peru', 'Costa Rica', 'Guatemala',\n",
    "           'Mexico', 'Japan', 'Philippines', 'Indonesia', 'New Zealand', 'Pacific-Antarctic Ridge', 'Western Indian-Antarctic Ridge', \n",
    "           'Canada', 'Fiji', 'Alaska', 'Washington', 'California', 'Russia', 'Taiwan', 'Tonga', 'Kermandic']"
   ]
  },
  {
   "cell_type": "code",
   "execution_count": 135,
   "id": "508f4a93-08f5-41ce-a364-339e65d38cc3",
   "metadata": {},
   "outputs": [],
   "source": [
    "df['is_rf'] = df.state.isin(rf)"
   ]
  },
  {
   "cell_type": "code",
   "execution_count": 138,
   "id": "11da0fe6-84c7-474c-8cd0-03f59a4ea5cd",
   "metadata": {},
   "outputs": [
    {
     "data": {
      "text/plain": [
       "9016    False\n",
       "Name: is_rf, dtype: bool"
      ]
     },
     "execution_count": 138,
     "metadata": {},
     "output_type": "execute_result"
    }
   ],
   "source": [
    "# check if New Mexico accidentially is True\n",
    "df[df.state == 'New Mexico'].is_rf == True"
   ]
  },
  {
   "cell_type": "markdown",
   "id": "0417a661-75fb-43ae-a05c-081bab3bb939",
   "metadata": {},
   "source": [
    "5. Calculate the number of earthquakes in the Ring of Fire locations and the number outside them"
   ]
  },
  {
   "cell_type": "code",
   "execution_count": 140,
   "id": "7bb18a2e-3dde-48a5-ba2b-c71f87adfe4a",
   "metadata": {},
   "outputs": [
    {
     "data": {
      "text/plain": [
       "7186"
      ]
     },
     "execution_count": 140,
     "metadata": {},
     "output_type": "execute_result"
    }
   ],
   "source": [
    "# in the ring of fire\n",
    "df.is_rf.sum()"
   ]
  },
  {
   "cell_type": "code",
   "execution_count": 142,
   "id": "ea791d67-cc39-446e-bbfd-a9afd2760f2b",
   "metadata": {},
   "outputs": [
    {
     "data": {
      "text/plain": [
       "2146"
      ]
     },
     "execution_count": 142,
     "metadata": {},
     "output_type": "execute_result"
    }
   ],
   "source": [
    "# not in the ring of fire\n",
    "(~df.is_rf).sum()"
   ]
  },
  {
   "cell_type": "code",
   "execution_count": 144,
   "id": "5474fe54-72ab-40e1-b254-c460bfb1a549",
   "metadata": {},
   "outputs": [
    {
     "data": {
      "text/plain": [
       "True"
      ]
     },
     "execution_count": 144,
     "metadata": {},
     "output_type": "execute_result"
    }
   ],
   "source": [
    "# check if the sums are equal to the total number of the earthquakes\n",
    "df.is_rf.sum() + (~df.is_rf).sum() == len(df)"
   ]
  },
  {
   "cell_type": "markdown",
   "id": "9cd730d5-3b5a-4819-8fcb-116aace20694",
   "metadata": {},
   "source": [
    "6. Count the tsunami count along the Ring of Fire"
   ]
  },
  {
   "cell_type": "code",
   "execution_count": 146,
   "id": "73b0c07b-20fd-41cf-96ef-0b7f33ee43a6",
   "metadata": {},
   "outputs": [
    {
     "data": {
      "text/plain": [
       "7186"
      ]
     },
     "execution_count": 146,
     "metadata": {},
     "output_type": "execute_result"
    }
   ],
   "source": [
    "len(df[df.is_rf])"
   ]
  },
  {
   "cell_type": "code",
   "execution_count": 147,
   "id": "a2ea2a67-26e5-4efb-ac18-76215dd00548",
   "metadata": {},
   "outputs": [
    {
     "data": {
      "text/plain": [
       "45"
      ]
     },
     "execution_count": 147,
     "metadata": {},
     "output_type": "execute_result"
    }
   ],
   "source": [
    "df[df.is_rf].tsunami.sum()"
   ]
  }
 ],
 "metadata": {
  "kernelspec": {
   "display_name": "Python 3 (ipykernel)",
   "language": "python",
   "name": "python3"
  },
  "language_info": {
   "codemirror_mode": {
    "name": "ipython",
    "version": 3
   },
   "file_extension": ".py",
   "mimetype": "text/x-python",
   "name": "python",
   "nbconvert_exporter": "python",
   "pygments_lexer": "ipython3",
   "version": "3.9.12"
  }
 },
 "nbformat": 4,
 "nbformat_minor": 5
}
