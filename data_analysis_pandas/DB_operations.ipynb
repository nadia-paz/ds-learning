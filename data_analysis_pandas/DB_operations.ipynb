{
 "cells": [
  {
   "attachments": {},
   "cell_type": "markdown",
   "metadata": {},
   "source": [
    "#### Database operations in Pandas"
   ]
  },
  {
   "cell_type": "code",
   "execution_count": 1,
   "metadata": {},
   "outputs": [],
   "source": [
    "import pandas as pd"
   ]
  },
  {
   "attachments": {},
   "cell_type": "markdown",
   "metadata": {},
   "source": [
    "__Query__"
   ]
  },
  {
   "cell_type": "code",
   "execution_count": 2,
   "metadata": {},
   "outputs": [],
   "source": [
    "# load the data\n",
    "df = pd.read_csv('../datasets/nyc_weather_2018.csv')"
   ]
  },
  {
   "cell_type": "code",
   "execution_count": 3,
   "metadata": {},
   "outputs": [
    {
     "data": {
      "text/html": [
       "<div>\n",
       "<style scoped>\n",
       "    .dataframe tbody tr th:only-of-type {\n",
       "        vertical-align: middle;\n",
       "    }\n",
       "\n",
       "    .dataframe tbody tr th {\n",
       "        vertical-align: top;\n",
       "    }\n",
       "\n",
       "    .dataframe thead th {\n",
       "        text-align: right;\n",
       "    }\n",
       "</style>\n",
       "<table border=\"1\" class=\"dataframe\">\n",
       "  <thead>\n",
       "    <tr style=\"text-align: right;\">\n",
       "      <th></th>\n",
       "      <th>date</th>\n",
       "      <th>datatype</th>\n",
       "      <th>station</th>\n",
       "      <th>attributes</th>\n",
       "      <th>value</th>\n",
       "    </tr>\n",
       "  </thead>\n",
       "  <tbody>\n",
       "    <tr>\n",
       "      <th>0</th>\n",
       "      <td>2018-01-01T00:00:00</td>\n",
       "      <td>PRCP</td>\n",
       "      <td>GHCND:US1CTFR0039</td>\n",
       "      <td>,,N,</td>\n",
       "      <td>0.0</td>\n",
       "    </tr>\n",
       "    <tr>\n",
       "      <th>1</th>\n",
       "      <td>2018-01-01T00:00:00</td>\n",
       "      <td>PRCP</td>\n",
       "      <td>GHCND:US1NJBG0015</td>\n",
       "      <td>,,N,</td>\n",
       "      <td>0.0</td>\n",
       "    </tr>\n",
       "    <tr>\n",
       "      <th>2</th>\n",
       "      <td>2018-01-01T00:00:00</td>\n",
       "      <td>SNOW</td>\n",
       "      <td>GHCND:US1NJBG0015</td>\n",
       "      <td>,,N,</td>\n",
       "      <td>0.0</td>\n",
       "    </tr>\n",
       "    <tr>\n",
       "      <th>3</th>\n",
       "      <td>2018-01-01T00:00:00</td>\n",
       "      <td>PRCP</td>\n",
       "      <td>GHCND:US1NJBG0017</td>\n",
       "      <td>,,N,</td>\n",
       "      <td>0.0</td>\n",
       "    </tr>\n",
       "    <tr>\n",
       "      <th>4</th>\n",
       "      <td>2018-01-01T00:00:00</td>\n",
       "      <td>SNOW</td>\n",
       "      <td>GHCND:US1NJBG0017</td>\n",
       "      <td>,,N,</td>\n",
       "      <td>0.0</td>\n",
       "    </tr>\n",
       "  </tbody>\n",
       "</table>\n",
       "</div>"
      ],
      "text/plain": [
       "                  date datatype            station attributes  value\n",
       "0  2018-01-01T00:00:00     PRCP  GHCND:US1CTFR0039       ,,N,    0.0\n",
       "1  2018-01-01T00:00:00     PRCP  GHCND:US1NJBG0015       ,,N,    0.0\n",
       "2  2018-01-01T00:00:00     SNOW  GHCND:US1NJBG0015       ,,N,    0.0\n",
       "3  2018-01-01T00:00:00     PRCP  GHCND:US1NJBG0017       ,,N,    0.0\n",
       "4  2018-01-01T00:00:00     SNOW  GHCND:US1NJBG0017       ,,N,    0.0"
      ]
     },
     "execution_count": 3,
     "metadata": {},
     "output_type": "execute_result"
    }
   ],
   "source": [
    "df.head()"
   ]
  },
  {
   "cell_type": "code",
   "execution_count": 4,
   "metadata": {},
   "outputs": [],
   "source": [
    "'''\n",
    "SELECT *\n",
    "FROM weather\n",
    "WHERE datatype = 'SNOW' AND value > 0;\n",
    "'''\n",
    "# in pandas query use '==' unlike '=' in where clause of sql\n",
    "snow_data = df.query('datatype == \"SNOW\" and value > 0')"
   ]
  },
  {
   "cell_type": "code",
   "execution_count": 5,
   "metadata": {},
   "outputs": [
    {
     "data": {
      "text/html": [
       "<div>\n",
       "<style scoped>\n",
       "    .dataframe tbody tr th:only-of-type {\n",
       "        vertical-align: middle;\n",
       "    }\n",
       "\n",
       "    .dataframe tbody tr th {\n",
       "        vertical-align: top;\n",
       "    }\n",
       "\n",
       "    .dataframe thead th {\n",
       "        text-align: right;\n",
       "    }\n",
       "</style>\n",
       "<table border=\"1\" class=\"dataframe\">\n",
       "  <thead>\n",
       "    <tr style=\"text-align: right;\">\n",
       "      <th></th>\n",
       "      <th>date</th>\n",
       "      <th>datatype</th>\n",
       "      <th>station</th>\n",
       "      <th>attributes</th>\n",
       "      <th>value</th>\n",
       "    </tr>\n",
       "  </thead>\n",
       "  <tbody>\n",
       "    <tr>\n",
       "      <th>114</th>\n",
       "      <td>2018-01-01T00:00:00</td>\n",
       "      <td>SNOW</td>\n",
       "      <td>GHCND:US1NYWC0019</td>\n",
       "      <td>,,N,</td>\n",
       "      <td>25.0</td>\n",
       "    </tr>\n",
       "    <tr>\n",
       "      <th>699</th>\n",
       "      <td>2018-01-04T00:00:00</td>\n",
       "      <td>SNOW</td>\n",
       "      <td>GHCND:US1NJBG0015</td>\n",
       "      <td>,,N,</td>\n",
       "      <td>229.0</td>\n",
       "    </tr>\n",
       "    <tr>\n",
       "      <th>702</th>\n",
       "      <td>2018-01-04T00:00:00</td>\n",
       "      <td>SNOW</td>\n",
       "      <td>GHCND:US1NJBG0017</td>\n",
       "      <td>,,N,</td>\n",
       "      <td>10.0</td>\n",
       "    </tr>\n",
       "    <tr>\n",
       "      <th>706</th>\n",
       "      <td>2018-01-04T00:00:00</td>\n",
       "      <td>SNOW</td>\n",
       "      <td>GHCND:US1NJBG0018</td>\n",
       "      <td>,,N,</td>\n",
       "      <td>46.0</td>\n",
       "    </tr>\n",
       "    <tr>\n",
       "      <th>713</th>\n",
       "      <td>2018-01-04T00:00:00</td>\n",
       "      <td>SNOW</td>\n",
       "      <td>GHCND:US1NJES0018</td>\n",
       "      <td>,,N,</td>\n",
       "      <td>10.0</td>\n",
       "    </tr>\n",
       "  </tbody>\n",
       "</table>\n",
       "</div>"
      ],
      "text/plain": [
       "                    date datatype            station attributes  value\n",
       "114  2018-01-01T00:00:00     SNOW  GHCND:US1NYWC0019       ,,N,   25.0\n",
       "699  2018-01-04T00:00:00     SNOW  GHCND:US1NJBG0015       ,,N,  229.0\n",
       "702  2018-01-04T00:00:00     SNOW  GHCND:US1NJBG0017       ,,N,   10.0\n",
       "706  2018-01-04T00:00:00     SNOW  GHCND:US1NJBG0018       ,,N,   46.0\n",
       "713  2018-01-04T00:00:00     SNOW  GHCND:US1NJES0018       ,,N,   10.0"
      ]
     },
     "execution_count": 5,
     "metadata": {},
     "output_type": "execute_result"
    }
   ],
   "source": [
    "snow_data.head()"
   ]
  },
  {
   "cell_type": "code",
   "execution_count": 6,
   "metadata": {},
   "outputs": [
    {
     "data": {
      "text/plain": [
       "True"
      ]
     },
     "execution_count": 6,
     "metadata": {},
     "output_type": "execute_result"
    }
   ],
   "source": [
    "# compare the standard filtering vs query\n",
    "# query is preferable when the name of the data frame is pretty long\n",
    "df[(df.datatype == 'SNOW') & (df.value > 0)].equals(snow_data)"
   ]
  },
  {
   "attachments": {},
   "cell_type": "markdown",
   "metadata": {},
   "source": [
    "__Merging dataframes__"
   ]
  },
  {
   "cell_type": "code",
   "execution_count": 7,
   "metadata": {},
   "outputs": [
    {
     "data": {
      "text/html": [
       "<div>\n",
       "<style scoped>\n",
       "    .dataframe tbody tr th:only-of-type {\n",
       "        vertical-align: middle;\n",
       "    }\n",
       "\n",
       "    .dataframe tbody tr th {\n",
       "        vertical-align: top;\n",
       "    }\n",
       "\n",
       "    .dataframe thead th {\n",
       "        text-align: right;\n",
       "    }\n",
       "</style>\n",
       "<table border=\"1\" class=\"dataframe\">\n",
       "  <thead>\n",
       "    <tr style=\"text-align: right;\">\n",
       "      <th></th>\n",
       "      <th>id</th>\n",
       "      <th>name</th>\n",
       "      <th>latitude</th>\n",
       "      <th>longitude</th>\n",
       "      <th>elevation</th>\n",
       "    </tr>\n",
       "  </thead>\n",
       "  <tbody>\n",
       "    <tr>\n",
       "      <th>0</th>\n",
       "      <td>GHCND:US1CTFR0022</td>\n",
       "      <td>STAMFORD 2.6 SSW, CT US</td>\n",
       "      <td>41.064100</td>\n",
       "      <td>-73.577000</td>\n",
       "      <td>36.6</td>\n",
       "    </tr>\n",
       "    <tr>\n",
       "      <th>1</th>\n",
       "      <td>GHCND:US1CTFR0039</td>\n",
       "      <td>STAMFORD 4.2 S, CT US</td>\n",
       "      <td>41.037788</td>\n",
       "      <td>-73.568176</td>\n",
       "      <td>6.4</td>\n",
       "    </tr>\n",
       "    <tr>\n",
       "      <th>2</th>\n",
       "      <td>GHCND:US1NJBG0001</td>\n",
       "      <td>BERGENFIELD 0.3 SW, NJ US</td>\n",
       "      <td>40.921298</td>\n",
       "      <td>-74.001983</td>\n",
       "      <td>20.1</td>\n",
       "    </tr>\n",
       "    <tr>\n",
       "      <th>3</th>\n",
       "      <td>GHCND:US1NJBG0002</td>\n",
       "      <td>SADDLE BROOK TWP 0.6 E, NJ US</td>\n",
       "      <td>40.902694</td>\n",
       "      <td>-74.083358</td>\n",
       "      <td>16.8</td>\n",
       "    </tr>\n",
       "    <tr>\n",
       "      <th>4</th>\n",
       "      <td>GHCND:US1NJBG0003</td>\n",
       "      <td>TENAFLY 1.3 W, NJ US</td>\n",
       "      <td>40.914670</td>\n",
       "      <td>-73.977500</td>\n",
       "      <td>21.6</td>\n",
       "    </tr>\n",
       "  </tbody>\n",
       "</table>\n",
       "</div>"
      ],
      "text/plain": [
       "                  id                           name   latitude  longitude  \\\n",
       "0  GHCND:US1CTFR0022        STAMFORD 2.6 SSW, CT US  41.064100 -73.577000   \n",
       "1  GHCND:US1CTFR0039          STAMFORD 4.2 S, CT US  41.037788 -73.568176   \n",
       "2  GHCND:US1NJBG0001      BERGENFIELD 0.3 SW, NJ US  40.921298 -74.001983   \n",
       "3  GHCND:US1NJBG0002  SADDLE BROOK TWP 0.6 E, NJ US  40.902694 -74.083358   \n",
       "4  GHCND:US1NJBG0003           TENAFLY 1.3 W, NJ US  40.914670 -73.977500   \n",
       "\n",
       "   elevation  \n",
       "0       36.6  \n",
       "1        6.4  \n",
       "2       20.1  \n",
       "3       16.8  \n",
       "4       21.6  "
      ]
     },
     "execution_count": 7,
     "metadata": {},
     "output_type": "execute_result"
    }
   ],
   "source": [
    "stations_info = pd.read_csv('../datasets/weather_stations.csv')\n",
    "stations_info.head()"
   ]
  },
  {
   "cell_type": "code",
   "execution_count": 8,
   "metadata": {},
   "outputs": [
    {
     "data": {
      "text/plain": [
       "count                   279\n",
       "unique                  279\n",
       "top       GHCND:US1CTFR0022\n",
       "freq                      1\n",
       "Name: id, dtype: object"
      ]
     },
     "execution_count": 8,
     "metadata": {},
     "output_type": "execute_result"
    }
   ],
   "source": [
    "stations_info.id.describe()"
   ]
  },
  {
   "cell_type": "code",
   "execution_count": 9,
   "metadata": {},
   "outputs": [
    {
     "data": {
      "text/plain": [
       "count                 78780\n",
       "unique                  110\n",
       "top       GHCND:USW00094789\n",
       "freq                   4270\n",
       "Name: station, dtype: object"
      ]
     },
     "execution_count": 9,
     "metadata": {},
     "output_type": "execute_result"
    }
   ],
   "source": [
    "df.station.describe()"
   ]
  },
  {
   "cell_type": "code",
   "execution_count": 10,
   "metadata": {},
   "outputs": [
    {
     "data": {
      "text/plain": [
       "(78780, 279)"
      ]
     },
     "execution_count": 10,
     "metadata": {},
     "output_type": "execute_result"
    }
   ],
   "source": [
    "# check rows of the data frames\n",
    "df.shape[0], stations_info.shape[0]"
   ]
  },
  {
   "cell_type": "code",
   "execution_count": 11,
   "metadata": {},
   "outputs": [
    {
     "data": {
      "text/plain": [
       "[78780, 279]"
      ]
     },
     "execution_count": 11,
     "metadata": {},
     "output_type": "execute_result"
    }
   ],
   "source": [
    "# star doesn't limit to 1 data frame and allows to pass as many as we need\n",
    "def get_row_count(*dfs):\n",
    "    return [df.shape[0] for df in dfs]\n",
    "get_row_count(df, stations_info)"
   ]
  },
  {
   "cell_type": "code",
   "execution_count": 12,
   "metadata": {},
   "outputs": [
    {
     "data": {
      "text/plain": [
       "[(78780, 5), (279, 5)]"
      ]
     },
     "execution_count": 12,
     "metadata": {},
     "output_type": "execute_result"
    }
   ],
   "source": [
    "# more efficient function\n",
    "def get_info(attr: str, *dfs):\n",
    "    ''' \n",
    "    attr: data frame attribute\n",
    "    dfs: data frames\n",
    "    returns: list with the attribute information\n",
    "    '''\n",
    "    return list(map(lambda x: getattr(x, attr), dfs))\n",
    "\n",
    "get_info('shape', df, stations_info)"
   ]
  },
  {
   "cell_type": "code",
   "execution_count": 13,
   "metadata": {},
   "outputs": [
    {
     "data": {
      "text/html": [
       "<div>\n",
       "<style scoped>\n",
       "    .dataframe tbody tr th:only-of-type {\n",
       "        vertical-align: middle;\n",
       "    }\n",
       "\n",
       "    .dataframe tbody tr th {\n",
       "        vertical-align: top;\n",
       "    }\n",
       "\n",
       "    .dataframe thead th {\n",
       "        text-align: right;\n",
       "    }\n",
       "</style>\n",
       "<table border=\"1\" class=\"dataframe\">\n",
       "  <thead>\n",
       "    <tr style=\"text-align: right;\">\n",
       "      <th></th>\n",
       "      <th>date</th>\n",
       "      <th>datatype</th>\n",
       "      <th>station</th>\n",
       "      <th>attributes</th>\n",
       "      <th>value</th>\n",
       "      <th>id</th>\n",
       "      <th>name</th>\n",
       "      <th>latitude</th>\n",
       "      <th>longitude</th>\n",
       "      <th>elevation</th>\n",
       "    </tr>\n",
       "  </thead>\n",
       "  <tbody>\n",
       "    <tr>\n",
       "      <th>27644</th>\n",
       "      <td>2018-06-13T00:00:00</td>\n",
       "      <td>WESF</td>\n",
       "      <td>GHCND:US1NYWC0018</td>\n",
       "      <td>,,N,</td>\n",
       "      <td>0.0</td>\n",
       "      <td>GHCND:US1NYWC0018</td>\n",
       "      <td>ARMONK 0.3 SE, NY US</td>\n",
       "      <td>41.12996</td>\n",
       "      <td>-73.708161</td>\n",
       "      <td>117.3</td>\n",
       "    </tr>\n",
       "    <tr>\n",
       "      <th>60972</th>\n",
       "      <td>2018-05-22T00:00:00</td>\n",
       "      <td>WSF2</td>\n",
       "      <td>GHCND:USW00094741</td>\n",
       "      <td>,,W,</td>\n",
       "      <td>5.8</td>\n",
       "      <td>GHCND:USW00094741</td>\n",
       "      <td>TETERBORO AIRPORT, NJ US</td>\n",
       "      <td>40.85000</td>\n",
       "      <td>-74.061390</td>\n",
       "      <td>2.7</td>\n",
       "    </tr>\n",
       "    <tr>\n",
       "      <th>59268</th>\n",
       "      <td>2018-10-17T00:00:00</td>\n",
       "      <td>TMIN</td>\n",
       "      <td>GHCND:USW00094728</td>\n",
       "      <td>,,W,2400</td>\n",
       "      <td>7.8</td>\n",
       "      <td>GHCND:USW00094728</td>\n",
       "      <td>NY CITY CENTRAL PARK, NY US</td>\n",
       "      <td>40.77898</td>\n",
       "      <td>-73.969250</td>\n",
       "      <td>42.7</td>\n",
       "    </tr>\n",
       "    <tr>\n",
       "      <th>42991</th>\n",
       "      <td>2018-06-15T00:00:00</td>\n",
       "      <td>SNOW</td>\n",
       "      <td>GHCND:USW00014732</td>\n",
       "      <td>,,W,</td>\n",
       "      <td>0.0</td>\n",
       "      <td>GHCND:USW00014732</td>\n",
       "      <td>LAGUARDIA AIRPORT, NY US</td>\n",
       "      <td>40.77944</td>\n",
       "      <td>-73.880350</td>\n",
       "      <td>3.4</td>\n",
       "    </tr>\n",
       "    <tr>\n",
       "      <th>58900</th>\n",
       "      <td>2018-09-09T00:00:00</td>\n",
       "      <td>WDF5</td>\n",
       "      <td>GHCND:USW00094728</td>\n",
       "      <td>,,W,</td>\n",
       "      <td>60.0</td>\n",
       "      <td>GHCND:USW00094728</td>\n",
       "      <td>NY CITY CENTRAL PARK, NY US</td>\n",
       "      <td>40.77898</td>\n",
       "      <td>-73.969250</td>\n",
       "      <td>42.7</td>\n",
       "    </tr>\n",
       "  </tbody>\n",
       "</table>\n",
       "</div>"
      ],
      "text/plain": [
       "                      date datatype            station attributes  value  \\\n",
       "27644  2018-06-13T00:00:00     WESF  GHCND:US1NYWC0018       ,,N,    0.0   \n",
       "60972  2018-05-22T00:00:00     WSF2  GHCND:USW00094741       ,,W,    5.8   \n",
       "59268  2018-10-17T00:00:00     TMIN  GHCND:USW00094728   ,,W,2400    7.8   \n",
       "42991  2018-06-15T00:00:00     SNOW  GHCND:USW00014732       ,,W,    0.0   \n",
       "58900  2018-09-09T00:00:00     WDF5  GHCND:USW00094728       ,,W,   60.0   \n",
       "\n",
       "                      id                         name  latitude  longitude  \\\n",
       "27644  GHCND:US1NYWC0018         ARMONK 0.3 SE, NY US  41.12996 -73.708161   \n",
       "60972  GHCND:USW00094741     TETERBORO AIRPORT, NJ US  40.85000 -74.061390   \n",
       "59268  GHCND:USW00094728  NY CITY CENTRAL PARK, NY US  40.77898 -73.969250   \n",
       "42991  GHCND:USW00014732     LAGUARDIA AIRPORT, NY US  40.77944 -73.880350   \n",
       "58900  GHCND:USW00094728  NY CITY CENTRAL PARK, NY US  40.77898 -73.969250   \n",
       "\n",
       "       elevation  \n",
       "27644      117.3  \n",
       "60972        2.7  \n",
       "59268       42.7  \n",
       "42991        3.4  \n",
       "58900       42.7  "
      ]
     },
     "execution_count": 13,
     "metadata": {},
     "output_type": "execute_result"
    }
   ],
   "source": [
    "# default join\n",
    "inner_join = df.merge(stations_info, left_on='station', right_on='id')\n",
    "inner_join.sample(5)"
   ]
  },
  {
   "cell_type": "code",
   "execution_count": 14,
   "metadata": {},
   "outputs": [
    {
     "data": {
      "text/html": [
       "<div>\n",
       "<style scoped>\n",
       "    .dataframe tbody tr th:only-of-type {\n",
       "        vertical-align: middle;\n",
       "    }\n",
       "\n",
       "    .dataframe tbody tr th {\n",
       "        vertical-align: top;\n",
       "    }\n",
       "\n",
       "    .dataframe thead th {\n",
       "        text-align: right;\n",
       "    }\n",
       "</style>\n",
       "<table border=\"1\" class=\"dataframe\">\n",
       "  <thead>\n",
       "    <tr style=\"text-align: right;\">\n",
       "      <th></th>\n",
       "      <th>date</th>\n",
       "      <th>datatype</th>\n",
       "      <th>station</th>\n",
       "      <th>attributes</th>\n",
       "      <th>value</th>\n",
       "      <th>name</th>\n",
       "      <th>latitude</th>\n",
       "      <th>longitude</th>\n",
       "      <th>elevation</th>\n",
       "    </tr>\n",
       "  </thead>\n",
       "  <tbody>\n",
       "    <tr>\n",
       "      <th>23412</th>\n",
       "      <td>2018-11-23T00:00:00</td>\n",
       "      <td>SNOW</td>\n",
       "      <td>GHCND:US1NYNS0042</td>\n",
       "      <td>,,N,</td>\n",
       "      <td>0.0</td>\n",
       "      <td>ALBERTSON 0.2 SSE, NY US</td>\n",
       "      <td>40.769131</td>\n",
       "      <td>-73.647484</td>\n",
       "      <td>43.3</td>\n",
       "    </tr>\n",
       "    <tr>\n",
       "      <th>52217</th>\n",
       "      <td>2018-10-23T00:00:00</td>\n",
       "      <td>TMAX</td>\n",
       "      <td>GHCND:USW00054743</td>\n",
       "      <td>,,W,</td>\n",
       "      <td>17.8</td>\n",
       "      <td>CALDWELL ESSEX CO AIRPORT, NJ US</td>\n",
       "      <td>40.876390</td>\n",
       "      <td>-74.283060</td>\n",
       "      <td>52.7</td>\n",
       "    </tr>\n",
       "    <tr>\n",
       "      <th>57654</th>\n",
       "      <td>2018-05-18T00:00:00</td>\n",
       "      <td>WSF2</td>\n",
       "      <td>GHCND:USW00094728</td>\n",
       "      <td>,,W,</td>\n",
       "      <td>7.2</td>\n",
       "      <td>NY CITY CENTRAL PARK, NY US</td>\n",
       "      <td>40.778980</td>\n",
       "      <td>-73.969250</td>\n",
       "      <td>42.7</td>\n",
       "    </tr>\n",
       "    <tr>\n",
       "      <th>36214</th>\n",
       "      <td>2018-04-18T00:00:00</td>\n",
       "      <td>TOBS</td>\n",
       "      <td>GHCND:USC00289187</td>\n",
       "      <td>,,7,0700</td>\n",
       "      <td>0.0</td>\n",
       "      <td>WANAQUE RAYMOND DAM, NJ US</td>\n",
       "      <td>41.044400</td>\n",
       "      <td>-74.293300</td>\n",
       "      <td>74.7</td>\n",
       "    </tr>\n",
       "    <tr>\n",
       "      <th>56788</th>\n",
       "      <td>2018-02-26T00:00:00</td>\n",
       "      <td>WT01</td>\n",
       "      <td>GHCND:USW00094728</td>\n",
       "      <td>,,W,</td>\n",
       "      <td>1.0</td>\n",
       "      <td>NY CITY CENTRAL PARK, NY US</td>\n",
       "      <td>40.778980</td>\n",
       "      <td>-73.969250</td>\n",
       "      <td>42.7</td>\n",
       "    </tr>\n",
       "  </tbody>\n",
       "</table>\n",
       "</div>"
      ],
      "text/plain": [
       "                      date datatype            station attributes  value  \\\n",
       "23412  2018-11-23T00:00:00     SNOW  GHCND:US1NYNS0042       ,,N,    0.0   \n",
       "52217  2018-10-23T00:00:00     TMAX  GHCND:USW00054743       ,,W,   17.8   \n",
       "57654  2018-05-18T00:00:00     WSF2  GHCND:USW00094728       ,,W,    7.2   \n",
       "36214  2018-04-18T00:00:00     TOBS  GHCND:USC00289187   ,,7,0700    0.0   \n",
       "56788  2018-02-26T00:00:00     WT01  GHCND:USW00094728       ,,W,    1.0   \n",
       "\n",
       "                                   name   latitude  longitude  elevation  \n",
       "23412          ALBERTSON 0.2 SSE, NY US  40.769131 -73.647484       43.3  \n",
       "52217  CALDWELL ESSEX CO AIRPORT, NJ US  40.876390 -74.283060       52.7  \n",
       "57654       NY CITY CENTRAL PARK, NY US  40.778980 -73.969250       42.7  \n",
       "36214        WANAQUE RAYMOND DAM, NJ US  41.044400 -74.293300       74.7  \n",
       "56788       NY CITY CENTRAL PARK, NY US  40.778980 -73.969250       42.7  "
      ]
     },
     "execution_count": 14,
     "metadata": {},
     "output_type": "execute_result"
    }
   ],
   "source": [
    "# remove duplicates id and station\n",
    "df.merge(stations_info.rename(dict(id='station'), axis=1), on='station').sample(5)"
   ]
  },
  {
   "cell_type": "code",
   "execution_count": 16,
   "metadata": {},
   "outputs": [],
   "source": [
    "left_join = stations_info.merge(df, left_on='id', right_on='station', how='left')\n",
    "# get the same data with right join and switching the df's and left/right indexes\n",
    "right_join = df.merge(stations_info, left_on='station', right_on='id', how='right')"
   ]
  },
  {
   "cell_type": "code",
   "execution_count": 18,
   "metadata": {},
   "outputs": [
    {
     "data": {
      "text/html": [
       "<div>\n",
       "<style scoped>\n",
       "    .dataframe tbody tr th:only-of-type {\n",
       "        vertical-align: middle;\n",
       "    }\n",
       "\n",
       "    .dataframe tbody tr th {\n",
       "        vertical-align: top;\n",
       "    }\n",
       "\n",
       "    .dataframe thead th {\n",
       "        text-align: right;\n",
       "    }\n",
       "</style>\n",
       "<table border=\"1\" class=\"dataframe\">\n",
       "  <thead>\n",
       "    <tr style=\"text-align: right;\">\n",
       "      <th></th>\n",
       "      <th>id</th>\n",
       "      <th>name</th>\n",
       "      <th>latitude</th>\n",
       "      <th>longitude</th>\n",
       "      <th>elevation</th>\n",
       "      <th>date</th>\n",
       "      <th>datatype</th>\n",
       "      <th>station</th>\n",
       "      <th>attributes</th>\n",
       "      <th>value</th>\n",
       "    </tr>\n",
       "  </thead>\n",
       "  <tbody>\n",
       "    <tr>\n",
       "      <th>0</th>\n",
       "      <td>GHCND:US1CTFR0022</td>\n",
       "      <td>STAMFORD 2.6 SSW, CT US</td>\n",
       "      <td>41.064100</td>\n",
       "      <td>-73.577000</td>\n",
       "      <td>36.6</td>\n",
       "      <td>NaN</td>\n",
       "      <td>NaN</td>\n",
       "      <td>NaN</td>\n",
       "      <td>NaN</td>\n",
       "      <td>NaN</td>\n",
       "    </tr>\n",
       "    <tr>\n",
       "      <th>1</th>\n",
       "      <td>GHCND:US1CTFR0039</td>\n",
       "      <td>STAMFORD 4.2 S, CT US</td>\n",
       "      <td>41.037788</td>\n",
       "      <td>-73.568176</td>\n",
       "      <td>6.4</td>\n",
       "      <td>2018-01-01T00:00:00</td>\n",
       "      <td>PRCP</td>\n",
       "      <td>GHCND:US1CTFR0039</td>\n",
       "      <td>,,N,</td>\n",
       "      <td>0.0</td>\n",
       "    </tr>\n",
       "  </tbody>\n",
       "</table>\n",
       "</div>"
      ],
      "text/plain": [
       "                  id                     name   latitude  longitude  \\\n",
       "0  GHCND:US1CTFR0022  STAMFORD 2.6 SSW, CT US  41.064100 -73.577000   \n",
       "1  GHCND:US1CTFR0039    STAMFORD 4.2 S, CT US  41.037788 -73.568176   \n",
       "\n",
       "   elevation                 date datatype            station attributes  \\\n",
       "0       36.6                  NaN      NaN                NaN        NaN   \n",
       "1        6.4  2018-01-01T00:00:00     PRCP  GHCND:US1CTFR0039       ,,N,   \n",
       "\n",
       "   value  \n",
       "0    NaN  \n",
       "1    0.0  "
      ]
     },
     "execution_count": 18,
     "metadata": {},
     "output_type": "execute_result"
    }
   ],
   "source": [
    "left_join.head(2)"
   ]
  },
  {
   "cell_type": "code",
   "execution_count": 19,
   "metadata": {},
   "outputs": [
    {
     "data": {
      "text/html": [
       "<div>\n",
       "<style scoped>\n",
       "    .dataframe tbody tr th:only-of-type {\n",
       "        vertical-align: middle;\n",
       "    }\n",
       "\n",
       "    .dataframe tbody tr th {\n",
       "        vertical-align: top;\n",
       "    }\n",
       "\n",
       "    .dataframe thead th {\n",
       "        text-align: right;\n",
       "    }\n",
       "</style>\n",
       "<table border=\"1\" class=\"dataframe\">\n",
       "  <thead>\n",
       "    <tr style=\"text-align: right;\">\n",
       "      <th></th>\n",
       "      <th>date</th>\n",
       "      <th>datatype</th>\n",
       "      <th>station</th>\n",
       "      <th>attributes</th>\n",
       "      <th>value</th>\n",
       "      <th>id</th>\n",
       "      <th>name</th>\n",
       "      <th>latitude</th>\n",
       "      <th>longitude</th>\n",
       "      <th>elevation</th>\n",
       "    </tr>\n",
       "  </thead>\n",
       "  <tbody>\n",
       "    <tr>\n",
       "      <th>78947</th>\n",
       "      <td>2018-12-31T00:00:00</td>\n",
       "      <td>WT01</td>\n",
       "      <td>GHCND:USW00094789</td>\n",
       "      <td>,,W,</td>\n",
       "      <td>1.0</td>\n",
       "      <td>GHCND:USW00094789</td>\n",
       "      <td>JFK INTERNATIONAL AIRPORT, NY US</td>\n",
       "      <td>40.63915</td>\n",
       "      <td>-73.76401</td>\n",
       "      <td>3.4</td>\n",
       "    </tr>\n",
       "    <tr>\n",
       "      <th>78948</th>\n",
       "      <td>2018-12-31T00:00:00</td>\n",
       "      <td>WT02</td>\n",
       "      <td>GHCND:USW00094789</td>\n",
       "      <td>,,W,</td>\n",
       "      <td>1.0</td>\n",
       "      <td>GHCND:USW00094789</td>\n",
       "      <td>JFK INTERNATIONAL AIRPORT, NY US</td>\n",
       "      <td>40.63915</td>\n",
       "      <td>-73.76401</td>\n",
       "      <td>3.4</td>\n",
       "    </tr>\n",
       "  </tbody>\n",
       "</table>\n",
       "</div>"
      ],
      "text/plain": [
       "                      date datatype            station attributes  value  \\\n",
       "78947  2018-12-31T00:00:00     WT01  GHCND:USW00094789       ,,W,    1.0   \n",
       "78948  2018-12-31T00:00:00     WT02  GHCND:USW00094789       ,,W,    1.0   \n",
       "\n",
       "                      id                              name  latitude  \\\n",
       "78947  GHCND:USW00094789  JFK INTERNATIONAL AIRPORT, NY US  40.63915   \n",
       "78948  GHCND:USW00094789  JFK INTERNATIONAL AIRPORT, NY US  40.63915   \n",
       "\n",
       "       longitude  elevation  \n",
       "78947  -73.76401        3.4  \n",
       "78948  -73.76401        3.4  "
      ]
     },
     "execution_count": 19,
     "metadata": {},
     "output_type": "execute_result"
    }
   ],
   "source": [
    "right_join.tail(2)"
   ]
  },
  {
   "cell_type": "code",
   "execution_count": 25,
   "metadata": {},
   "outputs": [
    {
     "data": {
      "text/plain": [
       "True"
      ]
     },
     "execution_count": 25,
     "metadata": {},
     "output_type": "execute_result"
    }
   ],
   "source": [
    "left_join.sort_index(axis=1).sort_values(\n",
    "    ['date', 'station']).reset_index().drop(\n",
    "    columns='index'\n",
    ").equals(\n",
    "    right_join.sort_index(axis=1).sort_values(\n",
    "        ['date', 'station']).reset_index().drop(\n",
    "    columns='index'\n",
    ")\n",
    ")"
   ]
  },
  {
   "cell_type": "code",
   "execution_count": 26,
   "metadata": {},
   "outputs": [
    {
     "data": {
      "text/plain": [
       "[(78780, 10), (78949, 10), (78949, 10)]"
      ]
     },
     "execution_count": 26,
     "metadata": {},
     "output_type": "execute_result"
    }
   ],
   "source": [
    "get_info('shape', inner_join, left_join, right_join)"
   ]
  },
  {
   "attachments": {},
   "cell_type": "markdown",
   "metadata": {},
   "source": [
    "_Full outer join_"
   ]
  },
  {
   "cell_type": "code",
   "execution_count": 27,
   "metadata": {},
   "outputs": [
    {
     "data": {
      "text/plain": [
       "Index(['id', 'name', 'latitude', 'longitude', 'elevation'], dtype='object')"
      ]
     },
     "execution_count": 27,
     "metadata": {},
     "output_type": "execute_result"
    }
   ],
   "source": [
    "stations_info.columns"
   ]
  },
  {
   "cell_type": "code",
   "execution_count": 30,
   "metadata": {},
   "outputs": [
    {
     "data": {
      "text/plain": [
       "Index(['date', 'datatype', 'station', 'attributes', 'value'], dtype='object')"
      ]
     },
     "execution_count": 30,
     "metadata": {},
     "output_type": "execute_result"
    }
   ],
   "source": [
    "df.columns"
   ]
  },
  {
   "cell_type": "code",
   "execution_count": 39,
   "metadata": {},
   "outputs": [],
   "source": [
    "# indicator = True adds the column _merge that shows the type of merge applied\n",
    "outer_join = df.merge(\n",
    "    stations_info[stations_info.name.str.contains('NY')],\n",
    "    left_on='station', right_on='id', how='outer', indicator=True\n",
    "    )"
   ]
  },
  {
   "cell_type": "code",
   "execution_count": 40,
   "metadata": {},
   "outputs": [
    {
     "data": {
      "text/plain": [
       "26529         both\n",
       "3992     left_only\n",
       "33816    left_only\n",
       "60611    left_only\n",
       "22203         both\n",
       "8313     left_only\n",
       "78438    left_only\n",
       "65611         both\n",
       "69033         both\n",
       "45803    left_only\n",
       "Name: _merge, dtype: category\n",
       "Categories (3, object): ['left_only', 'right_only', 'both']"
      ]
     },
     "execution_count": 40,
     "metadata": {},
     "output_type": "execute_result"
    }
   ],
   "source": [
    "# result of indicator=True\n",
    "outer_join.sample(10)._merge"
   ]
  },
  {
   "cell_type": "code",
   "execution_count": 44,
   "metadata": {},
   "outputs": [
    {
     "name": "stderr",
     "output_type": "stream",
     "text": [
      "/var/folders/1h/vmdz8n3d00lfsp1hw8300jt00000gn/T/ipykernel_37139/2583366133.py:1: FutureWarning: The frame.append method is deprecated and will be removed from pandas in a future version. Use pandas.concat instead.\n",
      "  outer_join.sample(2).append(\n",
      "/var/folders/1h/vmdz8n3d00lfsp1hw8300jt00000gn/T/ipykernel_37139/2583366133.py:3: FutureWarning: The frame.append method is deprecated and will be removed from pandas in a future version. Use pandas.concat instead.\n",
      "  ).append(\n"
     ]
    },
    {
     "data": {
      "text/html": [
       "<div>\n",
       "<style scoped>\n",
       "    .dataframe tbody tr th:only-of-type {\n",
       "        vertical-align: middle;\n",
       "    }\n",
       "\n",
       "    .dataframe tbody tr th {\n",
       "        vertical-align: top;\n",
       "    }\n",
       "\n",
       "    .dataframe thead th {\n",
       "        text-align: right;\n",
       "    }\n",
       "</style>\n",
       "<table border=\"1\" class=\"dataframe\">\n",
       "  <thead>\n",
       "    <tr style=\"text-align: right;\">\n",
       "      <th></th>\n",
       "      <th>date</th>\n",
       "      <th>datatype</th>\n",
       "      <th>station</th>\n",
       "      <th>attributes</th>\n",
       "      <th>value</th>\n",
       "      <th>id</th>\n",
       "      <th>name</th>\n",
       "      <th>latitude</th>\n",
       "      <th>longitude</th>\n",
       "      <th>elevation</th>\n",
       "      <th>_merge</th>\n",
       "    </tr>\n",
       "  </thead>\n",
       "  <tbody>\n",
       "    <tr>\n",
       "      <th>36089</th>\n",
       "      <td>2018-03-18T00:00:00</td>\n",
       "      <td>PRCP</td>\n",
       "      <td>GHCND:USC00289187</td>\n",
       "      <td>,,7,0700</td>\n",
       "      <td>0.0</td>\n",
       "      <td>NaN</td>\n",
       "      <td>NaN</td>\n",
       "      <td>NaN</td>\n",
       "      <td>NaN</td>\n",
       "      <td>NaN</td>\n",
       "      <td>left_only</td>\n",
       "    </tr>\n",
       "    <tr>\n",
       "      <th>49891</th>\n",
       "      <td>2018-02-05T00:00:00</td>\n",
       "      <td>TMIN</td>\n",
       "      <td>GHCND:USW00054743</td>\n",
       "      <td>,,W,</td>\n",
       "      <td>-7.1</td>\n",
       "      <td>NaN</td>\n",
       "      <td>NaN</td>\n",
       "      <td>NaN</td>\n",
       "      <td>NaN</td>\n",
       "      <td>NaN</td>\n",
       "      <td>left_only</td>\n",
       "    </tr>\n",
       "    <tr>\n",
       "      <th>78780</th>\n",
       "      <td>NaN</td>\n",
       "      <td>NaN</td>\n",
       "      <td>NaN</td>\n",
       "      <td>NaN</td>\n",
       "      <td>NaN</td>\n",
       "      <td>GHCND:US1NJMS0036</td>\n",
       "      <td>PARSIPPANY TROY HILLS TWP 2.1 E, NJ US</td>\n",
       "      <td>40.865600</td>\n",
       "      <td>-74.385100</td>\n",
       "      <td>64.3</td>\n",
       "      <td>right_only</td>\n",
       "    </tr>\n",
       "    <tr>\n",
       "      <th>78781</th>\n",
       "      <td>NaN</td>\n",
       "      <td>NaN</td>\n",
       "      <td>NaN</td>\n",
       "      <td>NaN</td>\n",
       "      <td>NaN</td>\n",
       "      <td>GHCND:US1NJMS0039</td>\n",
       "      <td>PARSIPPANY TROY HILLS TWP 1.3 WSW, NJ US</td>\n",
       "      <td>40.853314</td>\n",
       "      <td>-74.446957</td>\n",
       "      <td>94.2</td>\n",
       "      <td>right_only</td>\n",
       "    </tr>\n",
       "    <tr>\n",
       "      <th>0</th>\n",
       "      <td>2018-01-01T00:00:00</td>\n",
       "      <td>PRCP</td>\n",
       "      <td>GHCND:US1CTFR0039</td>\n",
       "      <td>,,N,</td>\n",
       "      <td>0.0</td>\n",
       "      <td>NaN</td>\n",
       "      <td>NaN</td>\n",
       "      <td>NaN</td>\n",
       "      <td>NaN</td>\n",
       "      <td>NaN</td>\n",
       "      <td>left_only</td>\n",
       "    </tr>\n",
       "    <tr>\n",
       "      <th>1</th>\n",
       "      <td>2018-01-02T00:00:00</td>\n",
       "      <td>PRCP</td>\n",
       "      <td>GHCND:US1CTFR0039</td>\n",
       "      <td>,,N,</td>\n",
       "      <td>0.0</td>\n",
       "      <td>NaN</td>\n",
       "      <td>NaN</td>\n",
       "      <td>NaN</td>\n",
       "      <td>NaN</td>\n",
       "      <td>NaN</td>\n",
       "      <td>left_only</td>\n",
       "    </tr>\n",
       "  </tbody>\n",
       "</table>\n",
       "</div>"
      ],
      "text/plain": [
       "                      date datatype            station attributes  value  \\\n",
       "36089  2018-03-18T00:00:00     PRCP  GHCND:USC00289187   ,,7,0700    0.0   \n",
       "49891  2018-02-05T00:00:00     TMIN  GHCND:USW00054743       ,,W,   -7.1   \n",
       "78780                  NaN      NaN                NaN        NaN    NaN   \n",
       "78781                  NaN      NaN                NaN        NaN    NaN   \n",
       "0      2018-01-01T00:00:00     PRCP  GHCND:US1CTFR0039       ,,N,    0.0   \n",
       "1      2018-01-02T00:00:00     PRCP  GHCND:US1CTFR0039       ,,N,    0.0   \n",
       "\n",
       "                      id                                      name   latitude  \\\n",
       "36089                NaN                                       NaN        NaN   \n",
       "49891                NaN                                       NaN        NaN   \n",
       "78780  GHCND:US1NJMS0036    PARSIPPANY TROY HILLS TWP 2.1 E, NJ US  40.865600   \n",
       "78781  GHCND:US1NJMS0039  PARSIPPANY TROY HILLS TWP 1.3 WSW, NJ US  40.853314   \n",
       "0                    NaN                                       NaN        NaN   \n",
       "1                    NaN                                       NaN        NaN   \n",
       "\n",
       "       longitude  elevation      _merge  \n",
       "36089        NaN        NaN   left_only  \n",
       "49891        NaN        NaN   left_only  \n",
       "78780 -74.385100       64.3  right_only  \n",
       "78781 -74.446957       94.2  right_only  \n",
       "0            NaN        NaN   left_only  \n",
       "1            NaN        NaN   left_only  "
      ]
     },
     "execution_count": 44,
     "metadata": {},
     "output_type": "execute_result"
    }
   ],
   "source": [
    "outer_join.sample(2).append(\n",
    "    outer_join[outer_join.station.isna()].head(2)\n",
    "    ).append(\n",
    "        outer_join[outer_join.id.isna()].head(2)\n",
    "    )"
   ]
  },
  {
   "cell_type": "code",
   "execution_count": null,
   "metadata": {},
   "outputs": [],
   "source": []
  }
 ],
 "metadata": {
  "kernelspec": {
   "display_name": "base",
   "language": "python",
   "name": "python3"
  },
  "language_info": {
   "codemirror_mode": {
    "name": "ipython",
    "version": 3
   },
   "file_extension": ".py",
   "mimetype": "text/x-python",
   "name": "python",
   "nbconvert_exporter": "python",
   "pygments_lexer": "ipython3",
   "version": "3.10.9"
  },
  "orig_nbformat": 4
 },
 "nbformat": 4,
 "nbformat_minor": 2
}
