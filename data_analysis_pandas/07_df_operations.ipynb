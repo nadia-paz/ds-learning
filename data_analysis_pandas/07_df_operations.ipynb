{
 "cells": [
  {
   "cell_type": "code",
   "execution_count": 1,
   "metadata": {},
   "outputs": [],
   "source": [
    "import numpy as np \n",
    "import pandas as pd"
   ]
  },
  {
   "cell_type": "code",
   "execution_count": 2,
   "metadata": {},
   "outputs": [],
   "source": [
    "weather = pd.read_csv('../datasets/nyc_weather_2018.csv', parse_dates=['date'])\n",
    "fb = pd.read_csv('../datasets/fb.csv', index_col='date', parse_dates=True)"
   ]
  },
  {
   "cell_type": "code",
   "execution_count": 3,
   "metadata": {},
   "outputs": [
    {
     "data": {
      "text/html": [
       "<div>\n",
       "<style scoped>\n",
       "    .dataframe tbody tr th:only-of-type {\n",
       "        vertical-align: middle;\n",
       "    }\n",
       "\n",
       "    .dataframe tbody tr th {\n",
       "        vertical-align: top;\n",
       "    }\n",
       "\n",
       "    .dataframe thead th {\n",
       "        text-align: right;\n",
       "    }\n",
       "</style>\n",
       "<table border=\"1\" class=\"dataframe\">\n",
       "  <thead>\n",
       "    <tr style=\"text-align: right;\">\n",
       "      <th></th>\n",
       "      <th>date</th>\n",
       "      <th>datatype</th>\n",
       "      <th>station</th>\n",
       "      <th>attributes</th>\n",
       "      <th>value</th>\n",
       "    </tr>\n",
       "  </thead>\n",
       "  <tbody>\n",
       "    <tr>\n",
       "      <th>0</th>\n",
       "      <td>2018-01-01</td>\n",
       "      <td>PRCP</td>\n",
       "      <td>GHCND:US1CTFR0039</td>\n",
       "      <td>,,N,</td>\n",
       "      <td>0.0</td>\n",
       "    </tr>\n",
       "    <tr>\n",
       "      <th>1</th>\n",
       "      <td>2018-01-01</td>\n",
       "      <td>PRCP</td>\n",
       "      <td>GHCND:US1NJBG0015</td>\n",
       "      <td>,,N,</td>\n",
       "      <td>0.0</td>\n",
       "    </tr>\n",
       "  </tbody>\n",
       "</table>\n",
       "</div>"
      ],
      "text/plain": [
       "        date datatype            station attributes  value\n",
       "0 2018-01-01     PRCP  GHCND:US1CTFR0039       ,,N,    0.0\n",
       "1 2018-01-01     PRCP  GHCND:US1NJBG0015       ,,N,    0.0"
      ]
     },
     "execution_count": 3,
     "metadata": {},
     "output_type": "execute_result"
    }
   ],
   "source": [
    "weather.head(2)"
   ]
  },
  {
   "cell_type": "code",
   "execution_count": 4,
   "metadata": {},
   "outputs": [
    {
     "data": {
      "text/html": [
       "<div>\n",
       "<style scoped>\n",
       "    .dataframe tbody tr th:only-of-type {\n",
       "        vertical-align: middle;\n",
       "    }\n",
       "\n",
       "    .dataframe tbody tr th {\n",
       "        vertical-align: top;\n",
       "    }\n",
       "\n",
       "    .dataframe thead th {\n",
       "        text-align: right;\n",
       "    }\n",
       "</style>\n",
       "<table border=\"1\" class=\"dataframe\">\n",
       "  <thead>\n",
       "    <tr style=\"text-align: right;\">\n",
       "      <th></th>\n",
       "      <th>high</th>\n",
       "      <th>low</th>\n",
       "      <th>open</th>\n",
       "      <th>close</th>\n",
       "      <th>volume</th>\n",
       "    </tr>\n",
       "    <tr>\n",
       "      <th>date</th>\n",
       "      <th></th>\n",
       "      <th></th>\n",
       "      <th></th>\n",
       "      <th></th>\n",
       "      <th></th>\n",
       "    </tr>\n",
       "  </thead>\n",
       "  <tbody>\n",
       "    <tr>\n",
       "      <th>2018-01-02</th>\n",
       "      <td>181.580002</td>\n",
       "      <td>177.550003</td>\n",
       "      <td>177.679993</td>\n",
       "      <td>181.419998</td>\n",
       "      <td>18151900</td>\n",
       "    </tr>\n",
       "    <tr>\n",
       "      <th>2018-01-03</th>\n",
       "      <td>184.779999</td>\n",
       "      <td>181.330002</td>\n",
       "      <td>181.880005</td>\n",
       "      <td>184.669998</td>\n",
       "      <td>16886600</td>\n",
       "    </tr>\n",
       "  </tbody>\n",
       "</table>\n",
       "</div>"
      ],
      "text/plain": [
       "                  high         low        open       close    volume\n",
       "date                                                                \n",
       "2018-01-02  181.580002  177.550003  177.679993  181.419998  18151900\n",
       "2018-01-03  184.779999  181.330002  181.880005  184.669998  16886600"
      ]
     },
     "execution_count": 4,
     "metadata": {},
     "output_type": "execute_result"
    }
   ],
   "source": [
    "fb.head(2)"
   ]
  },
  {
   "cell_type": "code",
   "execution_count": 5,
   "metadata": {},
   "outputs": [
    {
     "data": {
      "text/html": [
       "<div>\n",
       "<style scoped>\n",
       "    .dataframe tbody tr th:only-of-type {\n",
       "        vertical-align: middle;\n",
       "    }\n",
       "\n",
       "    .dataframe tbody tr th {\n",
       "        vertical-align: top;\n",
       "    }\n",
       "\n",
       "    .dataframe thead th {\n",
       "        text-align: right;\n",
       "    }\n",
       "</style>\n",
       "<table border=\"1\" class=\"dataframe\">\n",
       "  <thead>\n",
       "    <tr style=\"text-align: right;\">\n",
       "      <th></th>\n",
       "      <th>high</th>\n",
       "      <th>low</th>\n",
       "      <th>open</th>\n",
       "      <th>close</th>\n",
       "      <th>volume</th>\n",
       "      <th>volume_z_score</th>\n",
       "    </tr>\n",
       "    <tr>\n",
       "      <th>date</th>\n",
       "      <th></th>\n",
       "      <th></th>\n",
       "      <th></th>\n",
       "      <th></th>\n",
       "      <th></th>\n",
       "      <th></th>\n",
       "    </tr>\n",
       "  </thead>\n",
       "  <tbody>\n",
       "    <tr>\n",
       "      <th>2018-03-19</th>\n",
       "      <td>177.169998</td>\n",
       "      <td>170.059998</td>\n",
       "      <td>177.009995</td>\n",
       "      <td>172.559998</td>\n",
       "      <td>88140100</td>\n",
       "      <td>3.154098</td>\n",
       "    </tr>\n",
       "    <tr>\n",
       "      <th>2018-03-20</th>\n",
       "      <td>170.199997</td>\n",
       "      <td>161.949997</td>\n",
       "      <td>167.470001</td>\n",
       "      <td>168.149994</td>\n",
       "      <td>129851800</td>\n",
       "      <td>5.329354</td>\n",
       "    </tr>\n",
       "    <tr>\n",
       "      <th>2018-03-21</th>\n",
       "      <td>173.399994</td>\n",
       "      <td>163.300003</td>\n",
       "      <td>164.800003</td>\n",
       "      <td>169.389999</td>\n",
       "      <td>106598800</td>\n",
       "      <td>4.116715</td>\n",
       "    </tr>\n",
       "    <tr>\n",
       "      <th>2018-03-26</th>\n",
       "      <td>161.100006</td>\n",
       "      <td>149.020004</td>\n",
       "      <td>160.820007</td>\n",
       "      <td>160.059998</td>\n",
       "      <td>126116600</td>\n",
       "      <td>5.134564</td>\n",
       "    </tr>\n",
       "    <tr>\n",
       "      <th>2018-07-26</th>\n",
       "      <td>180.130005</td>\n",
       "      <td>173.750000</td>\n",
       "      <td>174.889999</td>\n",
       "      <td>176.259995</td>\n",
       "      <td>169803700</td>\n",
       "      <td>7.412837</td>\n",
       "    </tr>\n",
       "  </tbody>\n",
       "</table>\n",
       "</div>"
      ],
      "text/plain": [
       "                  high         low        open       close     volume  \\\n",
       "date                                                                    \n",
       "2018-03-19  177.169998  170.059998  177.009995  172.559998   88140100   \n",
       "2018-03-20  170.199997  161.949997  167.470001  168.149994  129851800   \n",
       "2018-03-21  173.399994  163.300003  164.800003  169.389999  106598800   \n",
       "2018-03-26  161.100006  149.020004  160.820007  160.059998  126116600   \n",
       "2018-07-26  180.130005  173.750000  174.889999  176.259995  169803700   \n",
       "\n",
       "            volume_z_score  \n",
       "date                        \n",
       "2018-03-19        3.154098  \n",
       "2018-03-20        5.329354  \n",
       "2018-03-21        4.116715  \n",
       "2018-03-26        5.134564  \n",
       "2018-07-26        7.412837  "
      ]
     },
     "execution_count": 5,
     "metadata": {},
     "output_type": "execute_result"
    }
   ],
   "source": [
    "# calculate the z-score for volume column and find where its absolute\n",
    "# value is more than 3 std away\n",
    "fb.assign(\n",
    "    volume_z_score = lambda x: x.volume.sub(\n",
    "        x.volume.mean()\n",
    "    ).div(x.volume.std()).abs()\n",
    ").query('volume_z_score > 3')"
   ]
  },
  {
   "attachments": {},
   "cell_type": "markdown",
   "metadata": {},
   "source": [
    "Find 5 days with the largest percentage change of the volume traded from the prior day. Use `rank(ascending=False)` and `pct_change()`"
   ]
  },
  {
   "cell_type": "code",
   "execution_count": 9,
   "metadata": {},
   "outputs": [
    {
     "data": {
      "text/html": [
       "<div>\n",
       "<style scoped>\n",
       "    .dataframe tbody tr th:only-of-type {\n",
       "        vertical-align: middle;\n",
       "    }\n",
       "\n",
       "    .dataframe tbody tr th {\n",
       "        vertical-align: top;\n",
       "    }\n",
       "\n",
       "    .dataframe thead th {\n",
       "        text-align: right;\n",
       "    }\n",
       "</style>\n",
       "<table border=\"1\" class=\"dataframe\">\n",
       "  <thead>\n",
       "    <tr style=\"text-align: right;\">\n",
       "      <th></th>\n",
       "      <th>high</th>\n",
       "      <th>low</th>\n",
       "      <th>open</th>\n",
       "      <th>close</th>\n",
       "      <th>volume</th>\n",
       "      <th>volume_pct_change</th>\n",
       "      <th>change_rank</th>\n",
       "    </tr>\n",
       "    <tr>\n",
       "      <th>date</th>\n",
       "      <th></th>\n",
       "      <th></th>\n",
       "      <th></th>\n",
       "      <th></th>\n",
       "      <th></th>\n",
       "      <th></th>\n",
       "      <th></th>\n",
       "    </tr>\n",
       "  </thead>\n",
       "  <tbody>\n",
       "    <tr>\n",
       "      <th>2018-01-12</th>\n",
       "      <td>181.479996</td>\n",
       "      <td>177.399994</td>\n",
       "      <td>178.059998</td>\n",
       "      <td>179.369995</td>\n",
       "      <td>77551300</td>\n",
       "      <td>7.087865</td>\n",
       "      <td>1.0</td>\n",
       "    </tr>\n",
       "    <tr>\n",
       "      <th>2018-03-19</th>\n",
       "      <td>177.169998</td>\n",
       "      <td>170.059998</td>\n",
       "      <td>177.009995</td>\n",
       "      <td>172.559998</td>\n",
       "      <td>88140100</td>\n",
       "      <td>2.611796</td>\n",
       "      <td>2.0</td>\n",
       "    </tr>\n",
       "    <tr>\n",
       "      <th>2018-07-26</th>\n",
       "      <td>180.130005</td>\n",
       "      <td>173.750000</td>\n",
       "      <td>174.889999</td>\n",
       "      <td>176.259995</td>\n",
       "      <td>169803700</td>\n",
       "      <td>1.880265</td>\n",
       "      <td>3.0</td>\n",
       "    </tr>\n",
       "    <tr>\n",
       "      <th>2018-09-21</th>\n",
       "      <td>167.250000</td>\n",
       "      <td>162.809998</td>\n",
       "      <td>166.639999</td>\n",
       "      <td>162.929993</td>\n",
       "      <td>45994800</td>\n",
       "      <td>1.428961</td>\n",
       "      <td>4.0</td>\n",
       "    </tr>\n",
       "    <tr>\n",
       "      <th>2018-03-26</th>\n",
       "      <td>161.100006</td>\n",
       "      <td>149.020004</td>\n",
       "      <td>160.820007</td>\n",
       "      <td>160.059998</td>\n",
       "      <td>126116600</td>\n",
       "      <td>1.352496</td>\n",
       "      <td>5.0</td>\n",
       "    </tr>\n",
       "  </tbody>\n",
       "</table>\n",
       "</div>"
      ],
      "text/plain": [
       "                  high         low        open       close     volume  \\\n",
       "date                                                                    \n",
       "2018-01-12  181.479996  177.399994  178.059998  179.369995   77551300   \n",
       "2018-03-19  177.169998  170.059998  177.009995  172.559998   88140100   \n",
       "2018-07-26  180.130005  173.750000  174.889999  176.259995  169803700   \n",
       "2018-09-21  167.250000  162.809998  166.639999  162.929993   45994800   \n",
       "2018-03-26  161.100006  149.020004  160.820007  160.059998  126116600   \n",
       "\n",
       "            volume_pct_change  change_rank  \n",
       "date                                        \n",
       "2018-01-12           7.087865          1.0  \n",
       "2018-03-19           2.611796          2.0  \n",
       "2018-07-26           1.880265          3.0  \n",
       "2018-09-21           1.428961          4.0  \n",
       "2018-03-26           1.352496          5.0  "
      ]
     },
     "execution_count": 9,
     "metadata": {},
     "output_type": "execute_result"
    }
   ],
   "source": [
    "fb.assign(\n",
    "    volume_pct_change = fb.volume.pct_change(),\n",
    "    change_rank = fb.volume.pct_change().abs().rank(ascending=False)\n",
    "    # same result: but access the column that we've just created\n",
    "    #change_rank = lambda x: x.volume_pct_change.abs().rank(ascending=False)\n",
    ").nsmallest(5, 'change_rank')"
   ]
  },
  {
   "cell_type": "code",
   "execution_count": 10,
   "metadata": {},
   "outputs": [
    {
     "data": {
      "text/html": [
       "<div>\n",
       "<style scoped>\n",
       "    .dataframe tbody tr th:only-of-type {\n",
       "        vertical-align: middle;\n",
       "    }\n",
       "\n",
       "    .dataframe tbody tr th {\n",
       "        vertical-align: top;\n",
       "    }\n",
       "\n",
       "    .dataframe thead th {\n",
       "        text-align: right;\n",
       "    }\n",
       "</style>\n",
       "<table border=\"1\" class=\"dataframe\">\n",
       "  <thead>\n",
       "    <tr style=\"text-align: right;\">\n",
       "      <th></th>\n",
       "      <th>high</th>\n",
       "      <th>low</th>\n",
       "      <th>open</th>\n",
       "      <th>close</th>\n",
       "      <th>volume</th>\n",
       "    </tr>\n",
       "    <tr>\n",
       "      <th>date</th>\n",
       "      <th></th>\n",
       "      <th></th>\n",
       "      <th></th>\n",
       "      <th></th>\n",
       "      <th></th>\n",
       "    </tr>\n",
       "  </thead>\n",
       "  <tbody>\n",
       "    <tr>\n",
       "      <th>2018-01-11</th>\n",
       "      <td>188.399994</td>\n",
       "      <td>187.380005</td>\n",
       "      <td>188.399994</td>\n",
       "      <td>187.770004</td>\n",
       "      <td>9588600</td>\n",
       "    </tr>\n",
       "    <tr>\n",
       "      <th>2018-01-12</th>\n",
       "      <td>181.479996</td>\n",
       "      <td>177.399994</td>\n",
       "      <td>178.059998</td>\n",
       "      <td>179.369995</td>\n",
       "      <td>77551300</td>\n",
       "    </tr>\n",
       "  </tbody>\n",
       "</table>\n",
       "</div>"
      ],
      "text/plain": [
       "                  high         low        open       close    volume\n",
       "date                                                                \n",
       "2018-01-11  188.399994  187.380005  188.399994  187.770004   9588600\n",
       "2018-01-12  181.479996  177.399994  178.059998  179.369995  77551300"
      ]
     },
     "execution_count": 10,
     "metadata": {},
     "output_type": "execute_result"
    }
   ],
   "source": [
    "# slice the biggest pct_change\n",
    "fb['2018-01-11':'2018-01-12']"
   ]
  },
  {
   "cell_type": "code",
   "execution_count": 11,
   "metadata": {},
   "outputs": [
    {
     "data": {
      "text/plain": [
       "high       True\n",
       "low       False\n",
       "open       True\n",
       "close      True\n",
       "volume     True\n",
       "dtype: bool"
      ]
     },
     "execution_count": 11,
     "metadata": {},
     "output_type": "execute_result"
    }
   ],
   "source": [
    "# check if any of prices high/low/open/close where bigger than $215 during this year\n",
    "(fb > 215).any()\n",
    "# low prices never were higher than $215"
   ]
  },
  {
   "attachments": {},
   "cell_type": "markdown",
   "metadata": {},
   "source": [
    "#### Binning\n",
    "\n",
    "we might be interested in ranges of volume rather than the volume by itself, we can convert the numerical column into a categorical usind `pd.cut()`. It calls binning or **discretizing** (going from continious to descrete)"
   ]
  },
  {
   "cell_type": "code",
   "execution_count": 12,
   "metadata": {},
   "outputs": [
    {
     "data": {
      "text/plain": [
       "0"
      ]
     },
     "execution_count": 12,
     "metadata": {},
     "output_type": "execute_result"
    }
   ],
   "source": [
    "# check if in any of days the volume was the same\n",
    "(fb.volume.value_counts() > 1).sum()"
   ]
  },
  {
   "cell_type": "code",
   "execution_count": 13,
   "metadata": {},
   "outputs": [
    {
     "data": {
      "text/plain": [
       "False"
      ]
     },
     "execution_count": 13,
     "metadata": {},
     "output_type": "execute_result"
    }
   ],
   "source": [
    "(fb.volume.value_counts() > 1).any()"
   ]
  },
  {
   "cell_type": "code",
   "execution_count": null,
   "metadata": {},
   "outputs": [],
   "source": []
  }
 ],
 "metadata": {
  "kernelspec": {
   "display_name": "base",
   "language": "python",
   "name": "python3"
  },
  "language_info": {
   "codemirror_mode": {
    "name": "ipython",
    "version": 3
   },
   "file_extension": ".py",
   "mimetype": "text/x-python",
   "name": "python",
   "nbconvert_exporter": "python",
   "pygments_lexer": "ipython3",
   "version": "3.10.9"
  },
  "orig_nbformat": 4
 },
 "nbformat": 4,
 "nbformat_minor": 2
}
