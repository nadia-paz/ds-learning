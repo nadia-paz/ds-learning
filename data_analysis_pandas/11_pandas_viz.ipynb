{
 "cells": [
  {
   "cell_type": "code",
   "execution_count": 1,
   "metadata": {},
   "outputs": [],
   "source": [
    "import pandas as pd \n",
    "import matplotlib.pyplot as plt"
   ]
  },
  {
   "cell_type": "markdown",
   "metadata": {},
   "source": [
    "- copied from hands on DA with Pandas notebook\n",
    "\n",
    "| Parameter | Purpose | Data Type |\n",
    "| --- | --- | --- |\n",
    "| `kind` | Determines the plot type | String |\n",
    "| `x`/`y` | Column(s) to plot on the *x*-axis/*y*-axis | String or list |\n",
    "| `ax` | Draws the plot on the `Axes` object provided | `Axes` |\n",
    "| `subplots` | Determines whether to make subplots | Boolean |\n",
    "| `layout` | Specifies how to arrange the subplots | Tuple of `(rows, columns)` |\n",
    "| `figsize` | Size to make the `Figure` object | Tuple of `(width, height)` | \n",
    "| `title` | The title of the plot or subplots | String for the plot title or a list of strings for subplot titles |\n",
    "| `legend` | Determines whether to show the legend | Boolean |\n",
    "| `label` | What to call an item in the legend | String if a single column is being plotted; otherwise, a list of strings |\n",
    "| `style` | `matplotlib` style strings for each item being plotted | String if a single column is being plotted; otherwise, a list of strings |\n",
    "| `color` | The color to plot the item in | String or red, green, blue tuple if a single column is being plotted; otherwise, a list |\n",
    "| `colormap` | The colormap to use | String or `matplotlib` colormap object |\n",
    "| `logx`/`logy`/`loglog` | Determines whether to use a logarithmic scale for the *x*-axis, *y*-axis, or both | Boolean |\n",
    "| `xticks`/`yticks` | Determines where to draw the ticks on the *x*-axis/*y*-axis | List of values |\n",
    "| `xlim`/`ylim` | The axis limits for the *x*-axis/*y*-axis | Tuple of the form `(min, max)` |\n",
    "| `rot` | The angle to write the tick labels at | Integer |\n",
    "| `sharex`/`sharey` | Determines whether to have subplots share the *x*-axis/*y*-axis | Boolean |\n",
    "| `fontsize` | Controls the size of the tick labels | Integer |\n",
    "| `grid` | Turns on/off the grid lines | Boolean |\n"
   ]
  },
  {
   "cell_type": "code",
   "execution_count": null,
   "metadata": {},
   "outputs": [],
   "source": []
  }
 ],
 "metadata": {
  "kernelspec": {
   "display_name": "base",
   "language": "python",
   "name": "python3"
  },
  "language_info": {
   "codemirror_mode": {
    "name": "ipython",
    "version": 3
   },
   "file_extension": ".py",
   "mimetype": "text/x-python",
   "name": "python",
   "nbconvert_exporter": "python",
   "pygments_lexer": "ipython3",
   "version": "3.10.9"
  },
  "orig_nbformat": 4
 },
 "nbformat": 4,
 "nbformat_minor": 2
}
