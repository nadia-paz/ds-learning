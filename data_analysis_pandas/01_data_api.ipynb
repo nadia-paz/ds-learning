{
 "cells": [
  {
   "cell_type": "markdown",
   "id": "758f40c4-a05a-405c-9457-b33b6f8e3640",
   "metadata": {
    "tags": []
   },
   "source": [
    "### API to get data"
   ]
  },
  {
   "cell_type": "markdown",
   "id": "5a0fcaa0-582d-4e91-a8c6-84d08e56f679",
   "metadata": {},
   "source": [
    "List of endpoints : https://www.ncdc.noaa.gov/cdo-web/webservices/v2#gettingStarted\n",
    "\n",
    "|Endpoint|Description|\n",
    "|-------|-------|\n",
    "|`/datasets\t`|A dataset is the primary grouping for data at NCDC.|\n",
    "|`/datacategories`\t|A data category is a general type of data used to group similar data types.|\n",
    "|`/datatypes`\t|A data type is a specific type of data that is often unique to a dataset.|\n",
    "|`/locationcategories`\t|A location category is a grouping of similar locations.|\n",
    "|`/locations`\t|A location is a geopolitical entity.|\n",
    "|`/stations`\t|A station is a any weather observing platform where data is recorded.|\n",
    "|`/data`\t|A datum is an observed value along with any ancillary attributes at a specific place and time.|"
   ]
  },
  {
   "cell_type": "code",
   "execution_count": 55,
   "id": "b26c7362-11b3-416a-98c4-eb8f8eeb5d6d",
   "metadata": {},
   "outputs": [],
   "source": [
    "import pandas as pd\n",
    "\n",
    "import src.acquire as ac"
   ]
  },
  {
   "cell_type": "markdown",
   "id": "669f6e0b-0463-4263-9092-cc42b5d3b233",
   "metadata": {},
   "source": [
    "### `datasets` endpoint"
   ]
  },
  {
   "cell_type": "code",
   "execution_count": 2,
   "id": "3f381c48-bbb8-4083-85d6-edc2ee90f332",
   "metadata": {},
   "outputs": [
    {
     "data": {
      "text/plain": [
       "200"
      ]
     },
     "execution_count": 2,
     "metadata": {},
     "output_type": "execute_result"
    }
   ],
   "source": [
    "# see what datasets are available\n",
    "response = ac.make_request('datasets', {'startdate':'2018-10-01'})\n",
    "\n",
    "# check the status code, 200 -> successful\n",
    "response.status_code"
   ]
  },
  {
   "cell_type": "code",
   "execution_count": 3,
   "id": "b84a5580-5af1-47b9-bd7a-9e7785de9362",
   "metadata": {},
   "outputs": [
    {
     "data": {
      "text/plain": [
       "True"
      ]
     },
     "execution_count": 3,
     "metadata": {},
     "output_type": "execute_result"
    }
   ],
   "source": [
    "# check if successful with boolean response\n",
    "response.ok"
   ]
  },
  {
   "cell_type": "code",
   "execution_count": 4,
   "id": "2608dbbc-e5e6-405b-acb4-d9e663ad16d2",
   "metadata": {},
   "outputs": [],
   "source": [
    "# response.json()"
   ]
  },
  {
   "cell_type": "code",
   "execution_count": 5,
   "id": "57b7c066-de89-43e5-b2f5-cfb4aa4ea68f",
   "metadata": {},
   "outputs": [
    {
     "data": {
      "text/plain": [
       "dict_keys(['metadata', 'results'])"
      ]
     },
     "execution_count": 5,
     "metadata": {},
     "output_type": "execute_result"
    }
   ],
   "source": [
    "response.json().keys()"
   ]
  },
  {
   "cell_type": "code",
   "execution_count": 6,
   "id": "d16b2a67-0b4b-4027-8d9b-956ed0978d61",
   "metadata": {
    "tags": []
   },
   "outputs": [
    {
     "data": {
      "text/plain": [
       "{'resultset': {'offset': 1, 'count': 11, 'limit': 25}}"
      ]
     },
     "execution_count": 6,
     "metadata": {},
     "output_type": "execute_result"
    }
   ],
   "source": [
    "response.json()['metadata'] # 11 rows"
   ]
  },
  {
   "cell_type": "code",
   "execution_count": 7,
   "id": "eb1d070c-fd45-4ba0-a031-37693f032220",
   "metadata": {},
   "outputs": [],
   "source": [
    "# response.json()['results']"
   ]
  },
  {
   "cell_type": "code",
   "execution_count": 8,
   "id": "14cad5e0-a343-4a43-9c9a-0ae45a5a29e7",
   "metadata": {},
   "outputs": [
    {
     "data": {
      "text/plain": [
       "dict_keys(['uid', 'mindate', 'maxdate', 'name', 'datacoverage', 'id'])"
      ]
     },
     "execution_count": 8,
     "metadata": {},
     "output_type": "execute_result"
    }
   ],
   "source": [
    "response.json()['results'][0].keys()"
   ]
  },
  {
   "cell_type": "code",
   "execution_count": 9,
   "id": "e58e039d-15ab-4278-9bd7-b90b82ed49f2",
   "metadata": {},
   "outputs": [
    {
     "data": {
      "text/plain": [
       "[('GHCND', 'Daily Summaries'),\n",
       " ('GSOM', 'Global Summary of the Month'),\n",
       " ('GSOY', 'Global Summary of the Year'),\n",
       " ('NEXRAD2', 'Weather Radar (Level II)'),\n",
       " ('NEXRAD3', 'Weather Radar (Level III)'),\n",
       " ('NORMAL_ANN', 'Normals Annual/Seasonal'),\n",
       " ('NORMAL_DLY', 'Normals Daily'),\n",
       " ('NORMAL_HLY', 'Normals Hourly'),\n",
       " ('NORMAL_MLY', 'Normals Monthly'),\n",
       " ('PRECIP_15', 'Precipitation 15 Minute'),\n",
       " ('PRECIP_HLY', 'Precipitation Hourly')]"
      ]
     },
     "execution_count": 9,
     "metadata": {},
     "output_type": "execute_result"
    }
   ],
   "source": [
    "# get names and ids of each dataset\n",
    "\n",
    "[(data['id'], data['name']) for data in response.json()['results']]"
   ]
  },
  {
   "cell_type": "markdown",
   "id": "0f227242-52c6-4af6-ac37-af1e7283dc4c",
   "metadata": {},
   "source": [
    "### `datacategories` endpoint"
   ]
  },
  {
   "cell_type": "code",
   "execution_count": 10,
   "id": "9ae04d23-6909-4dec-9e21-cd191a9b8fb1",
   "metadata": {},
   "outputs": [],
   "source": [
    "# dataset id = 'GHCND'\n",
    "# now when we know which dataset we want to request, let's see what "
   ]
  },
  {
   "cell_type": "markdown",
   "id": "8440f8b0-971f-4aac-98a9-e4273b4eaea9",
   "metadata": {},
   "source": [
    "https://www.ncdc.noaa.gov/cdo-web/webservices/v2#dataCategories parameters for payload"
   ]
  },
  {
   "cell_type": "code",
   "execution_count": 11,
   "id": "8a73ecf4-8760-465a-872b-d2f79a269df9",
   "metadata": {},
   "outputs": [],
   "source": [
    "response = ac.make_request('datacategories', payload={'datasetid':'GHCND'})"
   ]
  },
  {
   "cell_type": "code",
   "execution_count": 12,
   "id": "8051330b-cc99-47ae-ba5d-ebd844f8acf3",
   "metadata": {},
   "outputs": [
    {
     "data": {
      "text/plain": [
       "(200, True)"
      ]
     },
     "execution_count": 12,
     "metadata": {},
     "output_type": "execute_result"
    }
   ],
   "source": [
    "response.status_code, response.ok"
   ]
  },
  {
   "cell_type": "code",
   "execution_count": 13,
   "id": "8c071d24-4e43-40d8-b204-bbe816426a70",
   "metadata": {},
   "outputs": [
    {
     "data": {
      "text/plain": [
       "{'metadata': {'resultset': {'offset': 1, 'count': 9, 'limit': 25}},\n",
       " 'results': [{'name': 'Evaporation', 'id': 'EVAP'},\n",
       "  {'name': 'Land', 'id': 'LAND'},\n",
       "  {'name': 'Precipitation', 'id': 'PRCP'},\n",
       "  {'name': 'Sky cover & clouds', 'id': 'SKY'},\n",
       "  {'name': 'Sunshine', 'id': 'SUN'},\n",
       "  {'name': 'Air Temperature', 'id': 'TEMP'},\n",
       "  {'name': 'Water', 'id': 'WATER'},\n",
       "  {'name': 'Wind', 'id': 'WIND'},\n",
       "  {'name': 'Weather Type', 'id': 'WXTYPE'}]}"
      ]
     },
     "execution_count": 13,
     "metadata": {},
     "output_type": "execute_result"
    }
   ],
   "source": [
    "response.json()"
   ]
  },
  {
   "cell_type": "code",
   "execution_count": 14,
   "id": "317dc326-3944-4f08-8b9f-e35f08af3bd0",
   "metadata": {},
   "outputs": [
    {
     "data": {
      "text/plain": [
       "{'name': 'Air Temperature', 'id': 'TEMP'}"
      ]
     },
     "execution_count": 14,
     "metadata": {},
     "output_type": "execute_result"
    }
   ],
   "source": [
    "response.json()['results'][5]"
   ]
  },
  {
   "cell_type": "markdown",
   "id": "cacc469b-4efb-41e7-91fb-f4d0b22f4032",
   "metadata": {},
   "source": [
    "### `datatypes` endpoint"
   ]
  },
  {
   "cell_type": "code",
   "execution_count": 15,
   "id": "5fc12fcc-877d-4375-911d-8188433ee51c",
   "metadata": {},
   "outputs": [],
   "source": [
    "response = ac.make_request('datatypes', payload={'datasetid':'GHCND', 'datacategoryid':'TEMP','limit':100})"
   ]
  },
  {
   "cell_type": "code",
   "execution_count": 16,
   "id": "53e73952-e32b-462d-af83-b23790b337d4",
   "metadata": {},
   "outputs": [
    {
     "data": {
      "text/plain": [
       "(200, True)"
      ]
     },
     "execution_count": 16,
     "metadata": {},
     "output_type": "execute_result"
    }
   ],
   "source": [
    "response.status_code, response.ok"
   ]
  },
  {
   "cell_type": "code",
   "execution_count": 17,
   "id": "62d71487-48e6-413d-8123-1faf825ca833",
   "metadata": {},
   "outputs": [
    {
     "data": {
      "text/plain": [
       "dict_keys(['metadata', 'results'])"
      ]
     },
     "execution_count": 17,
     "metadata": {},
     "output_type": "execute_result"
    }
   ],
   "source": [
    "response.json().keys()"
   ]
  },
  {
   "cell_type": "code",
   "execution_count": 18,
   "id": "bf6d6f37-7c1a-4150-be38-2fca182509f3",
   "metadata": {},
   "outputs": [
    {
     "data": {
      "text/plain": [
       "{'mindate': '1863-05-04',\n",
       " 'maxdate': '2022-12-15',\n",
       " 'name': 'Number of days included in the multiday minimum temperature (MDTN)',\n",
       " 'datacoverage': 1,\n",
       " 'id': 'DATN'}"
      ]
     },
     "execution_count": 18,
     "metadata": {},
     "output_type": "execute_result"
    }
   ],
   "source": [
    "response.json()['results'][0]"
   ]
  },
  {
   "cell_type": "code",
   "execution_count": 79,
   "id": "b03182aa-eba2-4528-8e67-99cc4485934d",
   "metadata": {},
   "outputs": [
    {
     "data": {
      "text/plain": [
       "[('DATN',\n",
       "  'Number of days included in the multiday minimum temperature (MDTN)'),\n",
       " ('DATX',\n",
       "  'Number of days included in the multiday maximum temperature (MDTX)'),\n",
       " ('MDTN', 'Multiday minimum temperature (use with DATN)'),\n",
       " ('MDTX', 'Multiday maximum temperature (use with DATX)'),\n",
       " ('TAVG', 'Average Temperature.'),\n",
       " ('TMAX', 'Maximum temperature'),\n",
       " ('TMIN', 'Minimum temperature'),\n",
       " ('TOBS', 'Temperature at the time of observation')]"
      ]
     },
     "execution_count": 79,
     "metadata": {},
     "output_type": "execute_result"
    }
   ],
   "source": [
    "[(data['id'], data['name']) for data in response.json()['results']]"
   ]
  },
  {
   "cell_type": "markdown",
   "id": "db4ec517-ff4f-4146-967e-0735be7f7770",
   "metadata": {},
   "source": [
    "### `locationcategories` endpoint"
   ]
  },
  {
   "cell_type": "code",
   "execution_count": 20,
   "id": "c2ec90fe-fdae-4366-9866-a58295c3b8cd",
   "metadata": {},
   "outputs": [],
   "source": [
    "response = ac.make_request('locationcategories', {'datasetid':'GHCND', 'startdate':'2018-10-01'})"
   ]
  },
  {
   "cell_type": "code",
   "execution_count": 21,
   "id": "e661f334-7718-443b-bfda-cd803c3c3f94",
   "metadata": {},
   "outputs": [
    {
     "data": {
      "text/plain": [
       "(200, True)"
      ]
     },
     "execution_count": 21,
     "metadata": {},
     "output_type": "execute_result"
    }
   ],
   "source": [
    "response.status_code, response.ok"
   ]
  },
  {
   "cell_type": "code",
   "execution_count": 22,
   "id": "a60e31ba-7f81-43fb-8b6c-69378a4e7a3f",
   "metadata": {},
   "outputs": [
    {
     "data": {
      "text/plain": [
       "{'metadata': {'resultset': {'offset': 1, 'count': 12, 'limit': 25}},\n",
       " 'results': [{'name': 'City', 'id': 'CITY'},\n",
       "  {'name': 'Climate Division', 'id': 'CLIM_DIV'},\n",
       "  {'name': 'Climate Region', 'id': 'CLIM_REG'},\n",
       "  {'name': 'Country', 'id': 'CNTRY'},\n",
       "  {'name': 'County', 'id': 'CNTY'},\n",
       "  {'name': 'Hydrologic Accounting Unit', 'id': 'HYD_ACC'},\n",
       "  {'name': 'Hydrologic Cataloging Unit', 'id': 'HYD_CAT'},\n",
       "  {'name': 'Hydrologic Region', 'id': 'HYD_REG'},\n",
       "  {'name': 'Hydrologic Subregion', 'id': 'HYD_SUB'},\n",
       "  {'name': 'State', 'id': 'ST'},\n",
       "  {'name': 'US Territory', 'id': 'US_TERR'},\n",
       "  {'name': 'Zip Code', 'id': 'ZIP'}]}"
      ]
     },
     "execution_count": 22,
     "metadata": {},
     "output_type": "execute_result"
    }
   ],
   "source": [
    "response.json()"
   ]
  },
  {
   "cell_type": "code",
   "execution_count": 26,
   "id": "e91538a5-d031-4938-b12f-aa173e46c409",
   "metadata": {},
   "outputs": [
    {
     "name": "stdout",
     "output_type": "stream",
     "text": [
      "{'metadata': {'resultset': {'count': 12, 'limit': 25, 'offset': 1}},\n",
      " 'results': [{'id': 'CITY', 'name': 'City'},\n",
      "             {'id': 'CLIM_DIV', 'name': 'Climate Division'},\n",
      "             {'id': 'CLIM_REG', 'name': 'Climate Region'},\n",
      "             {'id': 'CNTRY', 'name': 'Country'},\n",
      "             {'id': 'CNTY', 'name': 'County'},\n",
      "             {'id': 'HYD_ACC', 'name': 'Hydrologic Accounting Unit'},\n",
      "             {'id': 'HYD_CAT', 'name': 'Hydrologic Cataloging Unit'},\n",
      "             {'id': 'HYD_REG', 'name': 'Hydrologic Region'},\n",
      "             {'id': 'HYD_SUB', 'name': 'Hydrologic Subregion'},\n",
      "             {'id': 'ST', 'name': 'State'},\n",
      "             {'id': 'US_TERR', 'name': 'US Territory'},\n",
      "             {'id': 'ZIP', 'name': 'Zip Code'}]}\n"
     ]
    }
   ],
   "source": [
    "# print in organized format\n",
    "import pprint\n",
    "pprint.pprint(response.json())"
   ]
  },
  {
   "cell_type": "code",
   "execution_count": 24,
   "id": "9761c3ad-2ec1-4ae6-8671-b471e4f9ed2c",
   "metadata": {},
   "outputs": [
    {
     "data": {
      "text/plain": [
       "{'name': 'City', 'id': 'CITY'}"
      ]
     },
     "execution_count": 24,
     "metadata": {},
     "output_type": "execute_result"
    }
   ],
   "source": [
    "response.json()['results'][0]"
   ]
  },
  {
   "cell_type": "code",
   "execution_count": 31,
   "id": "172d58ae-9035-4908-bb4e-69075b8750aa",
   "metadata": {},
   "outputs": [],
   "source": [
    "austin = ac.get_location('Austin')"
   ]
  },
  {
   "cell_type": "code",
   "execution_count": 32,
   "id": "4aaa4cec-6a0b-4080-85ce-97bf6b3386e6",
   "metadata": {},
   "outputs": [
    {
     "data": {
      "text/plain": [
       "{'mindate': '1893-02-28',\n",
       " 'maxdate': '2022-12-26',\n",
       " 'name': 'Austin, TX US',\n",
       " 'datacoverage': 1,\n",
       " 'id': 'CITY:US480005'}"
      ]
     },
     "execution_count": 32,
     "metadata": {},
     "output_type": "execute_result"
    }
   ],
   "source": [
    "austin"
   ]
  },
  {
   "cell_type": "markdown",
   "id": "4e327610-4502-4611-bc00-5083ba4d0f29",
   "metadata": {},
   "source": [
    "### `stations` endpoint"
   ]
  },
  {
   "cell_type": "code",
   "execution_count": 33,
   "id": "6b7e7c03-9c69-45d5-bad9-c490913340a4",
   "metadata": {},
   "outputs": [],
   "source": [
    "# find weather stations in Austin, TX"
   ]
  },
  {
   "cell_type": "code",
   "execution_count": 79,
   "id": "2eb88437-98af-4f82-9c3d-32065b96d964",
   "metadata": {},
   "outputs": [],
   "source": [
    "response = ac.make_request('stations', {'datasetid':'GHCND', 'datacategoryid':'TEMP', 'locationid':austin['id']})"
   ]
  },
  {
   "cell_type": "code",
   "execution_count": 80,
   "id": "d6a186ea-2616-4db4-9d18-a10453d72b47",
   "metadata": {},
   "outputs": [
    {
     "data": {
      "text/plain": [
       "(200, True)"
      ]
     },
     "execution_count": 80,
     "metadata": {},
     "output_type": "execute_result"
    }
   ],
   "source": [
    "response.status_code, response.ok"
   ]
  },
  {
   "cell_type": "code",
   "execution_count": 81,
   "id": "e7be8f14-4628-40ed-8548-c9dba38c14cc",
   "metadata": {},
   "outputs": [
    {
     "data": {
      "text/plain": [
       "[('GHCND:USC00410420', 'AUSTIN, TX US'),\n",
       " ('GHCND:USC00410427', 'AUSTIN WATER TREATMENT PLANT, TX US'),\n",
       " ('GHCND:USC00410431', 'AUSTIN 6 S, TX US'),\n",
       " ('GHCND:USC00410433', 'AUSTIN GREAT HILLS, TX US'),\n",
       " ('GHCND:USC00412655', 'DUVAL, TX US'),\n",
       " ('GHCND:USC00414185', 'HILL S RANCH, TX US'),\n",
       " ('GHCND:USC00415561', 'MANSFIELD DAM, TX US'),\n",
       " ('GHCND:USC00417790', 'ROUND ROCK, TX US'),\n",
       " ('GHCND:USW00000230', 'AUSTIN EXECUTIVE AIRPORT, TX US'),\n",
       " ('GHCND:USW00013904', 'AUSTIN BERGSTROM INTERNATIONAL AIRPORT, TX US'),\n",
       " ('GHCND:USW00013958', 'AUSTIN CAMP MABRY, TX US')]"
      ]
     },
     "execution_count": 81,
     "metadata": {},
     "output_type": "execute_result"
    }
   ],
   "source": [
    "[(data['id'], data['name']) for data in response.json()['results']]"
   ]
  },
  {
   "cell_type": "code",
   "execution_count": 84,
   "id": "8df708ef-16e2-433a-89d7-18d97856ebcd",
   "metadata": {},
   "outputs": [
    {
     "data": {
      "text/plain": [
       "{'elevation': 146.5,\n",
       " 'mindate': '1948-03-01',\n",
       " 'maxdate': '2022-12-25',\n",
       " 'latitude': 30.18311,\n",
       " 'name': 'AUSTIN BERGSTROM INTERNATIONAL AIRPORT, TX US',\n",
       " 'datacoverage': 0.5697,\n",
       " 'id': 'GHCND:USW00013904',\n",
       " 'elevationUnit': 'METERS',\n",
       " 'longitude': -97.67989}"
      ]
     },
     "execution_count": 84,
     "metadata": {},
     "output_type": "execute_result"
    }
   ],
   "source": [
    "# info about Round Rock station\n",
    "response.json()['results'][9]"
   ]
  },
  {
   "cell_type": "code",
   "execution_count": 85,
   "id": "ceffadbb-7860-45dd-8c90-c79ebfc5f4c1",
   "metadata": {},
   "outputs": [],
   "source": [
    "# save the information\n",
    "airport = response.json()['results'][9]"
   ]
  },
  {
   "cell_type": "code",
   "execution_count": 86,
   "id": "6f2429d2-df7b-4db7-9170-82aba7da7adf",
   "metadata": {},
   "outputs": [
    {
     "data": {
      "text/plain": [
       "{'elevation': 146.5,\n",
       " 'mindate': '1948-03-01',\n",
       " 'maxdate': '2022-12-25',\n",
       " 'latitude': 30.18311,\n",
       " 'name': 'AUSTIN BERGSTROM INTERNATIONAL AIRPORT, TX US',\n",
       " 'datacoverage': 0.5697,\n",
       " 'id': 'GHCND:USW00013904',\n",
       " 'elevationUnit': 'METERS',\n",
       " 'longitude': -97.67989}"
      ]
     },
     "execution_count": 86,
     "metadata": {},
     "output_type": "execute_result"
    }
   ],
   "source": [
    "airport"
   ]
  },
  {
   "cell_type": "markdown",
   "id": "260dd563-5031-494d-b092-f817e3336dd5",
   "metadata": {
    "tags": []
   },
   "source": [
    "### Final Part \n",
    "### `data` endpoint. Save the results into a `DataFrame`"
   ]
  },
  {
   "cell_type": "code",
   "execution_count": 100,
   "id": "370fb6b0-cfe8-489f-b840-854d05dc4fd9",
   "metadata": {},
   "outputs": [],
   "source": [
    "# grab the data from Austin, TX from Nov, 2022"
   ]
  },
  {
   "cell_type": "code",
   "execution_count": 87,
   "id": "fd485ec3-4128-4417-82d7-37bb2518f414",
   "metadata": {},
   "outputs": [],
   "source": [
    "response = ac.make_request('data', \n",
    "                           {\n",
    "                               'datasetid':'GHCND', \n",
    "                               'datacategoryid':'TEMP', \n",
    "                               'locationid':austin['id'],\n",
    "                               'stationid':airport['id'],\n",
    "                               'startdate':'2022-11-01',\n",
    "                               'enddate':'2022-11-30',\n",
    "                               'datatypeid':['TAVG', 'TOBS', 'TMIN', 'TMAX'],\n",
    "                               'units':'standard',\n",
    "                               'limit':1000\n",
    "                           })"
   ]
  },
  {
   "cell_type": "code",
   "execution_count": 88,
   "id": "16246ebe-0438-4cdb-afc0-77254e9de88a",
   "metadata": {},
   "outputs": [
    {
     "data": {
      "text/plain": [
       "(200, True)"
      ]
     },
     "execution_count": 88,
     "metadata": {},
     "output_type": "execute_result"
    }
   ],
   "source": [
    "response.status_code, response.ok"
   ]
  },
  {
   "cell_type": "code",
   "execution_count": 62,
   "id": "31978579-4e77-4d66-957e-8015c3df5ea5",
   "metadata": {},
   "outputs": [],
   "source": [
    "# response.json() # max date at round rock is 1895 :( "
   ]
  },
  {
   "cell_type": "code",
   "execution_count": 51,
   "id": "b9f5ee2f-a202-4272-b9e9-7041d23f3093",
   "metadata": {},
   "outputs": [],
   "source": [
    "# reload without stationid"
   ]
  },
  {
   "cell_type": "code",
   "execution_count": 75,
   "id": "f61e145a-bfa7-4286-9f06-b71c577792c7",
   "metadata": {},
   "outputs": [
    {
     "data": {
      "text/plain": [
       "dict_keys(['metadata', 'results'])"
      ]
     },
     "execution_count": 75,
     "metadata": {},
     "output_type": "execute_result"
    }
   ],
   "source": [
    "response.json().keys()"
   ]
  },
  {
   "cell_type": "code",
   "execution_count": 89,
   "id": "987cd765-4819-4970-afb6-32882966a5d7",
   "metadata": {},
   "outputs": [
    {
     "data": {
      "text/plain": [
       "{'resultset': {'offset': 1, 'count': 90, 'limit': 1000}}"
      ]
     },
     "execution_count": 89,
     "metadata": {},
     "output_type": "execute_result"
    }
   ],
   "source": [
    "response.json()['metadata']"
   ]
  },
  {
   "cell_type": "code",
   "execution_count": 90,
   "id": "a9276533-3c5e-43a2-9403-2910fedde822",
   "metadata": {},
   "outputs": [],
   "source": [
    "df = pd.DataFrame(response.json()['results'])"
   ]
  },
  {
   "cell_type": "code",
   "execution_count": 91,
   "id": "18dd13b8-bc43-4f49-b8f3-e704a3883946",
   "metadata": {},
   "outputs": [
    {
     "data": {
      "text/html": [
       "<div>\n",
       "<style scoped>\n",
       "    .dataframe tbody tr th:only-of-type {\n",
       "        vertical-align: middle;\n",
       "    }\n",
       "\n",
       "    .dataframe tbody tr th {\n",
       "        vertical-align: top;\n",
       "    }\n",
       "\n",
       "    .dataframe thead th {\n",
       "        text-align: right;\n",
       "    }\n",
       "</style>\n",
       "<table border=\"1\" class=\"dataframe\">\n",
       "  <thead>\n",
       "    <tr style=\"text-align: right;\">\n",
       "      <th></th>\n",
       "      <th>date</th>\n",
       "      <th>datatype</th>\n",
       "      <th>station</th>\n",
       "      <th>attributes</th>\n",
       "      <th>value</th>\n",
       "    </tr>\n",
       "  </thead>\n",
       "  <tbody>\n",
       "    <tr>\n",
       "      <th>0</th>\n",
       "      <td>2022-11-01T00:00:00</td>\n",
       "      <td>TAVG</td>\n",
       "      <td>GHCND:USW00013904</td>\n",
       "      <td>H,,S,</td>\n",
       "      <td>61.0</td>\n",
       "    </tr>\n",
       "    <tr>\n",
       "      <th>1</th>\n",
       "      <td>2022-11-01T00:00:00</td>\n",
       "      <td>TMAX</td>\n",
       "      <td>GHCND:USW00013904</td>\n",
       "      <td>,,D,2400</td>\n",
       "      <td>66.0</td>\n",
       "    </tr>\n",
       "    <tr>\n",
       "      <th>2</th>\n",
       "      <td>2022-11-01T00:00:00</td>\n",
       "      <td>TMIN</td>\n",
       "      <td>GHCND:USW00013904</td>\n",
       "      <td>,,D,2400</td>\n",
       "      <td>53.0</td>\n",
       "    </tr>\n",
       "    <tr>\n",
       "      <th>3</th>\n",
       "      <td>2022-11-02T00:00:00</td>\n",
       "      <td>TAVG</td>\n",
       "      <td>GHCND:USW00013904</td>\n",
       "      <td>H,,S,</td>\n",
       "      <td>63.0</td>\n",
       "    </tr>\n",
       "    <tr>\n",
       "      <th>4</th>\n",
       "      <td>2022-11-02T00:00:00</td>\n",
       "      <td>TMAX</td>\n",
       "      <td>GHCND:USW00013904</td>\n",
       "      <td>,,D,2400</td>\n",
       "      <td>77.0</td>\n",
       "    </tr>\n",
       "    <tr>\n",
       "      <th>...</th>\n",
       "      <td>...</td>\n",
       "      <td>...</td>\n",
       "      <td>...</td>\n",
       "      <td>...</td>\n",
       "      <td>...</td>\n",
       "    </tr>\n",
       "    <tr>\n",
       "      <th>85</th>\n",
       "      <td>2022-11-29T00:00:00</td>\n",
       "      <td>TMAX</td>\n",
       "      <td>GHCND:USW00013904</td>\n",
       "      <td>,,D,2400</td>\n",
       "      <td>84.0</td>\n",
       "    </tr>\n",
       "    <tr>\n",
       "      <th>86</th>\n",
       "      <td>2022-11-29T00:00:00</td>\n",
       "      <td>TMIN</td>\n",
       "      <td>GHCND:USW00013904</td>\n",
       "      <td>,,D,2400</td>\n",
       "      <td>49.0</td>\n",
       "    </tr>\n",
       "    <tr>\n",
       "      <th>87</th>\n",
       "      <td>2022-11-30T00:00:00</td>\n",
       "      <td>TAVG</td>\n",
       "      <td>GHCND:USW00013904</td>\n",
       "      <td>H,,S,</td>\n",
       "      <td>53.0</td>\n",
       "    </tr>\n",
       "    <tr>\n",
       "      <th>88</th>\n",
       "      <td>2022-11-30T00:00:00</td>\n",
       "      <td>TMAX</td>\n",
       "      <td>GHCND:USW00013904</td>\n",
       "      <td>,,D,2400</td>\n",
       "      <td>59.0</td>\n",
       "    </tr>\n",
       "    <tr>\n",
       "      <th>89</th>\n",
       "      <td>2022-11-30T00:00:00</td>\n",
       "      <td>TMIN</td>\n",
       "      <td>GHCND:USW00013904</td>\n",
       "      <td>,,D,2400</td>\n",
       "      <td>37.0</td>\n",
       "    </tr>\n",
       "  </tbody>\n",
       "</table>\n",
       "<p>90 rows × 5 columns</p>\n",
       "</div>"
      ],
      "text/plain": [
       "                   date datatype            station attributes  value\n",
       "0   2022-11-01T00:00:00     TAVG  GHCND:USW00013904      H,,S,   61.0\n",
       "1   2022-11-01T00:00:00     TMAX  GHCND:USW00013904   ,,D,2400   66.0\n",
       "2   2022-11-01T00:00:00     TMIN  GHCND:USW00013904   ,,D,2400   53.0\n",
       "3   2022-11-02T00:00:00     TAVG  GHCND:USW00013904      H,,S,   63.0\n",
       "4   2022-11-02T00:00:00     TMAX  GHCND:USW00013904   ,,D,2400   77.0\n",
       "..                  ...      ...                ...        ...    ...\n",
       "85  2022-11-29T00:00:00     TMAX  GHCND:USW00013904   ,,D,2400   84.0\n",
       "86  2022-11-29T00:00:00     TMIN  GHCND:USW00013904   ,,D,2400   49.0\n",
       "87  2022-11-30T00:00:00     TAVG  GHCND:USW00013904      H,,S,   53.0\n",
       "88  2022-11-30T00:00:00     TMAX  GHCND:USW00013904   ,,D,2400   59.0\n",
       "89  2022-11-30T00:00:00     TMIN  GHCND:USW00013904   ,,D,2400   37.0\n",
       "\n",
       "[90 rows x 5 columns]"
      ]
     },
     "execution_count": 91,
     "metadata": {},
     "output_type": "execute_result"
    }
   ],
   "source": [
    "df"
   ]
  },
  {
   "cell_type": "code",
   "execution_count": 93,
   "id": "20dc1157-8ccd-4a1e-ad77-b885f304d9c0",
   "metadata": {},
   "outputs": [
    {
     "data": {
      "text/plain": [
       "array(['TAVG', 'TMAX', 'TMIN'], dtype=object)"
      ]
     },
     "execution_count": 93,
     "metadata": {},
     "output_type": "execute_result"
    }
   ],
   "source": [
    "df.datatype.unique() # TOBS wasn't saved. Might be not available at the location"
   ]
  },
  {
   "cell_type": "code",
   "execution_count": 94,
   "id": "bbf535d3-bfed-4af0-9d65-deb2aa6beb5d",
   "metadata": {},
   "outputs": [
    {
     "data": {
      "text/plain": [
       "Index(['date', 'datatype', 'station', 'attributes', 'value'], dtype='object')"
      ]
     },
     "execution_count": 94,
     "metadata": {},
     "output_type": "execute_result"
    }
   ],
   "source": [
    "df.columns"
   ]
  },
  {
   "cell_type": "code",
   "execution_count": 95,
   "id": "e0e3716e-2601-4046-a1e3-f09d0eae767b",
   "metadata": {},
   "outputs": [],
   "source": [
    "df.rename(columns={'value':'temp_f',\n",
    "                   'attributes':'flags'}, inplace=True)"
   ]
  },
  {
   "cell_type": "code",
   "execution_count": 97,
   "id": "4a9dea13-382d-4ace-9b30-77be1ff64bb5",
   "metadata": {},
   "outputs": [
    {
     "data": {
      "text/html": [
       "<div>\n",
       "<style scoped>\n",
       "    .dataframe tbody tr th:only-of-type {\n",
       "        vertical-align: middle;\n",
       "    }\n",
       "\n",
       "    .dataframe tbody tr th {\n",
       "        vertical-align: top;\n",
       "    }\n",
       "\n",
       "    .dataframe thead th {\n",
       "        text-align: right;\n",
       "    }\n",
       "</style>\n",
       "<table border=\"1\" class=\"dataframe\">\n",
       "  <thead>\n",
       "    <tr style=\"text-align: right;\">\n",
       "      <th></th>\n",
       "      <th>date</th>\n",
       "      <th>datatype</th>\n",
       "      <th>station</th>\n",
       "      <th>flags</th>\n",
       "      <th>temp_f</th>\n",
       "    </tr>\n",
       "  </thead>\n",
       "  <tbody>\n",
       "    <tr>\n",
       "      <th>0</th>\n",
       "      <td>2022-11-01T00:00:00</td>\n",
       "      <td>TAVG</td>\n",
       "      <td>GHCND:USW00013904</td>\n",
       "      <td>H,,S,</td>\n",
       "      <td>61.0</td>\n",
       "    </tr>\n",
       "  </tbody>\n",
       "</table>\n",
       "</div>"
      ],
      "text/plain": [
       "                  date datatype            station  flags  temp_f\n",
       "0  2022-11-01T00:00:00     TAVG  GHCND:USW00013904  H,,S,    61.0"
      ]
     },
     "execution_count": 97,
     "metadata": {},
     "output_type": "execute_result"
    }
   ],
   "source": [
    "df.head(1)"
   ]
  },
  {
   "cell_type": "code",
   "execution_count": 99,
   "id": "a0c9575b-c3df-460f-91ed-5b8e1d0bf840",
   "metadata": {},
   "outputs": [
    {
     "data": {
      "text/html": [
       "<div>\n",
       "<style scoped>\n",
       "    .dataframe tbody tr th:only-of-type {\n",
       "        vertical-align: middle;\n",
       "    }\n",
       "\n",
       "    .dataframe tbody tr th {\n",
       "        vertical-align: top;\n",
       "    }\n",
       "\n",
       "    .dataframe thead th {\n",
       "        text-align: right;\n",
       "    }\n",
       "</style>\n",
       "<table border=\"1\" class=\"dataframe\">\n",
       "  <thead>\n",
       "    <tr style=\"text-align: right;\">\n",
       "      <th></th>\n",
       "      <th>count</th>\n",
       "      <th>mean</th>\n",
       "      <th>std</th>\n",
       "      <th>min</th>\n",
       "      <th>25%</th>\n",
       "      <th>50%</th>\n",
       "      <th>75%</th>\n",
       "      <th>max</th>\n",
       "    </tr>\n",
       "  </thead>\n",
       "  <tbody>\n",
       "    <tr>\n",
       "      <th>temp_f</th>\n",
       "      <td>90.0</td>\n",
       "      <td>57.366667</td>\n",
       "      <td>14.02041</td>\n",
       "      <td>29.0</td>\n",
       "      <td>47.0</td>\n",
       "      <td>56.0</td>\n",
       "      <td>67.0</td>\n",
       "      <td>86.0</td>\n",
       "    </tr>\n",
       "  </tbody>\n",
       "</table>\n",
       "</div>"
      ],
      "text/plain": [
       "        count       mean       std   min   25%   50%   75%   max\n",
       "temp_f   90.0  57.366667  14.02041  29.0  47.0  56.0  67.0  86.0"
      ]
     },
     "execution_count": 99,
     "metadata": {},
     "output_type": "execute_result"
    }
   ],
   "source": [
    "df.describe().T"
   ]
  },
  {
   "cell_type": "code",
   "execution_count": 103,
   "id": "7ca49d79-ff7f-4715-b5ad-767892ff9fd4",
   "metadata": {},
   "outputs": [],
   "source": [
    "# rename all columns to upper case\n",
    "df.rename(str.upper, axis=1, inplace=True)"
   ]
  },
  {
   "cell_type": "code",
   "execution_count": 104,
   "id": "b28ea351-d74e-4795-bc39-105a8a63dc8c",
   "metadata": {},
   "outputs": [
    {
     "data": {
      "text/html": [
       "<div>\n",
       "<style scoped>\n",
       "    .dataframe tbody tr th:only-of-type {\n",
       "        vertical-align: middle;\n",
       "    }\n",
       "\n",
       "    .dataframe tbody tr th {\n",
       "        vertical-align: top;\n",
       "    }\n",
       "\n",
       "    .dataframe thead th {\n",
       "        text-align: right;\n",
       "    }\n",
       "</style>\n",
       "<table border=\"1\" class=\"dataframe\">\n",
       "  <thead>\n",
       "    <tr style=\"text-align: right;\">\n",
       "      <th></th>\n",
       "      <th>DATE</th>\n",
       "      <th>DATATYPE</th>\n",
       "      <th>STATION</th>\n",
       "      <th>FLAGS</th>\n",
       "      <th>TEMP_F</th>\n",
       "    </tr>\n",
       "  </thead>\n",
       "  <tbody>\n",
       "    <tr>\n",
       "      <th>0</th>\n",
       "      <td>2022-11-01T00:00:00</td>\n",
       "      <td>TAVG</td>\n",
       "      <td>GHCND:USW00013904</td>\n",
       "      <td>H,,S,</td>\n",
       "      <td>61.0</td>\n",
       "    </tr>\n",
       "  </tbody>\n",
       "</table>\n",
       "</div>"
      ],
      "text/plain": [
       "                  DATE DATATYPE            STATION  FLAGS  TEMP_F\n",
       "0  2022-11-01T00:00:00     TAVG  GHCND:USW00013904  H,,S,    61.0"
      ]
     },
     "execution_count": 104,
     "metadata": {},
     "output_type": "execute_result"
    }
   ],
   "source": [
    "df.head(1)"
   ]
  },
  {
   "cell_type": "code",
   "execution_count": 106,
   "id": "a7cc1bbd-6a77-43bf-991f-a5607c4a5c74",
   "metadata": {},
   "outputs": [],
   "source": [
    "# rename back to lower case\n",
    "df.rename(str.lower, axis='columns', inplace=True)"
   ]
  },
  {
   "cell_type": "code",
   "execution_count": 107,
   "id": "9f5f635a-aaf2-4eff-a55a-f645734c5ec1",
   "metadata": {},
   "outputs": [
    {
     "data": {
      "text/html": [
       "<div>\n",
       "<style scoped>\n",
       "    .dataframe tbody tr th:only-of-type {\n",
       "        vertical-align: middle;\n",
       "    }\n",
       "\n",
       "    .dataframe tbody tr th {\n",
       "        vertical-align: top;\n",
       "    }\n",
       "\n",
       "    .dataframe thead th {\n",
       "        text-align: right;\n",
       "    }\n",
       "</style>\n",
       "<table border=\"1\" class=\"dataframe\">\n",
       "  <thead>\n",
       "    <tr style=\"text-align: right;\">\n",
       "      <th></th>\n",
       "      <th>date</th>\n",
       "      <th>datatype</th>\n",
       "      <th>station</th>\n",
       "      <th>flags</th>\n",
       "      <th>temp_f</th>\n",
       "    </tr>\n",
       "  </thead>\n",
       "  <tbody>\n",
       "    <tr>\n",
       "      <th>0</th>\n",
       "      <td>2022-11-01T00:00:00</td>\n",
       "      <td>TAVG</td>\n",
       "      <td>GHCND:USW00013904</td>\n",
       "      <td>H,,S,</td>\n",
       "      <td>61.0</td>\n",
       "    </tr>\n",
       "  </tbody>\n",
       "</table>\n",
       "</div>"
      ],
      "text/plain": [
       "                  date datatype            station  flags  temp_f\n",
       "0  2022-11-01T00:00:00     TAVG  GHCND:USW00013904  H,,S,    61.0"
      ]
     },
     "execution_count": 107,
     "metadata": {},
     "output_type": "execute_result"
    }
   ],
   "source": [
    "df.head(1)"
   ]
  },
  {
   "cell_type": "code",
   "execution_count": 108,
   "id": "ca32948f-9c62-4a94-8e78-555859df0183",
   "metadata": {},
   "outputs": [
    {
     "data": {
      "text/plain": [
       "date         object\n",
       "datatype     object\n",
       "station      object\n",
       "flags        object\n",
       "temp_f      float64\n",
       "dtype: object"
      ]
     },
     "execution_count": 108,
     "metadata": {},
     "output_type": "execute_result"
    }
   ],
   "source": [
    "df.dtypes"
   ]
  },
  {
   "cell_type": "code",
   "execution_count": 109,
   "id": "50f33d12-69c5-472b-ab3f-472302c1ebfd",
   "metadata": {},
   "outputs": [
    {
     "name": "stdout",
     "output_type": "stream",
     "text": [
      "<class 'pandas.core.frame.DataFrame'>\n",
      "RangeIndex: 90 entries, 0 to 89\n",
      "Data columns (total 5 columns):\n",
      " #   Column    Non-Null Count  Dtype  \n",
      "---  ------    --------------  -----  \n",
      " 0   date      90 non-null     object \n",
      " 1   datatype  90 non-null     object \n",
      " 2   station   90 non-null     object \n",
      " 3   flags     90 non-null     object \n",
      " 4   temp_f    90 non-null     float64\n",
      "dtypes: float64(1), object(4)\n",
      "memory usage: 3.6+ KB\n"
     ]
    }
   ],
   "source": [
    "df.info()"
   ]
  },
  {
   "cell_type": "code",
   "execution_count": 112,
   "id": "d030a713-1813-4413-b015-857ff2004d64",
   "metadata": {},
   "outputs": [],
   "source": [
    "# df.temp_f.to_list() all end with .0 can be converted into integer"
   ]
  },
  {
   "cell_type": "code",
   "execution_count": 124,
   "id": "ffecf9a7-b06c-4376-8c21-71470d39ddef",
   "metadata": {},
   "outputs": [],
   "source": [
    "df.loc[:,'date'] = pd.to_datetime(df.date)"
   ]
  },
  {
   "cell_type": "code",
   "execution_count": 114,
   "id": "5f45bc00-4a0d-4d9b-b7a2-2cbd718e5b07",
   "metadata": {},
   "outputs": [
    {
     "data": {
      "text/plain": [
       "date        datetime64[ns]\n",
       "datatype            object\n",
       "station             object\n",
       "flags               object\n",
       "temp_f             float64\n",
       "dtype: object"
      ]
     },
     "execution_count": 114,
     "metadata": {},
     "output_type": "execute_result"
    }
   ],
   "source": [
    "df.dtypes"
   ]
  },
  {
   "cell_type": "code",
   "execution_count": 115,
   "id": "e62a9d59-6118-47b4-bd3e-04bd20a00589",
   "metadata": {},
   "outputs": [
    {
     "data": {
      "text/html": [
       "<div>\n",
       "<style scoped>\n",
       "    .dataframe tbody tr th:only-of-type {\n",
       "        vertical-align: middle;\n",
       "    }\n",
       "\n",
       "    .dataframe tbody tr th {\n",
       "        vertical-align: top;\n",
       "    }\n",
       "\n",
       "    .dataframe thead th {\n",
       "        text-align: right;\n",
       "    }\n",
       "</style>\n",
       "<table border=\"1\" class=\"dataframe\">\n",
       "  <thead>\n",
       "    <tr style=\"text-align: right;\">\n",
       "      <th></th>\n",
       "      <th>date</th>\n",
       "      <th>datatype</th>\n",
       "      <th>station</th>\n",
       "      <th>flags</th>\n",
       "      <th>temp_f</th>\n",
       "    </tr>\n",
       "  </thead>\n",
       "  <tbody>\n",
       "    <tr>\n",
       "      <th>0</th>\n",
       "      <td>2022-11-01</td>\n",
       "      <td>TAVG</td>\n",
       "      <td>GHCND:USW00013904</td>\n",
       "      <td>H,,S,</td>\n",
       "      <td>61.0</td>\n",
       "    </tr>\n",
       "  </tbody>\n",
       "</table>\n",
       "</div>"
      ],
      "text/plain": [
       "        date datatype            station  flags  temp_f\n",
       "0 2022-11-01     TAVG  GHCND:USW00013904  H,,S,    61.0"
      ]
     },
     "execution_count": 115,
     "metadata": {},
     "output_type": "execute_result"
    }
   ],
   "source": [
    "df.head(1)"
   ]
  },
  {
   "cell_type": "code",
   "execution_count": 120,
   "id": "ee171c4a-a465-4bf6-8ccb-c8ad35b0c090",
   "metadata": {},
   "outputs": [
    {
     "name": "stderr",
     "output_type": "stream",
     "text": [
      "C:\\Users\\rozin\\AppData\\Local\\Temp\\ipykernel_8348\\1722282515.py:1: FutureWarning: Treating datetime data as categorical rather than numeric in `.describe` is deprecated and will be removed in a future version of pandas. Specify `datetime_is_numeric=True` to silence this warning and adopt the future behavior now.\n",
      "  df.date.describe(datetime_is_numeric=False)\n"
     ]
    },
    {
     "data": {
      "text/plain": [
       "count                      90\n",
       "unique                     30\n",
       "top       2022-11-01 00:00:00\n",
       "freq                        3\n",
       "first     2022-11-01 00:00:00\n",
       "last      2022-11-30 00:00:00\n",
       "Name: date, dtype: object"
      ]
     },
     "execution_count": 120,
     "metadata": {},
     "output_type": "execute_result"
    }
   ],
   "source": [
    "df.date.describe(datetime_is_numeric=False)"
   ]
  },
  {
   "cell_type": "code",
   "execution_count": 122,
   "id": "db28380d-1dad-4673-8f76-c99a69f64385",
   "metadata": {},
   "outputs": [
    {
     "data": {
      "text/plain": [
       "count                     90\n",
       "mean     2022-11-15 12:00:00\n",
       "min      2022-11-01 00:00:00\n",
       "25%      2022-11-08 00:00:00\n",
       "50%      2022-11-15 12:00:00\n",
       "75%      2022-11-23 00:00:00\n",
       "max      2022-11-30 00:00:00\n",
       "Name: date, dtype: object"
      ]
     },
     "execution_count": 122,
     "metadata": {},
     "output_type": "execute_result"
    }
   ],
   "source": [
    "df.date.describe(datetime_is_numeric=True) # useless"
   ]
  },
  {
   "cell_type": "code",
   "execution_count": 130,
   "id": "fb663840-b847-4431-b867-cebbf9fd77f7",
   "metadata": {},
   "outputs": [
    {
     "data": {
      "text/html": [
       "<div>\n",
       "<style scoped>\n",
       "    .dataframe tbody tr th:only-of-type {\n",
       "        vertical-align: middle;\n",
       "    }\n",
       "\n",
       "    .dataframe tbody tr th {\n",
       "        vertical-align: top;\n",
       "    }\n",
       "\n",
       "    .dataframe thead th {\n",
       "        text-align: right;\n",
       "    }\n",
       "</style>\n",
       "<table border=\"1\" class=\"dataframe\">\n",
       "  <thead>\n",
       "    <tr style=\"text-align: right;\">\n",
       "      <th></th>\n",
       "      <th>datatype</th>\n",
       "      <th>station</th>\n",
       "      <th>flags</th>\n",
       "      <th>temp_f</th>\n",
       "    </tr>\n",
       "    <tr>\n",
       "      <th>date</th>\n",
       "      <th></th>\n",
       "      <th></th>\n",
       "      <th></th>\n",
       "      <th></th>\n",
       "    </tr>\n",
       "  </thead>\n",
       "  <tbody>\n",
       "    <tr>\n",
       "      <th>2022-11-01</th>\n",
       "      <td>TAVG</td>\n",
       "      <td>GHCND:USW00013904</td>\n",
       "      <td>H,,S,</td>\n",
       "      <td>61.0</td>\n",
       "    </tr>\n",
       "    <tr>\n",
       "      <th>2022-11-01</th>\n",
       "      <td>TMAX</td>\n",
       "      <td>GHCND:USW00013904</td>\n",
       "      <td>,,D,2400</td>\n",
       "      <td>66.0</td>\n",
       "    </tr>\n",
       "    <tr>\n",
       "      <th>2022-11-01</th>\n",
       "      <td>TMIN</td>\n",
       "      <td>GHCND:USW00013904</td>\n",
       "      <td>,,D,2400</td>\n",
       "      <td>53.0</td>\n",
       "    </tr>\n",
       "    <tr>\n",
       "      <th>2022-11-02</th>\n",
       "      <td>TAVG</td>\n",
       "      <td>GHCND:USW00013904</td>\n",
       "      <td>H,,S,</td>\n",
       "      <td>63.0</td>\n",
       "    </tr>\n",
       "    <tr>\n",
       "      <th>2022-11-02</th>\n",
       "      <td>TMAX</td>\n",
       "      <td>GHCND:USW00013904</td>\n",
       "      <td>,,D,2400</td>\n",
       "      <td>77.0</td>\n",
       "    </tr>\n",
       "    <tr>\n",
       "      <th>...</th>\n",
       "      <td>...</td>\n",
       "      <td>...</td>\n",
       "      <td>...</td>\n",
       "      <td>...</td>\n",
       "    </tr>\n",
       "    <tr>\n",
       "      <th>2022-11-29</th>\n",
       "      <td>TMAX</td>\n",
       "      <td>GHCND:USW00013904</td>\n",
       "      <td>,,D,2400</td>\n",
       "      <td>84.0</td>\n",
       "    </tr>\n",
       "    <tr>\n",
       "      <th>2022-11-29</th>\n",
       "      <td>TMIN</td>\n",
       "      <td>GHCND:USW00013904</td>\n",
       "      <td>,,D,2400</td>\n",
       "      <td>49.0</td>\n",
       "    </tr>\n",
       "    <tr>\n",
       "      <th>2022-11-30</th>\n",
       "      <td>TAVG</td>\n",
       "      <td>GHCND:USW00013904</td>\n",
       "      <td>H,,S,</td>\n",
       "      <td>53.0</td>\n",
       "    </tr>\n",
       "    <tr>\n",
       "      <th>2022-11-30</th>\n",
       "      <td>TMAX</td>\n",
       "      <td>GHCND:USW00013904</td>\n",
       "      <td>,,D,2400</td>\n",
       "      <td>59.0</td>\n",
       "    </tr>\n",
       "    <tr>\n",
       "      <th>2022-11-30</th>\n",
       "      <td>TMIN</td>\n",
       "      <td>GHCND:USW00013904</td>\n",
       "      <td>,,D,2400</td>\n",
       "      <td>37.0</td>\n",
       "    </tr>\n",
       "  </tbody>\n",
       "</table>\n",
       "<p>90 rows × 4 columns</p>\n",
       "</div>"
      ],
      "text/plain": [
       "           datatype            station     flags  temp_f\n",
       "date                                                    \n",
       "2022-11-01     TAVG  GHCND:USW00013904     H,,S,    61.0\n",
       "2022-11-01     TMAX  GHCND:USW00013904  ,,D,2400    66.0\n",
       "2022-11-01     TMIN  GHCND:USW00013904  ,,D,2400    53.0\n",
       "2022-11-02     TAVG  GHCND:USW00013904     H,,S,    63.0\n",
       "2022-11-02     TMAX  GHCND:USW00013904  ,,D,2400    77.0\n",
       "...             ...                ...       ...     ...\n",
       "2022-11-29     TMAX  GHCND:USW00013904  ,,D,2400    84.0\n",
       "2022-11-29     TMIN  GHCND:USW00013904  ,,D,2400    49.0\n",
       "2022-11-30     TAVG  GHCND:USW00013904     H,,S,    53.0\n",
       "2022-11-30     TMAX  GHCND:USW00013904  ,,D,2400    59.0\n",
       "2022-11-30     TMIN  GHCND:USW00013904  ,,D,2400    37.0\n",
       "\n",
       "[90 rows x 4 columns]"
      ]
     },
     "execution_count": 130,
     "metadata": {},
     "output_type": "execute_result"
    }
   ],
   "source": [
    "df.set_index('date')"
   ]
  },
  {
   "cell_type": "code",
   "execution_count": 131,
   "id": "6fa48c2c-f256-49eb-bd12-cf081659f753",
   "metadata": {},
   "outputs": [
    {
     "data": {
      "text/html": [
       "<div>\n",
       "<style scoped>\n",
       "    .dataframe tbody tr th:only-of-type {\n",
       "        vertical-align: middle;\n",
       "    }\n",
       "\n",
       "    .dataframe tbody tr th {\n",
       "        vertical-align: top;\n",
       "    }\n",
       "\n",
       "    .dataframe thead th {\n",
       "        text-align: right;\n",
       "    }\n",
       "</style>\n",
       "<table border=\"1\" class=\"dataframe\">\n",
       "  <thead>\n",
       "    <tr style=\"text-align: right;\">\n",
       "      <th></th>\n",
       "      <th>date</th>\n",
       "      <th>datatype</th>\n",
       "      <th>station</th>\n",
       "      <th>flags</th>\n",
       "      <th>temp_f</th>\n",
       "    </tr>\n",
       "  </thead>\n",
       "  <tbody>\n",
       "    <tr>\n",
       "      <th>0</th>\n",
       "      <td>2022-11-01</td>\n",
       "      <td>TAVG</td>\n",
       "      <td>GHCND:USW00013904</td>\n",
       "      <td>H,,S,</td>\n",
       "      <td>61.0</td>\n",
       "    </tr>\n",
       "  </tbody>\n",
       "</table>\n",
       "</div>"
      ],
      "text/plain": [
       "        date datatype            station  flags  temp_f\n",
       "0 2022-11-01     TAVG  GHCND:USW00013904  H,,S,    61.0"
      ]
     },
     "execution_count": 131,
     "metadata": {},
     "output_type": "execute_result"
    }
   ],
   "source": [
    "df.head(1)"
   ]
  },
  {
   "cell_type": "code",
   "execution_count": 137,
   "id": "b0205e31-358f-445d-b13b-0979e2073aa7",
   "metadata": {},
   "outputs": [],
   "source": [
    "df.to_csv('data/austin_temp.csv', index=False)"
   ]
  },
  {
   "cell_type": "code",
   "execution_count": 138,
   "id": "b6a603c1-10ff-4606-a904-cde4f5afbbb5",
   "metadata": {},
   "outputs": [],
   "source": [
    "# create a dataframe where index is the date and contains the timezone info\n",
    "central = pd.read_csv('data/austin_temp.csv',\n",
    "                      index_col='date',\n",
    "                      parse_dates=True).tz_localize('US/Central')"
   ]
  },
  {
   "cell_type": "code",
   "execution_count": 139,
   "id": "0822df13-824c-45be-8698-7a4d3d4bbc3d",
   "metadata": {},
   "outputs": [
    {
     "data": {
      "text/html": [
       "<div>\n",
       "<style scoped>\n",
       "    .dataframe tbody tr th:only-of-type {\n",
       "        vertical-align: middle;\n",
       "    }\n",
       "\n",
       "    .dataframe tbody tr th {\n",
       "        vertical-align: top;\n",
       "    }\n",
       "\n",
       "    .dataframe thead th {\n",
       "        text-align: right;\n",
       "    }\n",
       "</style>\n",
       "<table border=\"1\" class=\"dataframe\">\n",
       "  <thead>\n",
       "    <tr style=\"text-align: right;\">\n",
       "      <th></th>\n",
       "      <th>datatype</th>\n",
       "      <th>station</th>\n",
       "      <th>flags</th>\n",
       "      <th>temp_f</th>\n",
       "    </tr>\n",
       "    <tr>\n",
       "      <th>date</th>\n",
       "      <th></th>\n",
       "      <th></th>\n",
       "      <th></th>\n",
       "      <th></th>\n",
       "    </tr>\n",
       "  </thead>\n",
       "  <tbody>\n",
       "    <tr>\n",
       "      <th>2022-11-01 00:00:00-05:00</th>\n",
       "      <td>TAVG</td>\n",
       "      <td>GHCND:USW00013904</td>\n",
       "      <td>H,,S,</td>\n",
       "      <td>61.0</td>\n",
       "    </tr>\n",
       "    <tr>\n",
       "      <th>2022-11-01 00:00:00-05:00</th>\n",
       "      <td>TMAX</td>\n",
       "      <td>GHCND:USW00013904</td>\n",
       "      <td>,,D,2400</td>\n",
       "      <td>66.0</td>\n",
       "    </tr>\n",
       "    <tr>\n",
       "      <th>2022-11-01 00:00:00-05:00</th>\n",
       "      <td>TMIN</td>\n",
       "      <td>GHCND:USW00013904</td>\n",
       "      <td>,,D,2400</td>\n",
       "      <td>53.0</td>\n",
       "    </tr>\n",
       "    <tr>\n",
       "      <th>2022-11-02 00:00:00-05:00</th>\n",
       "      <td>TAVG</td>\n",
       "      <td>GHCND:USW00013904</td>\n",
       "      <td>H,,S,</td>\n",
       "      <td>63.0</td>\n",
       "    </tr>\n",
       "    <tr>\n",
       "      <th>2022-11-02 00:00:00-05:00</th>\n",
       "      <td>TMAX</td>\n",
       "      <td>GHCND:USW00013904</td>\n",
       "      <td>,,D,2400</td>\n",
       "      <td>77.0</td>\n",
       "    </tr>\n",
       "  </tbody>\n",
       "</table>\n",
       "</div>"
      ],
      "text/plain": [
       "                          datatype            station     flags  temp_f\n",
       "date                                                                   \n",
       "2022-11-01 00:00:00-05:00     TAVG  GHCND:USW00013904     H,,S,    61.0\n",
       "2022-11-01 00:00:00-05:00     TMAX  GHCND:USW00013904  ,,D,2400    66.0\n",
       "2022-11-01 00:00:00-05:00     TMIN  GHCND:USW00013904  ,,D,2400    53.0\n",
       "2022-11-02 00:00:00-05:00     TAVG  GHCND:USW00013904     H,,S,    63.0\n",
       "2022-11-02 00:00:00-05:00     TMAX  GHCND:USW00013904  ,,D,2400    77.0"
      ]
     },
     "execution_count": 139,
     "metadata": {},
     "output_type": "execute_result"
    }
   ],
   "source": [
    "central.head()"
   ]
  },
  {
   "cell_type": "code",
   "execution_count": 140,
   "id": "718ba9a8-8fb9-4b43-8fbc-51822f1bf981",
   "metadata": {},
   "outputs": [
    {
     "data": {
      "text/html": [
       "<div>\n",
       "<style scoped>\n",
       "    .dataframe tbody tr th:only-of-type {\n",
       "        vertical-align: middle;\n",
       "    }\n",
       "\n",
       "    .dataframe tbody tr th {\n",
       "        vertical-align: top;\n",
       "    }\n",
       "\n",
       "    .dataframe thead th {\n",
       "        text-align: right;\n",
       "    }\n",
       "</style>\n",
       "<table border=\"1\" class=\"dataframe\">\n",
       "  <thead>\n",
       "    <tr style=\"text-align: right;\">\n",
       "      <th></th>\n",
       "      <th>datatype</th>\n",
       "      <th>station</th>\n",
       "      <th>flags</th>\n",
       "      <th>temp_f</th>\n",
       "    </tr>\n",
       "    <tr>\n",
       "      <th>date</th>\n",
       "      <th></th>\n",
       "      <th></th>\n",
       "      <th></th>\n",
       "      <th></th>\n",
       "    </tr>\n",
       "  </thead>\n",
       "  <tbody>\n",
       "    <tr>\n",
       "      <th>2022-11-01 05:00:00+00:00</th>\n",
       "      <td>TAVG</td>\n",
       "      <td>GHCND:USW00013904</td>\n",
       "      <td>H,,S,</td>\n",
       "      <td>61.0</td>\n",
       "    </tr>\n",
       "    <tr>\n",
       "      <th>2022-11-01 05:00:00+00:00</th>\n",
       "      <td>TMAX</td>\n",
       "      <td>GHCND:USW00013904</td>\n",
       "      <td>,,D,2400</td>\n",
       "      <td>66.0</td>\n",
       "    </tr>\n",
       "    <tr>\n",
       "      <th>2022-11-01 05:00:00+00:00</th>\n",
       "      <td>TMIN</td>\n",
       "      <td>GHCND:USW00013904</td>\n",
       "      <td>,,D,2400</td>\n",
       "      <td>53.0</td>\n",
       "    </tr>\n",
       "    <tr>\n",
       "      <th>2022-11-02 05:00:00+00:00</th>\n",
       "      <td>TAVG</td>\n",
       "      <td>GHCND:USW00013904</td>\n",
       "      <td>H,,S,</td>\n",
       "      <td>63.0</td>\n",
       "    </tr>\n",
       "    <tr>\n",
       "      <th>2022-11-02 05:00:00+00:00</th>\n",
       "      <td>TMAX</td>\n",
       "      <td>GHCND:USW00013904</td>\n",
       "      <td>,,D,2400</td>\n",
       "      <td>77.0</td>\n",
       "    </tr>\n",
       "  </tbody>\n",
       "</table>\n",
       "</div>"
      ],
      "text/plain": [
       "                          datatype            station     flags  temp_f\n",
       "date                                                                   \n",
       "2022-11-01 05:00:00+00:00     TAVG  GHCND:USW00013904     H,,S,    61.0\n",
       "2022-11-01 05:00:00+00:00     TMAX  GHCND:USW00013904  ,,D,2400    66.0\n",
       "2022-11-01 05:00:00+00:00     TMIN  GHCND:USW00013904  ,,D,2400    53.0\n",
       "2022-11-02 05:00:00+00:00     TAVG  GHCND:USW00013904     H,,S,    63.0\n",
       "2022-11-02 05:00:00+00:00     TMAX  GHCND:USW00013904  ,,D,2400    77.0"
      ]
     },
     "execution_count": 140,
     "metadata": {},
     "output_type": "execute_result"
    }
   ],
   "source": [
    "central.tz_convert('UTC').head()"
   ]
  },
  {
   "cell_type": "code",
   "execution_count": 143,
   "id": "8a0a9c4f-2611-4805-9e25-2322943fdd8e",
   "metadata": {},
   "outputs": [
    {
     "name": "stderr",
     "output_type": "stream",
     "text": [
      "C:\\Users\\rozin\\anaconda3\\lib\\site-packages\\pandas\\core\\arrays\\datetimes.py:1162: UserWarning: Converting to PeriodArray/Index representation will drop timezone information.\n",
      "  warnings.warn(\n"
     ]
    },
    {
     "data": {
      "text/plain": [
       "PeriodIndex(['2022-11', '2022-11', '2022-11', '2022-11', '2022-11', '2022-11',\n",
       "             '2022-11', '2022-11', '2022-11', '2022-11', '2022-11', '2022-11',\n",
       "             '2022-11', '2022-11', '2022-11', '2022-11', '2022-11', '2022-11',\n",
       "             '2022-11', '2022-11', '2022-11', '2022-11', '2022-11', '2022-11',\n",
       "             '2022-11', '2022-11', '2022-11', '2022-11', '2022-11', '2022-11',\n",
       "             '2022-11', '2022-11', '2022-11', '2022-11', '2022-11', '2022-11',\n",
       "             '2022-11', '2022-11', '2022-11', '2022-11', '2022-11', '2022-11',\n",
       "             '2022-11', '2022-11', '2022-11', '2022-11', '2022-11', '2022-11',\n",
       "             '2022-11', '2022-11', '2022-11', '2022-11', '2022-11', '2022-11',\n",
       "             '2022-11', '2022-11', '2022-11', '2022-11', '2022-11', '2022-11',\n",
       "             '2022-11', '2022-11', '2022-11', '2022-11', '2022-11', '2022-11',\n",
       "             '2022-11', '2022-11', '2022-11', '2022-11', '2022-11', '2022-11',\n",
       "             '2022-11', '2022-11', '2022-11', '2022-11', '2022-11', '2022-11',\n",
       "             '2022-11', '2022-11', '2022-11', '2022-11', '2022-11', '2022-11',\n",
       "             '2022-11', '2022-11', '2022-11', '2022-11', '2022-11', '2022-11'],\n",
       "            dtype='period[M]', name='date')"
      ]
     },
     "execution_count": 143,
     "metadata": {},
     "output_type": "execute_result"
    }
   ],
   "source": [
    "central.to_period('M').index #dtype 'period[M]"
   ]
  },
  {
   "cell_type": "code",
   "execution_count": 145,
   "id": "3670d7c8-ebdf-41c0-a20e-da1c1d0ed732",
   "metadata": {},
   "outputs": [
    {
     "data": {
      "text/plain": [
       "DatetimeIndex(['2022-11-01', '2022-11-01', '2022-11-01', '2022-11-01',\n",
       "               '2022-11-01', '2022-11-01', '2022-11-01', '2022-11-01',\n",
       "               '2022-11-01', '2022-11-01', '2022-11-01', '2022-11-01',\n",
       "               '2022-11-01', '2022-11-01', '2022-11-01', '2022-11-01',\n",
       "               '2022-11-01', '2022-11-01', '2022-11-01', '2022-11-01',\n",
       "               '2022-11-01', '2022-11-01', '2022-11-01', '2022-11-01',\n",
       "               '2022-11-01', '2022-11-01', '2022-11-01', '2022-11-01',\n",
       "               '2022-11-01', '2022-11-01', '2022-11-01', '2022-11-01',\n",
       "               '2022-11-01', '2022-11-01', '2022-11-01', '2022-11-01',\n",
       "               '2022-11-01', '2022-11-01', '2022-11-01', '2022-11-01',\n",
       "               '2022-11-01', '2022-11-01', '2022-11-01', '2022-11-01',\n",
       "               '2022-11-01', '2022-11-01', '2022-11-01', '2022-11-01',\n",
       "               '2022-11-01', '2022-11-01', '2022-11-01', '2022-11-01',\n",
       "               '2022-11-01', '2022-11-01', '2022-11-01', '2022-11-01',\n",
       "               '2022-11-01', '2022-11-01', '2022-11-01', '2022-11-01',\n",
       "               '2022-11-01', '2022-11-01', '2022-11-01', '2022-11-01',\n",
       "               '2022-11-01', '2022-11-01', '2022-11-01', '2022-11-01',\n",
       "               '2022-11-01', '2022-11-01', '2022-11-01', '2022-11-01',\n",
       "               '2022-11-01', '2022-11-01', '2022-11-01', '2022-11-01',\n",
       "               '2022-11-01', '2022-11-01', '2022-11-01', '2022-11-01',\n",
       "               '2022-11-01', '2022-11-01', '2022-11-01', '2022-11-01',\n",
       "               '2022-11-01', '2022-11-01', '2022-11-01', '2022-11-01',\n",
       "               '2022-11-01', '2022-11-01'],\n",
       "              dtype='datetime64[ns]', name='date', freq=None)"
      ]
     },
     "execution_count": 145,
     "metadata": {},
     "output_type": "execute_result"
    }
   ],
   "source": [
    "central.to_period('M').to_timestamp().index # to_timestamp() back to datetime format,\n",
    "#but drops the timezone info and all dates are Nov, 1"
   ]
  },
  {
   "cell_type": "code",
   "execution_count": 157,
   "id": "f8952425-6456-40af-b1bf-9bb766303944",
   "metadata": {},
   "outputs": [],
   "source": [
    "del central['temp_c']"
   ]
  },
  {
   "cell_type": "code",
   "execution_count": 162,
   "id": "ba9b6247-cb4d-430a-b3b8-465a74db916e",
   "metadata": {},
   "outputs": [],
   "source": [
    "# central = central.assign(temp_c = round((central.temp_f - 32) * 5/9, 1))\n",
    "# alternative way is to use lambda function\n",
    "central = central.assign(temp_c = lambda x: round((x.temp_f - 32) * 5/9, 1))"
   ]
  },
  {
   "cell_type": "code",
   "execution_count": 163,
   "id": "f8916d6c-f421-4b55-8173-89a150cff706",
   "metadata": {},
   "outputs": [
    {
     "data": {
      "text/html": [
       "<div>\n",
       "<style scoped>\n",
       "    .dataframe tbody tr th:only-of-type {\n",
       "        vertical-align: middle;\n",
       "    }\n",
       "\n",
       "    .dataframe tbody tr th {\n",
       "        vertical-align: top;\n",
       "    }\n",
       "\n",
       "    .dataframe thead th {\n",
       "        text-align: right;\n",
       "    }\n",
       "</style>\n",
       "<table border=\"1\" class=\"dataframe\">\n",
       "  <thead>\n",
       "    <tr style=\"text-align: right;\">\n",
       "      <th></th>\n",
       "      <th>datatype</th>\n",
       "      <th>station</th>\n",
       "      <th>flags</th>\n",
       "      <th>temp_f</th>\n",
       "      <th>temp_c</th>\n",
       "    </tr>\n",
       "    <tr>\n",
       "      <th>date</th>\n",
       "      <th></th>\n",
       "      <th></th>\n",
       "      <th></th>\n",
       "      <th></th>\n",
       "      <th></th>\n",
       "    </tr>\n",
       "  </thead>\n",
       "  <tbody>\n",
       "    <tr>\n",
       "      <th>2022-11-01 00:00:00-05:00</th>\n",
       "      <td>TAVG</td>\n",
       "      <td>GHCND:USW00013904</td>\n",
       "      <td>H,,S,</td>\n",
       "      <td>61.0</td>\n",
       "      <td>16.1</td>\n",
       "    </tr>\n",
       "  </tbody>\n",
       "</table>\n",
       "</div>"
      ],
      "text/plain": [
       "                          datatype            station  flags  temp_f  temp_c\n",
       "date                                                                        \n",
       "2022-11-01 00:00:00-05:00     TAVG  GHCND:USW00013904  H,,S,    61.0    16.1"
      ]
     },
     "execution_count": 163,
     "metadata": {},
     "output_type": "execute_result"
    }
   ],
   "source": [
    "central.head(1)"
   ]
  },
  {
   "cell_type": "code",
   "execution_count": 161,
   "id": "a342b57a-3dce-43dc-ad44-e79028087c08",
   "metadata": {},
   "outputs": [
    {
     "data": {
      "text/plain": [
       "<function __main__.<lambda>(x)>"
      ]
     },
     "execution_count": 161,
     "metadata": {},
     "output_type": "execute_result"
    }
   ],
   "source": [
    "temp_c"
   ]
  },
  {
   "cell_type": "code",
   "execution_count": 164,
   "id": "f1adf12b-6038-4c6d-a3ca-6d60de441340",
   "metadata": {},
   "outputs": [],
   "source": [
    "central_cat = central.assign(\n",
    "    station = central.station.astype('category'),\n",
    "    datatype = central.datatype.astype('category') )"
   ]
  },
  {
   "cell_type": "code",
   "execution_count": 165,
   "id": "3fec92d8-eceb-4992-a508-72429928aaa8",
   "metadata": {},
   "outputs": [
    {
     "name": "stdout",
     "output_type": "stream",
     "text": [
      "<class 'pandas.core.frame.DataFrame'>\n",
      "DatetimeIndex: 90 entries, 2022-11-01 00:00:00-05:00 to 2022-11-30 00:00:00-06:00\n",
      "Data columns (total 5 columns):\n",
      " #   Column    Non-Null Count  Dtype   \n",
      "---  ------    --------------  -----   \n",
      " 0   datatype  90 non-null     category\n",
      " 1   station   90 non-null     category\n",
      " 2   flags     90 non-null     object  \n",
      " 3   temp_f    90 non-null     float64 \n",
      " 4   temp_c    90 non-null     float64 \n",
      "dtypes: category(2), float64(2), object(1)\n",
      "memory usage: 3.2+ KB\n"
     ]
    }
   ],
   "source": [
    "central_cat.info()"
   ]
  },
  {
   "cell_type": "code",
   "execution_count": 167,
   "id": "0132beba-2b76-4d43-a2bf-7e465b03fd56",
   "metadata": {},
   "outputs": [
    {
     "data": {
      "text/html": [
       "<div>\n",
       "<style scoped>\n",
       "    .dataframe tbody tr th:only-of-type {\n",
       "        vertical-align: middle;\n",
       "    }\n",
       "\n",
       "    .dataframe tbody tr th {\n",
       "        vertical-align: top;\n",
       "    }\n",
       "\n",
       "    .dataframe thead th {\n",
       "        text-align: right;\n",
       "    }\n",
       "</style>\n",
       "<table border=\"1\" class=\"dataframe\">\n",
       "  <thead>\n",
       "    <tr style=\"text-align: right;\">\n",
       "      <th></th>\n",
       "      <th>datatype</th>\n",
       "      <th>station</th>\n",
       "    </tr>\n",
       "  </thead>\n",
       "  <tbody>\n",
       "    <tr>\n",
       "      <th>count</th>\n",
       "      <td>90</td>\n",
       "      <td>90</td>\n",
       "    </tr>\n",
       "    <tr>\n",
       "      <th>unique</th>\n",
       "      <td>3</td>\n",
       "      <td>1</td>\n",
       "    </tr>\n",
       "    <tr>\n",
       "      <th>top</th>\n",
       "      <td>TAVG</td>\n",
       "      <td>GHCND:USW00013904</td>\n",
       "    </tr>\n",
       "    <tr>\n",
       "      <th>freq</th>\n",
       "      <td>30</td>\n",
       "      <td>90</td>\n",
       "    </tr>\n",
       "  </tbody>\n",
       "</table>\n",
       "</div>"
      ],
      "text/plain": [
       "       datatype            station\n",
       "count        90                 90\n",
       "unique        3                  1\n",
       "top        TAVG  GHCND:USW00013904\n",
       "freq         30                 90"
      ]
     },
     "execution_count": 167,
     "metadata": {},
     "output_type": "execute_result"
    }
   ],
   "source": [
    "central_cat.describe(include='category')"
   ]
  },
  {
   "cell_type": "code",
   "execution_count": 171,
   "id": "278c46b3-6326-461b-ab7a-a323868fbcde",
   "metadata": {},
   "outputs": [
    {
     "data": {
      "text/plain": [
       "['station', 'datatype']\n",
       "Categories (2, object): ['station' < 'datatype']"
      ]
     },
     "execution_count": 171,
     "metadata": {},
     "output_type": "execute_result"
    }
   ],
   "source": [
    "# we can order category datatypes when needed\n",
    "pd.Categorical(['station', 'datatype'], categories=['station', 'datatype'], ordered=True)"
   ]
  }
 ],
 "metadata": {
  "kernelspec": {
   "display_name": "Python 3",
   "language": "python",
   "name": "python3"
  },
  "language_info": {
   "codemirror_mode": {
    "name": "ipython",
    "version": 3
   },
   "file_extension": ".py",
   "mimetype": "text/x-python",
   "name": "python",
   "nbconvert_exporter": "python",
   "pygments_lexer": "ipython3",
   "version": "3.8.9"
  },
  "vscode": {
   "interpreter": {
    "hash": "31f2aee4e71d21fbe5cf8b01ff0e069b9275f58929596ceb00d14d90e3e16cd6"
   }
  }
 },
 "nbformat": 4,
 "nbformat_minor": 5
}
