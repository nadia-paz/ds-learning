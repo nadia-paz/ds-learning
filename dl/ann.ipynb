{
 "cells": [
  {
   "cell_type": "code",
   "execution_count": 1,
   "id": "6cddf978",
   "metadata": {},
   "outputs": [
    {
     "name": "stderr",
     "output_type": "stream",
     "text": [
      "2023-03-31 16:10:21.040631: I tensorflow/core/platform/cpu_feature_guard.cc:193] This TensorFlow binary is optimized with oneAPI Deep Neural Network Library (oneDNN) to use the following CPU instructions in performance-critical operations:  SSE4.1 SSE4.2 AVX AVX2 FMA\n",
      "To enable them in other operations, rebuild TensorFlow with the appropriate compiler flags.\n"
     ]
    }
   ],
   "source": [
    "import numpy as np\n",
    "import pandas as pd\n",
    "import tensorflow as tf"
   ]
  },
  {
   "cell_type": "code",
   "execution_count": 2,
   "id": "72847acf",
   "metadata": {},
   "outputs": [
    {
     "data": {
      "text/plain": [
       "'2.11.0'"
      ]
     },
     "execution_count": 2,
     "metadata": {},
     "output_type": "execute_result"
    }
   ],
   "source": [
    "tf.__version__"
   ]
  },
  {
   "cell_type": "code",
   "execution_count": 2,
   "id": "90a1e574",
   "metadata": {},
   "outputs": [],
   "source": [
    "pd.options.display.float_format = '{:,.2f}'.format"
   ]
  },
  {
   "cell_type": "code",
   "execution_count": 3,
   "id": "c7eb68db",
   "metadata": {},
   "outputs": [],
   "source": [
    "df = pd.read_csv('../datasets/churn.csv', index_col='RowNumber')"
   ]
  },
  {
   "cell_type": "code",
   "execution_count": 4,
   "id": "c5153db5",
   "metadata": {},
   "outputs": [],
   "source": [
    "df.drop(columns=['CustomerId', 'Surname'], inplace=True)"
   ]
  },
  {
   "cell_type": "code",
   "execution_count": 5,
   "id": "5ad712b3",
   "metadata": {},
   "outputs": [
    {
     "data": {
      "text/html": [
       "<div>\n",
       "<style scoped>\n",
       "    .dataframe tbody tr th:only-of-type {\n",
       "        vertical-align: middle;\n",
       "    }\n",
       "\n",
       "    .dataframe tbody tr th {\n",
       "        vertical-align: top;\n",
       "    }\n",
       "\n",
       "    .dataframe thead th {\n",
       "        text-align: right;\n",
       "    }\n",
       "</style>\n",
       "<table border=\"1\" class=\"dataframe\">\n",
       "  <thead>\n",
       "    <tr style=\"text-align: right;\">\n",
       "      <th></th>\n",
       "      <th>CreditScore</th>\n",
       "      <th>Age</th>\n",
       "      <th>Tenure</th>\n",
       "      <th>Balance</th>\n",
       "      <th>NumOfProducts</th>\n",
       "      <th>HasCrCard</th>\n",
       "      <th>IsActiveMember</th>\n",
       "      <th>EstimatedSalary</th>\n",
       "      <th>Exited</th>\n",
       "    </tr>\n",
       "  </thead>\n",
       "  <tbody>\n",
       "    <tr>\n",
       "      <th>mean</th>\n",
       "      <td>650.53</td>\n",
       "      <td>38.92</td>\n",
       "      <td>5.01</td>\n",
       "      <td>76,485.89</td>\n",
       "      <td>1.53</td>\n",
       "      <td>0.71</td>\n",
       "      <td>0.52</td>\n",
       "      <td>100,090.24</td>\n",
       "      <td>0.20</td>\n",
       "    </tr>\n",
       "    <tr>\n",
       "      <th>std</th>\n",
       "      <td>96.65</td>\n",
       "      <td>10.49</td>\n",
       "      <td>2.89</td>\n",
       "      <td>62,397.41</td>\n",
       "      <td>0.58</td>\n",
       "      <td>0.46</td>\n",
       "      <td>0.50</td>\n",
       "      <td>57,510.49</td>\n",
       "      <td>0.40</td>\n",
       "    </tr>\n",
       "    <tr>\n",
       "      <th>min</th>\n",
       "      <td>350.00</td>\n",
       "      <td>18.00</td>\n",
       "      <td>0.00</td>\n",
       "      <td>0.00</td>\n",
       "      <td>1.00</td>\n",
       "      <td>0.00</td>\n",
       "      <td>0.00</td>\n",
       "      <td>11.58</td>\n",
       "      <td>0.00</td>\n",
       "    </tr>\n",
       "    <tr>\n",
       "      <th>25%</th>\n",
       "      <td>584.00</td>\n",
       "      <td>32.00</td>\n",
       "      <td>3.00</td>\n",
       "      <td>0.00</td>\n",
       "      <td>1.00</td>\n",
       "      <td>0.00</td>\n",
       "      <td>0.00</td>\n",
       "      <td>51,002.11</td>\n",
       "      <td>0.00</td>\n",
       "    </tr>\n",
       "    <tr>\n",
       "      <th>50%</th>\n",
       "      <td>652.00</td>\n",
       "      <td>37.00</td>\n",
       "      <td>5.00</td>\n",
       "      <td>97,198.54</td>\n",
       "      <td>1.00</td>\n",
       "      <td>1.00</td>\n",
       "      <td>1.00</td>\n",
       "      <td>100,193.91</td>\n",
       "      <td>0.00</td>\n",
       "    </tr>\n",
       "    <tr>\n",
       "      <th>75%</th>\n",
       "      <td>718.00</td>\n",
       "      <td>44.00</td>\n",
       "      <td>7.00</td>\n",
       "      <td>127,644.24</td>\n",
       "      <td>2.00</td>\n",
       "      <td>1.00</td>\n",
       "      <td>1.00</td>\n",
       "      <td>149,388.25</td>\n",
       "      <td>0.00</td>\n",
       "    </tr>\n",
       "    <tr>\n",
       "      <th>max</th>\n",
       "      <td>850.00</td>\n",
       "      <td>92.00</td>\n",
       "      <td>10.00</td>\n",
       "      <td>250,898.09</td>\n",
       "      <td>4.00</td>\n",
       "      <td>1.00</td>\n",
       "      <td>1.00</td>\n",
       "      <td>199,992.48</td>\n",
       "      <td>1.00</td>\n",
       "    </tr>\n",
       "  </tbody>\n",
       "</table>\n",
       "</div>"
      ],
      "text/plain": [
       "      CreditScore   Age  Tenure    Balance  NumOfProducts  HasCrCard  \\\n",
       "mean       650.53 38.92    5.01  76,485.89           1.53       0.71   \n",
       "std         96.65 10.49    2.89  62,397.41           0.58       0.46   \n",
       "min        350.00 18.00    0.00       0.00           1.00       0.00   \n",
       "25%        584.00 32.00    3.00       0.00           1.00       0.00   \n",
       "50%        652.00 37.00    5.00  97,198.54           1.00       1.00   \n",
       "75%        718.00 44.00    7.00 127,644.24           2.00       1.00   \n",
       "max        850.00 92.00   10.00 250,898.09           4.00       1.00   \n",
       "\n",
       "      IsActiveMember  EstimatedSalary  Exited  \n",
       "mean            0.52       100,090.24    0.20  \n",
       "std             0.50        57,510.49    0.40  \n",
       "min             0.00            11.58    0.00  \n",
       "25%             0.00        51,002.11    0.00  \n",
       "50%             1.00       100,193.91    0.00  \n",
       "75%             1.00       149,388.25    0.00  \n",
       "max             1.00       199,992.48    1.00  "
      ]
     },
     "execution_count": 5,
     "metadata": {},
     "output_type": "execute_result"
    }
   ],
   "source": [
    "df.describe()[1:]"
   ]
  },
  {
   "cell_type": "code",
   "execution_count": 6,
   "id": "cf2c83a6",
   "metadata": {},
   "outputs": [
    {
     "name": "stdout",
     "output_type": "stream",
     "text": [
      "<class 'pandas.core.frame.DataFrame'>\n",
      "Int64Index: 10000 entries, 1 to 10000\n",
      "Data columns (total 11 columns):\n",
      " #   Column           Non-Null Count  Dtype  \n",
      "---  ------           --------------  -----  \n",
      " 0   CreditScore      10000 non-null  int64  \n",
      " 1   Geography        10000 non-null  object \n",
      " 2   Gender           10000 non-null  object \n",
      " 3   Age              10000 non-null  int64  \n",
      " 4   Tenure           10000 non-null  int64  \n",
      " 5   Balance          10000 non-null  float64\n",
      " 6   NumOfProducts    10000 non-null  int64  \n",
      " 7   HasCrCard        10000 non-null  int64  \n",
      " 8   IsActiveMember   10000 non-null  int64  \n",
      " 9   EstimatedSalary  10000 non-null  float64\n",
      " 10  Exited           10000 non-null  int64  \n",
      "dtypes: float64(2), int64(7), object(2)\n",
      "memory usage: 937.5+ KB\n"
     ]
    }
   ],
   "source": [
    "df.info()"
   ]
  },
  {
   "cell_type": "code",
   "execution_count": 7,
   "id": "deff7d05",
   "metadata": {},
   "outputs": [
    {
     "data": {
      "text/plain": [
       "(array(['France', 'Spain', 'Germany'], dtype=object),\n",
       " array(['Female', 'Male'], dtype=object))"
      ]
     },
     "execution_count": 7,
     "metadata": {},
     "output_type": "execute_result"
    }
   ],
   "source": [
    "df.Geography.unique(), df.Gender.unique()"
   ]
  },
  {
   "cell_type": "code",
   "execution_count": 8,
   "id": "bbc2d00e",
   "metadata": {},
   "outputs": [],
   "source": [
    "df.Geography = pd.Categorical(df.Geography)\n",
    "df.Gender = pd.Categorical(df.Gender)"
   ]
  },
  {
   "cell_type": "code",
   "execution_count": 9,
   "id": "a39f2394",
   "metadata": {},
   "outputs": [
    {
     "name": "stdout",
     "output_type": "stream",
     "text": [
      "<class 'pandas.core.frame.DataFrame'>\n",
      "Int64Index: 10000 entries, 1 to 10000\n",
      "Data columns (total 11 columns):\n",
      " #   Column           Non-Null Count  Dtype   \n",
      "---  ------           --------------  -----   \n",
      " 0   CreditScore      10000 non-null  int64   \n",
      " 1   Geography        10000 non-null  category\n",
      " 2   Gender           10000 non-null  category\n",
      " 3   Age              10000 non-null  int64   \n",
      " 4   Tenure           10000 non-null  int64   \n",
      " 5   Balance          10000 non-null  float64 \n",
      " 6   NumOfProducts    10000 non-null  int64   \n",
      " 7   HasCrCard        10000 non-null  int64   \n",
      " 8   IsActiveMember   10000 non-null  int64   \n",
      " 9   EstimatedSalary  10000 non-null  float64 \n",
      " 10  Exited           10000 non-null  int64   \n",
      "dtypes: category(2), float64(2), int64(7)\n",
      "memory usage: 801.0 KB\n"
     ]
    }
   ],
   "source": [
    "df.info()"
   ]
  },
  {
   "cell_type": "code",
   "execution_count": 10,
   "id": "c79ed428",
   "metadata": {},
   "outputs": [],
   "source": [
    "df = df[['CreditScore', 'Age', 'Tenure', 'Balance', 'EstimatedSalary', 'NumOfProducts', 'HasCrCard', 'IsActiveMember', \n",
    "                  'Geography', 'Gender', 'Exited']]"
   ]
  },
  {
   "cell_type": "code",
   "execution_count": 11,
   "id": "7546a8de",
   "metadata": {},
   "outputs": [
    {
     "data": {
      "text/html": [
       "<div>\n",
       "<style scoped>\n",
       "    .dataframe tbody tr th:only-of-type {\n",
       "        vertical-align: middle;\n",
       "    }\n",
       "\n",
       "    .dataframe tbody tr th {\n",
       "        vertical-align: top;\n",
       "    }\n",
       "\n",
       "    .dataframe thead th {\n",
       "        text-align: right;\n",
       "    }\n",
       "</style>\n",
       "<table border=\"1\" class=\"dataframe\">\n",
       "  <thead>\n",
       "    <tr style=\"text-align: right;\">\n",
       "      <th></th>\n",
       "      <th>CreditScore</th>\n",
       "      <th>Age</th>\n",
       "      <th>Tenure</th>\n",
       "      <th>Balance</th>\n",
       "      <th>EstimatedSalary</th>\n",
       "      <th>NumOfProducts</th>\n",
       "      <th>HasCrCard</th>\n",
       "      <th>IsActiveMember</th>\n",
       "      <th>Geography</th>\n",
       "      <th>Gender</th>\n",
       "      <th>Exited</th>\n",
       "    </tr>\n",
       "    <tr>\n",
       "      <th>RowNumber</th>\n",
       "      <th></th>\n",
       "      <th></th>\n",
       "      <th></th>\n",
       "      <th></th>\n",
       "      <th></th>\n",
       "      <th></th>\n",
       "      <th></th>\n",
       "      <th></th>\n",
       "      <th></th>\n",
       "      <th></th>\n",
       "      <th></th>\n",
       "    </tr>\n",
       "  </thead>\n",
       "  <tbody>\n",
       "    <tr>\n",
       "      <th>1</th>\n",
       "      <td>619</td>\n",
       "      <td>42</td>\n",
       "      <td>2</td>\n",
       "      <td>0.00</td>\n",
       "      <td>101,348.88</td>\n",
       "      <td>1</td>\n",
       "      <td>1</td>\n",
       "      <td>1</td>\n",
       "      <td>France</td>\n",
       "      <td>Female</td>\n",
       "      <td>1</td>\n",
       "    </tr>\n",
       "  </tbody>\n",
       "</table>\n",
       "</div>"
      ],
      "text/plain": [
       "           CreditScore  Age  Tenure  Balance  EstimatedSalary  NumOfProducts  \\\n",
       "RowNumber                                                                      \n",
       "1                  619   42       2     0.00       101,348.88              1   \n",
       "\n",
       "           HasCrCard  IsActiveMember Geography  Gender  Exited  \n",
       "RowNumber                                                       \n",
       "1                  1               1    France  Female       1  "
      ]
     },
     "execution_count": 11,
     "metadata": {},
     "output_type": "execute_result"
    }
   ],
   "source": [
    "df.head(1)"
   ]
  },
  {
   "cell_type": "code",
   "execution_count": 12,
   "id": "9bd2f39e",
   "metadata": {},
   "outputs": [],
   "source": [
    "for col in ['Age', 'Tenure', 'HasCrCard', 'HasCrCard', 'NumOfProducts', 'IsActiveMember', 'Exited']:\n",
    "    df[col] = df[col].astype('uint8')"
   ]
  },
  {
   "cell_type": "code",
   "execution_count": 13,
   "id": "382e0b65",
   "metadata": {
    "scrolled": true
   },
   "outputs": [
    {
     "name": "stdout",
     "output_type": "stream",
     "text": [
      "<class 'pandas.core.frame.DataFrame'>\n",
      "Int64Index: 10000 entries, 1 to 10000\n",
      "Data columns (total 11 columns):\n",
      " #   Column           Non-Null Count  Dtype   \n",
      "---  ------           --------------  -----   \n",
      " 0   CreditScore      10000 non-null  int64   \n",
      " 1   Age              10000 non-null  uint8   \n",
      " 2   Tenure           10000 non-null  uint8   \n",
      " 3   Balance          10000 non-null  float64 \n",
      " 4   EstimatedSalary  10000 non-null  float64 \n",
      " 5   NumOfProducts    10000 non-null  uint8   \n",
      " 6   HasCrCard        10000 non-null  uint8   \n",
      " 7   IsActiveMember   10000 non-null  uint8   \n",
      " 8   Geography        10000 non-null  category\n",
      " 9   Gender           10000 non-null  category\n",
      " 10  Exited           10000 non-null  uint8   \n",
      "dtypes: category(2), float64(2), int64(1), uint8(6)\n",
      "memory usage: 390.9 KB\n"
     ]
    }
   ],
   "source": [
    "df.info()"
   ]
  },
  {
   "cell_type": "code",
   "execution_count": 14,
   "id": "0b72469a",
   "metadata": {},
   "outputs": [
    {
     "data": {
      "text/plain": [
       "(3,\n",
       " ['France', 'Spain', 'Germany']\n",
       " Categories (3, object): ['France', 'Germany', 'Spain'])"
      ]
     },
     "execution_count": 14,
     "metadata": {},
     "output_type": "execute_result"
    }
   ],
   "source": [
    "df.Geography.nunique(), df.Geography.unique()"
   ]
  },
  {
   "cell_type": "code",
   "execution_count": 15,
   "id": "3688f039",
   "metadata": {},
   "outputs": [
    {
     "data": {
      "text/plain": [
       "iinfo(min=0, max=255, dtype=uint8)"
      ]
     },
     "execution_count": 15,
     "metadata": {},
     "output_type": "execute_result"
    }
   ],
   "source": [
    "np.iinfo('uint8')"
   ]
  },
  {
   "cell_type": "code",
   "execution_count": 16,
   "id": "c327ca7a",
   "metadata": {},
   "outputs": [
    {
     "data": {
      "text/html": [
       "<div>\n",
       "<style scoped>\n",
       "    .dataframe tbody tr th:only-of-type {\n",
       "        vertical-align: middle;\n",
       "    }\n",
       "\n",
       "    .dataframe tbody tr th {\n",
       "        vertical-align: top;\n",
       "    }\n",
       "\n",
       "    .dataframe thead th {\n",
       "        text-align: right;\n",
       "    }\n",
       "</style>\n",
       "<table border=\"1\" class=\"dataframe\">\n",
       "  <thead>\n",
       "    <tr style=\"text-align: right;\">\n",
       "      <th></th>\n",
       "      <th>CreditScore</th>\n",
       "      <th>Age</th>\n",
       "      <th>Tenure</th>\n",
       "      <th>Balance</th>\n",
       "      <th>EstimatedSalary</th>\n",
       "      <th>NumOfProducts</th>\n",
       "      <th>HasCrCard</th>\n",
       "      <th>IsActiveMember</th>\n",
       "      <th>Geography</th>\n",
       "      <th>Gender</th>\n",
       "    </tr>\n",
       "    <tr>\n",
       "      <th>RowNumber</th>\n",
       "      <th></th>\n",
       "      <th></th>\n",
       "      <th></th>\n",
       "      <th></th>\n",
       "      <th></th>\n",
       "      <th></th>\n",
       "      <th></th>\n",
       "      <th></th>\n",
       "      <th></th>\n",
       "      <th></th>\n",
       "    </tr>\n",
       "  </thead>\n",
       "  <tbody>\n",
       "    <tr>\n",
       "      <th>1</th>\n",
       "      <td>619</td>\n",
       "      <td>42</td>\n",
       "      <td>2</td>\n",
       "      <td>0.00</td>\n",
       "      <td>101,348.88</td>\n",
       "      <td>1</td>\n",
       "      <td>1</td>\n",
       "      <td>1</td>\n",
       "      <td>France</td>\n",
       "      <td>Female</td>\n",
       "    </tr>\n",
       "  </tbody>\n",
       "</table>\n",
       "</div>"
      ],
      "text/plain": [
       "           CreditScore  Age  Tenure  Balance  EstimatedSalary  NumOfProducts  \\\n",
       "RowNumber                                                                      \n",
       "1                  619   42       2     0.00       101,348.88              1   \n",
       "\n",
       "           HasCrCard  IsActiveMember Geography  Gender  \n",
       "RowNumber                                               \n",
       "1                  1               1    France  Female  "
      ]
     },
     "execution_count": 16,
     "metadata": {},
     "output_type": "execute_result"
    }
   ],
   "source": [
    "df.iloc[:, :-1].head(1)"
   ]
  },
  {
   "cell_type": "code",
   "execution_count": 17,
   "id": "0d61b857",
   "metadata": {},
   "outputs": [],
   "source": [
    "X = df.iloc[:,:-1].values\n",
    "y = df.iloc[:, -1].values"
   ]
  },
  {
   "cell_type": "code",
   "execution_count": 18,
   "id": "e95181c3",
   "metadata": {},
   "outputs": [
    {
     "data": {
      "text/plain": [
       "(numpy.ndarray, numpy.ndarray)"
      ]
     },
     "execution_count": 18,
     "metadata": {},
     "output_type": "execute_result"
    }
   ],
   "source": [
    "type(X), type(y)"
   ]
  },
  {
   "cell_type": "code",
   "execution_count": 19,
   "id": "3dd42a84",
   "metadata": {},
   "outputs": [
    {
     "data": {
      "text/plain": [
       "array([[619, 42, 2, 0.0, 101348.88, 1, 1, 1, 'France', 'Female'],\n",
       "       [608, 41, 1, 83807.86, 112542.58, 1, 0, 1, 'Spain', 'Female']],\n",
       "      dtype=object)"
      ]
     },
     "execution_count": 19,
     "metadata": {},
     "output_type": "execute_result"
    }
   ],
   "source": [
    "X[:2]"
   ]
  },
  {
   "cell_type": "code",
   "execution_count": 18,
   "id": "0c69a6b5",
   "metadata": {},
   "outputs": [
    {
     "data": {
      "text/plain": [
       "array([['France'],\n",
       "       ['Spain'],\n",
       "       ['France'],\n",
       "       ...,\n",
       "       ['France'],\n",
       "       ['Germany'],\n",
       "       ['France']], dtype=object)"
      ]
     },
     "execution_count": 18,
     "metadata": {},
     "output_type": "execute_result"
    }
   ],
   "source": [
    "X[:, -2:-1] # categorical values to be transformed"
   ]
  },
  {
   "cell_type": "markdown",
   "id": "1fb501ad",
   "metadata": {},
   "source": [
    "Split the data"
   ]
  },
  {
   "cell_type": "code",
   "execution_count": 42,
   "id": "ab3b5d22",
   "metadata": {},
   "outputs": [],
   "source": [
    "from sklearn.model_selection import train_test_split\n",
    "\n",
    "X_train, X_test, y_train, y_test = train_test_split(X, y, test_size = 0.25, random_state = 2912)"
   ]
  },
  {
   "cell_type": "code",
   "execution_count": 43,
   "id": "ef4dfdd2",
   "metadata": {},
   "outputs": [],
   "source": [
    "# encode categorical variables\n",
    "from sklearn.compose import ColumnTransformer\n",
    "from sklearn.preprocessing import LabelEncoder, OneHotEncoder, StandardScaler\n",
    "le = LabelEncoder()\n",
    "ohe = OneHotEncoder()"
   ]
  },
  {
   "cell_type": "code",
   "execution_count": 44,
   "id": "c03236b7",
   "metadata": {},
   "outputs": [],
   "source": [
    "# Gender\n",
    "X_train[:, -1] = le.fit_transform(X_train[:, -1])\n",
    "X_test[:, -1] = le.transform(X_test[:, -1])"
   ]
  },
  {
   "cell_type": "code",
   "execution_count": 45,
   "id": "33500a13",
   "metadata": {},
   "outputs": [
    {
     "data": {
      "text/plain": [
       "array([[661, 41, 5, 28082.95, 69586.27, 1, 1, 0, 'Spain', 0],\n",
       "       [521, 22, 5, 0.0, 99828.45, 2, 1, 1, 'France', 1]], dtype=object)"
      ]
     },
     "execution_count": 45,
     "metadata": {},
     "output_type": "execute_result"
    }
   ],
   "source": [
    "X_test[:2]"
   ]
  },
  {
   "cell_type": "code",
   "execution_count": 47,
   "id": "d1e09ca4",
   "metadata": {},
   "outputs": [
    {
     "data": {
      "text/plain": [
       "(7500, 10)"
      ]
     },
     "execution_count": 47,
     "metadata": {},
     "output_type": "execute_result"
    }
   ],
   "source": [
    "len(X_train), len(X_train[0])"
   ]
  },
  {
   "cell_type": "code",
   "execution_count": 48,
   "id": "f3c961bd",
   "metadata": {},
   "outputs": [],
   "source": [
    "ct = ColumnTransformer(transformers=[('one hot encoder', ohe, [-1]), # didn't accept label encoder\n",
    "                                    ('scaler', StandardScaler(), [0,1,2, 3, 4])], remainder='passthrough') \n",
    "# default remainder = 'drop', columns that are not specified are dropped"
   ]
  },
  {
   "cell_type": "code",
   "execution_count": 49,
   "id": "4a8cbafc",
   "metadata": {},
   "outputs": [],
   "source": [
    "X_train = ct.fit_transform(X_train)\n",
    "X_test = ct.transform(X_test)"
   ]
  },
  {
   "cell_type": "code",
   "execution_count": 50,
   "id": "e45b71da",
   "metadata": {},
   "outputs": [
    {
     "data": {
      "text/plain": [
       "11"
      ]
     },
     "execution_count": 50,
     "metadata": {},
     "output_type": "execute_result"
    }
   ],
   "source": [
    "len(X_train[0])"
   ]
  },
  {
   "cell_type": "markdown",
   "id": "5898fcd1",
   "metadata": {},
   "source": [
    "Label encoding is better to apply only to the binary categories (Male/Female) or to the `y` values\n",
    "For ANN we need to __scale ALL values, including 0 and 1__. Redo everything. This time I'll use One Hot Encoder for both columns and I'll add additional parameters: `drop='first'` (by default encodes everything) and `dtype='uint8'` (by default returns float values)"
   ]
  },
  {
   "cell_type": "code",
   "execution_count": 63,
   "id": "06560127",
   "metadata": {},
   "outputs": [],
   "source": [
    "X_train, X_test, y_train, y_test = train_test_split(X, y, test_size = 0.25, random_state = 2912)"
   ]
  },
  {
   "cell_type": "code",
   "execution_count": 57,
   "id": "c2c7ac3f",
   "metadata": {},
   "outputs": [
    {
     "data": {
      "text/plain": [
       "(7500, 10)"
      ]
     },
     "execution_count": 57,
     "metadata": {},
     "output_type": "execute_result"
    }
   ],
   "source": [
    "len(X_train), len(X_train[0]) # 7500 rows, 10 columns"
   ]
  },
  {
   "cell_type": "code",
   "execution_count": 64,
   "id": "5e81faf1",
   "metadata": {},
   "outputs": [],
   "source": [
    "ohe1 = OneHotEncoder(categories='auto', drop='first', sparse_output=True, dtype='uint8')"
   ]
  },
  {
   "cell_type": "code",
   "execution_count": 65,
   "id": "0e6e82ae",
   "metadata": {},
   "outputs": [],
   "source": [
    "ct = ColumnTransformer(transformers=[('one hot encoder', ohe1, [-2, -1])], # didn't accept label encoder\n",
    "                                   remainder='passthrough')\n",
    "X_train = ct.fit_transform(X_train)\n",
    "X_test = ct.transform(X_test)"
   ]
  },
  {
   "cell_type": "code",
   "execution_count": 66,
   "id": "3ce7fbe0",
   "metadata": {},
   "outputs": [
    {
     "data": {
      "text/plain": [
       "(7500, 11)"
      ]
     },
     "execution_count": 66,
     "metadata": {},
     "output_type": "execute_result"
    }
   ],
   "source": [
    "len(X_train), len(X_train[0]) "
   ]
  },
  {
   "cell_type": "code",
   "execution_count": 68,
   "id": "75be196d",
   "metadata": {},
   "outputs": [
    {
     "data": {
      "text/plain": [
       "array([0, 0, 1, 578, 30, 4, 169462.09, 112187.11, 1, 1, 0], dtype=object)"
      ]
     },
     "execution_count": 68,
     "metadata": {},
     "output_type": "execute_result"
    }
   ],
   "source": [
    "X_train[0]"
   ]
  },
  {
   "cell_type": "code",
   "execution_count": 69,
   "id": "8ccc4089",
   "metadata": {},
   "outputs": [],
   "source": [
    "sc = StandardScaler()\n",
    "X_train = sc.fit_transform(X_train)\n",
    "X_test = sc.transform(X_test)"
   ]
  },
  {
   "cell_type": "code",
   "execution_count": 70,
   "id": "dc1a7cb3",
   "metadata": {},
   "outputs": [
    {
     "data": {
      "text/plain": [
       "array([-0.57406576, -0.57098639,  0.90966223, -0.74782002, -0.84933043,\n",
       "       -0.35447986,  1.49170097,  0.20189918, -0.90804738,  0.6461435 ,\n",
       "       -1.03308019])"
      ]
     },
     "execution_count": 70,
     "metadata": {},
     "output_type": "execute_result"
    }
   ],
   "source": [
    "X_train[0]"
   ]
  },
  {
   "cell_type": "markdown",
   "id": "6e303703",
   "metadata": {},
   "source": [
    "#### Building ANN"
   ]
  },
  {
   "cell_type": "code",
   "execution_count": 71,
   "id": "f9eacb93",
   "metadata": {},
   "outputs": [
    {
     "name": "stderr",
     "output_type": "stream",
     "text": [
      "2023-03-31 21:00:29.727072: I tensorflow/core/platform/cpu_feature_guard.cc:193] This TensorFlow binary is optimized with oneAPI Deep Neural Network Library (oneDNN) to use the following CPU instructions in performance-critical operations:  SSE4.1 SSE4.2 AVX AVX2 FMA\n",
      "To enable them in other operations, rebuild TensorFlow with the appropriate compiler flags.\n"
     ]
    }
   ],
   "source": [
    "ann = tf.keras.models.Sequential()"
   ]
  },
  {
   "cell_type": "code",
   "execution_count": 72,
   "id": "3dee7608",
   "metadata": {},
   "outputs": [],
   "source": [
    "# add hidden layers\n",
    "ann.add(tf.keras.layers.Dense(units=7, activation='relu'))\n",
    "ann.add(tf.keras.layers.Dense(units=5, activation='relu'))\n",
    "ann.add(tf.keras.layers.Dense(units=7, activation='relu'))\n",
    "\n",
    "# add an output layer\n",
    "ann.add(tf.keras.layers.Dense(units=1, activation='sigmoid'))"
   ]
  },
  {
   "cell_type": "code",
   "execution_count": 73,
   "id": "486397d5",
   "metadata": {},
   "outputs": [],
   "source": [
    "# compile ANN, adam-> for stochastic GD, loos for non binary _-> catogory_crossentropy\n",
    "ann.compile(optimizer='adam', loss='binary_crossentropy', metrics=['accuracy'])"
   ]
  },
  {
   "cell_type": "code",
   "execution_count": 75,
   "id": "e2045d88",
   "metadata": {},
   "outputs": [
    {
     "name": "stdout",
     "output_type": "stream",
     "text": [
      "Epoch 1/50\n",
      "235/235 [==============================] - 0s 849us/step - loss: 0.3212 - accuracy: 0.8669\n",
      "Epoch 2/50\n",
      "235/235 [==============================] - 0s 848us/step - loss: 0.3209 - accuracy: 0.8660\n",
      "Epoch 3/50\n",
      "235/235 [==============================] - 0s 851us/step - loss: 0.3212 - accuracy: 0.8672\n",
      "Epoch 4/50\n",
      "235/235 [==============================] - 0s 910us/step - loss: 0.3211 - accuracy: 0.8668\n",
      "Epoch 5/50\n",
      "235/235 [==============================] - 0s 893us/step - loss: 0.3215 - accuracy: 0.8669\n",
      "Epoch 6/50\n",
      "235/235 [==============================] - 0s 882us/step - loss: 0.3206 - accuracy: 0.8669\n",
      "Epoch 7/50\n",
      "235/235 [==============================] - 0s 878us/step - loss: 0.3212 - accuracy: 0.8676\n",
      "Epoch 8/50\n",
      "235/235 [==============================] - 0s 872us/step - loss: 0.3204 - accuracy: 0.8672\n",
      "Epoch 9/50\n",
      "235/235 [==============================] - 0s 811us/step - loss: 0.3209 - accuracy: 0.8651\n",
      "Epoch 10/50\n",
      "235/235 [==============================] - 0s 902us/step - loss: 0.3210 - accuracy: 0.8681\n",
      "Epoch 11/50\n",
      "235/235 [==============================] - 0s 912us/step - loss: 0.3214 - accuracy: 0.8648\n",
      "Epoch 12/50\n",
      "235/235 [==============================] - 0s 893us/step - loss: 0.3206 - accuracy: 0.8667\n",
      "Epoch 13/50\n",
      "235/235 [==============================] - 0s 891us/step - loss: 0.3203 - accuracy: 0.8675\n",
      "Epoch 14/50\n",
      "235/235 [==============================] - 0s 898us/step - loss: 0.3211 - accuracy: 0.8667\n",
      "Epoch 15/50\n",
      "235/235 [==============================] - 0s 842us/step - loss: 0.3205 - accuracy: 0.8672\n",
      "Epoch 16/50\n",
      "235/235 [==============================] - 0s 888us/step - loss: 0.3207 - accuracy: 0.8667\n",
      "Epoch 17/50\n",
      "235/235 [==============================] - 0s 895us/step - loss: 0.3207 - accuracy: 0.8647\n",
      "Epoch 18/50\n",
      "235/235 [==============================] - 0s 896us/step - loss: 0.3200 - accuracy: 0.8653\n",
      "Epoch 19/50\n",
      "235/235 [==============================] - 0s 913us/step - loss: 0.3207 - accuracy: 0.8680\n",
      "Epoch 20/50\n",
      "235/235 [==============================] - 0s 884us/step - loss: 0.3209 - accuracy: 0.8665\n",
      "Epoch 21/50\n",
      "235/235 [==============================] - 0s 854us/step - loss: 0.3200 - accuracy: 0.8660\n",
      "Epoch 22/50\n",
      "235/235 [==============================] - 0s 888us/step - loss: 0.3207 - accuracy: 0.8660\n",
      "Epoch 23/50\n",
      "235/235 [==============================] - 0s 844us/step - loss: 0.3198 - accuracy: 0.8665\n",
      "Epoch 24/50\n",
      "235/235 [==============================] - 0s 891us/step - loss: 0.3198 - accuracy: 0.8692\n",
      "Epoch 25/50\n",
      "235/235 [==============================] - 0s 876us/step - loss: 0.3203 - accuracy: 0.8675\n",
      "Epoch 26/50\n",
      "235/235 [==============================] - 0s 910us/step - loss: 0.3207 - accuracy: 0.8675\n",
      "Epoch 27/50\n",
      "235/235 [==============================] - 0s 885us/step - loss: 0.3197 - accuracy: 0.8673\n",
      "Epoch 28/50\n",
      "235/235 [==============================] - 0s 899us/step - loss: 0.3205 - accuracy: 0.8673\n",
      "Epoch 29/50\n",
      "235/235 [==============================] - 0s 874us/step - loss: 0.3200 - accuracy: 0.8671\n",
      "Epoch 30/50\n",
      "235/235 [==============================] - 0s 915us/step - loss: 0.3202 - accuracy: 0.8667\n",
      "Epoch 31/50\n",
      "235/235 [==============================] - 0s 885us/step - loss: 0.3197 - accuracy: 0.8676\n",
      "Epoch 32/50\n",
      "235/235 [==============================] - 0s 838us/step - loss: 0.3198 - accuracy: 0.8665\n",
      "Epoch 33/50\n",
      "235/235 [==============================] - 0s 938us/step - loss: 0.3202 - accuracy: 0.8664\n",
      "Epoch 34/50\n",
      "235/235 [==============================] - 0s 892us/step - loss: 0.3199 - accuracy: 0.8692\n",
      "Epoch 35/50\n",
      "235/235 [==============================] - 0s 897us/step - loss: 0.3202 - accuracy: 0.8689\n",
      "Epoch 36/50\n",
      "235/235 [==============================] - 0s 905us/step - loss: 0.3197 - accuracy: 0.8667\n",
      "Epoch 37/50\n",
      "235/235 [==============================] - 0s 905us/step - loss: 0.3200 - accuracy: 0.8665\n",
      "Epoch 38/50\n",
      "235/235 [==============================] - 0s 892us/step - loss: 0.3205 - accuracy: 0.8669\n",
      "Epoch 39/50\n",
      "235/235 [==============================] - 0s 837us/step - loss: 0.3195 - accuracy: 0.8692\n",
      "Epoch 40/50\n",
      "235/235 [==============================] - 0s 941us/step - loss: 0.3199 - accuracy: 0.8671\n",
      "Epoch 41/50\n",
      "235/235 [==============================] - 0s 883us/step - loss: 0.3202 - accuracy: 0.8677\n",
      "Epoch 42/50\n",
      "235/235 [==============================] - 0s 840us/step - loss: 0.3203 - accuracy: 0.8667\n",
      "Epoch 43/50\n",
      "235/235 [==============================] - 0s 858us/step - loss: 0.3197 - accuracy: 0.8680\n",
      "Epoch 44/50\n",
      "235/235 [==============================] - 0s 871us/step - loss: 0.3195 - accuracy: 0.8679\n",
      "Epoch 45/50\n",
      "235/235 [==============================] - 0s 910us/step - loss: 0.3201 - accuracy: 0.8663\n",
      "Epoch 46/50\n",
      "235/235 [==============================] - 0s 840us/step - loss: 0.3199 - accuracy: 0.8683\n",
      "Epoch 47/50\n",
      "235/235 [==============================] - 0s 857us/step - loss: 0.3191 - accuracy: 0.8687\n",
      "Epoch 48/50\n",
      "235/235 [==============================] - 0s 839us/step - loss: 0.3200 - accuracy: 0.8659\n",
      "Epoch 49/50\n",
      "235/235 [==============================] - 0s 827us/step - loss: 0.3202 - accuracy: 0.8688\n",
      "Epoch 50/50\n",
      "235/235 [==============================] - 0s 884us/step - loss: 0.3197 - accuracy: 0.8676\n"
     ]
    },
    {
     "data": {
      "text/plain": [
       "<keras.callbacks.History at 0x1b22dc8e0>"
      ]
     },
     "execution_count": 75,
     "metadata": {},
     "output_type": "execute_result"
    }
   ],
   "source": [
    "# train the model\n",
    "ann.fit(X_train, y_train, batch_size=32, epochs=50, verbose=None) # no big changes after 50 and goes under 0.86 after 100"
   ]
  },
  {
   "cell_type": "code",
   "execution_count": 76,
   "id": "94f55e13",
   "metadata": {},
   "outputs": [
    {
     "data": {
      "text/plain": [
       "<keras.callbacks.History at 0x1b23146d0>"
      ]
     },
     "execution_count": 76,
     "metadata": {},
     "output_type": "execute_result"
    }
   ],
   "source": [
    "# repeat fit without printing epochs\n",
    "ann.fit(X_train, y_train, batch_size=32, epochs=50, verbose=None) # skip printing epochs"
   ]
  },
  {
   "cell_type": "code",
   "execution_count": 78,
   "id": "1df55f1b",
   "metadata": {},
   "outputs": [
    {
     "name": "stdout",
     "output_type": "stream",
     "text": [
      "79/79 [==============================] - 0s 623us/step\n"
     ]
    },
    {
     "data": {
      "text/plain": [
       "array([[0.53509086],\n",
       "       [0.00421836],\n",
       "       [0.3524722 ],\n",
       "       ...,\n",
       "       [0.06565866],\n",
       "       [0.0761841 ],\n",
       "       [0.1573591 ]], dtype=float32)"
      ]
     },
     "execution_count": 78,
     "metadata": {},
     "output_type": "execute_result"
    }
   ],
   "source": [
    "ann.predict(X_test) # returns a probability of churn because we picked 'sigmoid' as an activation function"
   ]
  },
  {
   "cell_type": "code",
   "execution_count": 79,
   "id": "fa6fe6ee",
   "metadata": {
    "scrolled": true
   },
   "outputs": [
    {
     "name": "stdout",
     "output_type": "stream",
     "text": [
      "79/79 [==============================] - 0s 610us/step\n"
     ]
    },
    {
     "data": {
      "text/plain": [
       "array([[ True],\n",
       "       [False],\n",
       "       [False],\n",
       "       ...,\n",
       "       [False],\n",
       "       [False],\n",
       "       [False]])"
      ]
     },
     "execution_count": 79,
     "metadata": {},
     "output_type": "execute_result"
    }
   ],
   "source": [
    "ann.predict(X_test) > 0.5"
   ]
  },
  {
   "cell_type": "code",
   "execution_count": 80,
   "id": "3414cc2d",
   "metadata": {},
   "outputs": [
    {
     "name": "stdout",
     "output_type": "stream",
     "text": [
      "79/79 [==============================] - 0s 603us/step\n"
     ]
    }
   ],
   "source": [
    "y_pred = ann.predict(X_test)"
   ]
  },
  {
   "cell_type": "code",
   "execution_count": 81,
   "id": "4c6f916c",
   "metadata": {},
   "outputs": [
    {
     "data": {
      "text/plain": [
       "numpy.ndarray"
      ]
     },
     "execution_count": 81,
     "metadata": {},
     "output_type": "execute_result"
    }
   ],
   "source": [
    "type(y_pred)"
   ]
  },
  {
   "cell_type": "code",
   "execution_count": 82,
   "id": "a0b94559",
   "metadata": {},
   "outputs": [],
   "source": [
    "y_pred = np.where((y_pred > 0.5), 1, 0)"
   ]
  },
  {
   "cell_type": "code",
   "execution_count": 83,
   "id": "16f04723",
   "metadata": {},
   "outputs": [
    {
     "data": {
      "text/plain": [
       "array([[1],\n",
       "       [0],\n",
       "       [0],\n",
       "       ...,\n",
       "       [0],\n",
       "       [0],\n",
       "       [0]])"
      ]
     },
     "execution_count": 83,
     "metadata": {},
     "output_type": "execute_result"
    }
   ],
   "source": [
    "y_pred"
   ]
  },
  {
   "cell_type": "code",
   "execution_count": 88,
   "id": "6512fe81",
   "metadata": {},
   "outputs": [
    {
     "data": {
      "text/plain": [
       "True"
      ]
     },
     "execution_count": 88,
     "metadata": {},
     "output_type": "execute_result"
    }
   ],
   "source": [
    "len(y_pred) == len(y_test)"
   ]
  },
  {
   "cell_type": "code",
   "execution_count": 89,
   "id": "1cf5d1ea",
   "metadata": {},
   "outputs": [
    {
     "data": {
      "text/plain": [
       "((2500, 1), (2500,))"
      ]
     },
     "execution_count": 89,
     "metadata": {},
     "output_type": "execute_result"
    }
   ],
   "source": [
    "y_pred.shape, y_test.shape"
   ]
  },
  {
   "cell_type": "code",
   "execution_count": 95,
   "id": "90d6b82d",
   "metadata": {},
   "outputs": [
    {
     "data": {
      "text/plain": [
       "array([[1, 1],\n",
       "       [0, 0],\n",
       "       [0, 0],\n",
       "       ...,\n",
       "       [0, 0],\n",
       "       [0, 0],\n",
       "       [0, 0]])"
      ]
     },
     "execution_count": 95,
     "metadata": {},
     "output_type": "execute_result"
    }
   ],
   "source": [
    "np.concatenate((y_pred.reshape(len(y_pred),1), y_test.reshape(len(y_test),1)),axis=1)"
   ]
  },
  {
   "cell_type": "code",
   "execution_count": 96,
   "id": "bbfe7e6f",
   "metadata": {},
   "outputs": [
    {
     "data": {
      "text/plain": [
       "0.852"
      ]
     },
     "execution_count": 96,
     "metadata": {},
     "output_type": "execute_result"
    }
   ],
   "source": [
    "from sklearn.metrics import accuracy_score\n",
    "accuracy_score(y_test, y_pred)"
   ]
  }
 ],
 "metadata": {
  "kernelspec": {
   "display_name": "Python 3 (ipykernel)",
   "language": "python",
   "name": "python3"
  },
  "language_info": {
   "codemirror_mode": {
    "name": "ipython",
    "version": 3
   },
   "file_extension": ".py",
   "mimetype": "text/x-python",
   "name": "python",
   "nbconvert_exporter": "python",
   "pygments_lexer": "ipython3",
   "version": "3.10.9"
  }
 },
 "nbformat": 4,
 "nbformat_minor": 5
}
