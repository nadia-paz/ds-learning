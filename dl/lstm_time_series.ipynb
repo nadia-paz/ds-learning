{
 "cells": [
  {
   "cell_type": "code",
   "execution_count": 1,
   "metadata": {},
   "outputs": [
    {
     "name": "stderr",
     "output_type": "stream",
     "text": [
      "2023-04-06 11:31:01.299532: I tensorflow/core/platform/cpu_feature_guard.cc:193] This TensorFlow binary is optimized with oneAPI Deep Neural Network Library (oneDNN) to use the following CPU instructions in performance-critical operations:  SSE4.1 SSE4.2 AVX AVX2 FMA\n",
      "To enable them in other operations, rebuild TensorFlow with the appropriate compiler flags.\n"
     ]
    }
   ],
   "source": [
    "import numpy as np \n",
    "import pandas as pd \n",
    "import matplotlib.pyplot as plt \n",
    "from sklearn.preprocessing import MinMaxScaler\n",
    "\n",
    "from keras.models import Sequential\n",
    "from keras.layers import Dense\n",
    "from keras.layers import LSTM\n",
    "from keras.layers import Dropout"
   ]
  },
  {
   "cell_type": "code",
   "execution_count": 2,
   "metadata": {},
   "outputs": [],
   "source": [
    "train = pd.read_csv('../datasets/goog_train.csv')"
   ]
  },
  {
   "cell_type": "code",
   "execution_count": 3,
   "metadata": {},
   "outputs": [
    {
     "data": {
      "text/html": [
       "<div>\n",
       "<style scoped>\n",
       "    .dataframe tbody tr th:only-of-type {\n",
       "        vertical-align: middle;\n",
       "    }\n",
       "\n",
       "    .dataframe tbody tr th {\n",
       "        vertical-align: top;\n",
       "    }\n",
       "\n",
       "    .dataframe thead th {\n",
       "        text-align: right;\n",
       "    }\n",
       "</style>\n",
       "<table border=\"1\" class=\"dataframe\">\n",
       "  <thead>\n",
       "    <tr style=\"text-align: right;\">\n",
       "      <th></th>\n",
       "      <th>Date</th>\n",
       "      <th>Open</th>\n",
       "      <th>High</th>\n",
       "      <th>Low</th>\n",
       "      <th>Close</th>\n",
       "      <th>Volume</th>\n",
       "    </tr>\n",
       "  </thead>\n",
       "  <tbody>\n",
       "    <tr>\n",
       "      <th>0</th>\n",
       "      <td>1/3/2012</td>\n",
       "      <td>325.25</td>\n",
       "      <td>332.83</td>\n",
       "      <td>324.97</td>\n",
       "      <td>663.59</td>\n",
       "      <td>7,380,500</td>\n",
       "    </tr>\n",
       "    <tr>\n",
       "      <th>1</th>\n",
       "      <td>1/4/2012</td>\n",
       "      <td>331.27</td>\n",
       "      <td>333.87</td>\n",
       "      <td>329.08</td>\n",
       "      <td>666.45</td>\n",
       "      <td>5,749,400</td>\n",
       "    </tr>\n",
       "  </tbody>\n",
       "</table>\n",
       "</div>"
      ],
      "text/plain": [
       "       Date    Open    High     Low   Close     Volume\n",
       "0  1/3/2012  325.25  332.83  324.97  663.59  7,380,500\n",
       "1  1/4/2012  331.27  333.87  329.08  666.45  5,749,400"
      ]
     },
     "execution_count": 3,
     "metadata": {},
     "output_type": "execute_result"
    }
   ],
   "source": [
    "train.head(2)"
   ]
  },
  {
   "cell_type": "code",
   "execution_count": 4,
   "metadata": {},
   "outputs": [
    {
     "data": {
      "text/plain": [
       "array([325.25, 331.27, 329.83, ..., 793.7 , 783.33, 782.75])"
      ]
     },
     "execution_count": 4,
     "metadata": {},
     "output_type": "execute_result"
    }
   ],
   "source": [
    "# train.iloc[:, 1] returns Series and .values -> 1D array\n",
    "train.iloc[:, 1].values"
   ]
  },
  {
   "cell_type": "code",
   "execution_count": 5,
   "metadata": {},
   "outputs": [
    {
     "data": {
      "text/plain": [
       "array([[325.25],\n",
       "       [331.27],\n",
       "       [329.83],\n",
       "       ...,\n",
       "       [793.7 ],\n",
       "       [783.33],\n",
       "       [782.75]])"
      ]
     },
     "execution_count": 5,
     "metadata": {},
     "output_type": "execute_result"
    }
   ],
   "source": [
    "# train.iloc[:, 1:2] returns df and .values -> 2D array\n",
    "# same as\n",
    "# train.iloc[:, [1]].values\n",
    "\n",
    "train.iloc[:, 1:2].values"
   ]
  },
  {
   "cell_type": "code",
   "execution_count": 6,
   "metadata": {},
   "outputs": [],
   "source": [
    "train = train.iloc[:, [1]].values"
   ]
  },
  {
   "cell_type": "code",
   "execution_count": 7,
   "metadata": {},
   "outputs": [],
   "source": [
    "sc = MinMaxScaler()\n",
    "train = sc.fit_transform(train)"
   ]
  },
  {
   "cell_type": "code",
   "execution_count": 8,
   "metadata": {},
   "outputs": [
    {
     "data": {
      "text/plain": [
       "array([[0.08581368],\n",
       "       [0.09701243]])"
      ]
     },
     "execution_count": 8,
     "metadata": {},
     "output_type": "execute_result"
    }
   ],
   "source": [
    "train[:2]"
   ]
  },
  {
   "cell_type": "code",
   "execution_count": 9,
   "metadata": {},
   "outputs": [
    {
     "data": {
      "text/plain": [
       "(1.0, 0.0)"
      ]
     },
     "execution_count": 9,
     "metadata": {},
     "output_type": "execute_result"
    }
   ],
   "source": [
    "train.max(), train.min()"
   ]
  },
  {
   "attachments": {},
   "cell_type": "markdown",
   "metadata": {},
   "source": [
    "Create timestamps."
   ]
  },
  {
   "cell_type": "code",
   "execution_count": 10,
   "metadata": {},
   "outputs": [
    {
     "data": {
      "text/plain": [
       "array([[0.08581368],\n",
       "       [0.09701243]])"
      ]
     },
     "execution_count": 10,
     "metadata": {},
     "output_type": "execute_result"
    }
   ],
   "source": [
    "train[:2]"
   ]
  },
  {
   "cell_type": "code",
   "execution_count": 11,
   "metadata": {},
   "outputs": [
    {
     "data": {
      "text/plain": [
       "1258"
      ]
     },
     "execution_count": 11,
     "metadata": {},
     "output_type": "execute_result"
    }
   ],
   "source": [
    "len(train)"
   ]
  },
  {
   "cell_type": "code",
   "execution_count": 12,
   "metadata": {},
   "outputs": [],
   "source": [
    "X_train = []\n",
    "y_train = []\n",
    "for i in range(60, len(train)):\n",
    "    X_train.append(train[i-60:i, 0])\n",
    "    y_train.append(train[i, 0])\n",
    "X_train, y_train = np.array(X_train), np.array(y_train)"
   ]
  },
  {
   "cell_type": "code",
   "execution_count": 13,
   "metadata": {},
   "outputs": [
    {
     "data": {
      "text/plain": [
       "array([0.08627874, 0.08471612, 0.07454052, 0.07883771, 0.07238262])"
      ]
     },
     "execution_count": 13,
     "metadata": {},
     "output_type": "execute_result"
    }
   ],
   "source": [
    "y_train[:5]"
   ]
  },
  {
   "cell_type": "code",
   "execution_count": 14,
   "metadata": {},
   "outputs": [
    {
     "data": {
      "text/plain": [
       "array([[0.08581368, 0.09701243, 0.09433366, 0.09156187, 0.07984225,\n",
       "        0.0643277 , 0.0585423 , 0.06568569, 0.06109085, 0.06639259,\n",
       "        0.0614257 , 0.07474514, 0.02797827, 0.02379269, 0.02409033,\n",
       "        0.0159238 , 0.01078949, 0.00967334, 0.01642607, 0.02100231,\n",
       "        0.02280676, 0.02273235, 0.02810849, 0.03212665, 0.0433812 ,\n",
       "        0.04475779, 0.04790163, 0.0440695 , 0.04648783, 0.04745517,\n",
       "        0.04873875, 0.03936305, 0.04137213, 0.04034898, 0.04784582,\n",
       "        0.04325099, 0.04356723, 0.04286033, 0.04602277, 0.05398467,\n",
       "        0.05738894, 0.05714711, 0.05569611, 0.04421832, 0.04514845,\n",
       "        0.04605997, 0.04412531, 0.03675869, 0.04486941, 0.05065481,\n",
       "        0.05214302, 0.05612397, 0.05818885, 0.06540665, 0.06882953,\n",
       "        0.07243843, 0.07993526, 0.07846566, 0.08034452, 0.08497656],\n",
       "       [0.09701243, 0.09433366, 0.09156187, 0.07984225, 0.0643277 ,\n",
       "        0.0585423 , 0.06568569, 0.06109085, 0.06639259, 0.0614257 ,\n",
       "        0.07474514, 0.02797827, 0.02379269, 0.02409033, 0.0159238 ,\n",
       "        0.01078949, 0.00967334, 0.01642607, 0.02100231, 0.02280676,\n",
       "        0.02273235, 0.02810849, 0.03212665, 0.0433812 , 0.04475779,\n",
       "        0.04790163, 0.0440695 , 0.04648783, 0.04745517, 0.04873875,\n",
       "        0.03936305, 0.04137213, 0.04034898, 0.04784582, 0.04325099,\n",
       "        0.04356723, 0.04286033, 0.04602277, 0.05398467, 0.05738894,\n",
       "        0.05714711, 0.05569611, 0.04421832, 0.04514845, 0.04605997,\n",
       "        0.04412531, 0.03675869, 0.04486941, 0.05065481, 0.05214302,\n",
       "        0.05612397, 0.05818885, 0.06540665, 0.06882953, 0.07243843,\n",
       "        0.07993526, 0.07846566, 0.08034452, 0.08497656, 0.08627874]])"
      ]
     },
     "execution_count": 14,
     "metadata": {},
     "output_type": "execute_result"
    }
   ],
   "source": [
    "X_train[:2]"
   ]
  },
  {
   "cell_type": "code",
   "execution_count": 15,
   "metadata": {},
   "outputs": [
    {
     "data": {
      "text/plain": [
       "numpy.ndarray"
      ]
     },
     "execution_count": 15,
     "metadata": {},
     "output_type": "execute_result"
    }
   ],
   "source": [
    "type(X_train)"
   ]
  },
  {
   "attachments": {},
   "cell_type": "markdown",
   "metadata": {},
   "source": [
    "#### Reshaping"
   ]
  },
  {
   "cell_type": "code",
   "execution_count": 16,
   "metadata": {},
   "outputs": [],
   "source": [
    "X_train = np.reshape(X_train, (X_train.shape[0], X_train.shape[1], 1))"
   ]
  },
  {
   "cell_type": "code",
   "execution_count": 17,
   "metadata": {},
   "outputs": [],
   "source": [
    "def preprocess(X_scaled: pd.DataFrame, timestapm: int = 60):\n",
    "    '''\n",
    "    prepare train, validate or test df for LTSM model\n",
    "    '''\n",
    "    X = []\n",
    "    y = []\n",
    "    # prepare for LSTM\n",
    "    for i in range(timestapm, len(X_scaled)):\n",
    "        X.append(X_scaled[i-timestapm:i, 0])\n",
    "        y.append(X_scaled[i, 0])\n",
    "    X, y = np.array(X), np.array(y)\n",
    "    # reshape (batchsize, timestamp, features)\n",
    "    X = np.reshape(X, (X.shape[0], X.shape[1], 1))\n",
    "\n",
    "    return X, y\n"
   ]
  },
  {
   "attachments": {},
   "cell_type": "markdown",
   "metadata": {},
   "source": [
    "#### Building a model"
   ]
  },
  {
   "cell_type": "code",
   "execution_count": 18,
   "metadata": {},
   "outputs": [
    {
     "name": "stderr",
     "output_type": "stream",
     "text": [
      "2023-04-06 11:43:01.740624: I tensorflow/core/platform/cpu_feature_guard.cc:193] This TensorFlow binary is optimized with oneAPI Deep Neural Network Library (oneDNN) to use the following CPU instructions in performance-critical operations:  SSE4.1 SSE4.2 AVX AVX2 FMA\n",
      "To enable them in other operations, rebuild TensorFlow with the appropriate compiler flags.\n"
     ]
    }
   ],
   "source": [
    "model = Sequential()\n",
    "# units: the number of neurons\n",
    "# return_sequencies: True when add after next LSTM layer\n",
    "# input_shape = (timestamps, predictors)\n",
    "model.add(LSTM(units=50, \n",
    "                activation='tanh', # default value\n",
    "                return_sequences=True, # default is False\n",
    "                input_shape=(X_train.shape[1], 1)))\n",
    "# dropout to avoid overfitting. 20% out\n",
    "model.add(Dropout(0.2))\n",
    "\n",
    "# 2nd LSTM/Droupout layer. No input shape needed\n",
    "model.add(LSTM(units=50, return_sequences=True))\n",
    "# dropout to avoid overfitting. 20% out\n",
    "model.add(Dropout(0.2))\n",
    "\n",
    "# 3rd LSTM/Droupout layer.\n",
    "model.add(LSTM(units=50, return_sequences=True))\n",
    "# dropout to avoid overfitting. 20% out\n",
    "model.add(Dropout(0.2))\n",
    "\n",
    "# 4rth layer\n",
    "model.add(LSTM(units=50))\n",
    "model.add(Dropout(0.2))\n",
    "\n",
    "# add output Dense layer, units = 1 (for 1 dimension)\n",
    "model.add(Dense(units=1))\n",
    "\n",
    "# compile - RMSprop recommended for RNN, adam can be, too and works better\n",
    "# with adam final loss is .0014, rmsprop .0019\n",
    "model.compile(optimizer='RMSprop', loss='mean_squared_error')"
   ]
  },
  {
   "cell_type": "code",
   "execution_count": 19,
   "metadata": {},
   "outputs": [
    {
     "name": "stdout",
     "output_type": "stream",
     "text": [
      "Epoch 1/100\n",
      "38/38 [==============================] - 7s 55ms/step - loss: 0.0369\n",
      "Epoch 2/100\n",
      "38/38 [==============================] - 2s 54ms/step - loss: 0.0132\n",
      "Epoch 3/100\n",
      "38/38 [==============================] - 2s 54ms/step - loss: 0.0111\n",
      "Epoch 4/100\n",
      "38/38 [==============================] - 2s 54ms/step - loss: 0.0096\n",
      "Epoch 5/100\n",
      "38/38 [==============================] - 2s 55ms/step - loss: 0.0089\n",
      "Epoch 6/100\n",
      "38/38 [==============================] - 2s 61ms/step - loss: 0.0082\n",
      "Epoch 7/100\n",
      "38/38 [==============================] - 2s 54ms/step - loss: 0.0078\n",
      "Epoch 8/100\n",
      "38/38 [==============================] - 2s 54ms/step - loss: 0.0069\n",
      "Epoch 9/100\n",
      "38/38 [==============================] - 2s 55ms/step - loss: 0.0066\n",
      "Epoch 10/100\n",
      "38/38 [==============================] - 2s 55ms/step - loss: 0.0064\n",
      "Epoch 11/100\n",
      "38/38 [==============================] - 2s 55ms/step - loss: 0.0062\n",
      "Epoch 12/100\n",
      "38/38 [==============================] - 2s 55ms/step - loss: 0.0056\n",
      "Epoch 13/100\n",
      "38/38 [==============================] - 2s 55ms/step - loss: 0.0059\n",
      "Epoch 14/100\n",
      "38/38 [==============================] - 2s 56ms/step - loss: 0.0050\n",
      "Epoch 15/100\n",
      "38/38 [==============================] - 2s 54ms/step - loss: 0.0047\n",
      "Epoch 16/100\n",
      "38/38 [==============================] - 2s 54ms/step - loss: 0.0049\n",
      "Epoch 17/100\n",
      "38/38 [==============================] - 2s 53ms/step - loss: 0.0049\n",
      "Epoch 18/100\n",
      "38/38 [==============================] - 2s 53ms/step - loss: 0.0050\n",
      "Epoch 19/100\n",
      "38/38 [==============================] - 2s 53ms/step - loss: 0.0049\n",
      "Epoch 20/100\n",
      "38/38 [==============================] - 2s 53ms/step - loss: 0.0042\n",
      "Epoch 21/100\n",
      "38/38 [==============================] - 2s 53ms/step - loss: 0.0048\n",
      "Epoch 22/100\n",
      "38/38 [==============================] - 2s 52ms/step - loss: 0.0041\n",
      "Epoch 23/100\n",
      "38/38 [==============================] - 2s 52ms/step - loss: 0.0042\n",
      "Epoch 24/100\n",
      "38/38 [==============================] - 2s 53ms/step - loss: 0.0041\n",
      "Epoch 25/100\n",
      "38/38 [==============================] - 2s 53ms/step - loss: 0.0043\n",
      "Epoch 26/100\n",
      "38/38 [==============================] - 2s 52ms/step - loss: 0.0037\n",
      "Epoch 27/100\n",
      "38/38 [==============================] - 2s 52ms/step - loss: 0.0036\n",
      "Epoch 28/100\n",
      "38/38 [==============================] - 2s 52ms/step - loss: 0.0036\n",
      "Epoch 29/100\n",
      "38/38 [==============================] - 2s 52ms/step - loss: 0.0040\n",
      "Epoch 30/100\n",
      "38/38 [==============================] - 2s 52ms/step - loss: 0.0037\n",
      "Epoch 31/100\n",
      "38/38 [==============================] - 2s 54ms/step - loss: 0.0039\n",
      "Epoch 32/100\n",
      "38/38 [==============================] - 2s 53ms/step - loss: 0.0034\n",
      "Epoch 33/100\n",
      "38/38 [==============================] - 2s 53ms/step - loss: 0.0036\n",
      "Epoch 34/100\n",
      "38/38 [==============================] - 2s 53ms/step - loss: 0.0033\n",
      "Epoch 35/100\n",
      "38/38 [==============================] - 2s 54ms/step - loss: 0.0033\n",
      "Epoch 36/100\n",
      "38/38 [==============================] - 2s 53ms/step - loss: 0.0030\n",
      "Epoch 37/100\n",
      "38/38 [==============================] - 2s 53ms/step - loss: 0.0030\n",
      "Epoch 38/100\n",
      "38/38 [==============================] - 2s 53ms/step - loss: 0.0029\n",
      "Epoch 39/100\n",
      "38/38 [==============================] - 2s 53ms/step - loss: 0.0033\n",
      "Epoch 40/100\n",
      "38/38 [==============================] - 2s 54ms/step - loss: 0.0033\n",
      "Epoch 41/100\n",
      "38/38 [==============================] - 2s 55ms/step - loss: 0.0030\n",
      "Epoch 42/100\n",
      "38/38 [==============================] - 2s 56ms/step - loss: 0.0030\n",
      "Epoch 43/100\n",
      "38/38 [==============================] - 2s 55ms/step - loss: 0.0030\n",
      "Epoch 44/100\n",
      "38/38 [==============================] - 2s 55ms/step - loss: 0.0032\n",
      "Epoch 45/100\n",
      "38/38 [==============================] - 2s 54ms/step - loss: 0.0027\n",
      "Epoch 46/100\n",
      "38/38 [==============================] - 2s 55ms/step - loss: 0.0027\n",
      "Epoch 47/100\n",
      "38/38 [==============================] - 2s 55ms/step - loss: 0.0030\n",
      "Epoch 48/100\n",
      "38/38 [==============================] - 2s 55ms/step - loss: 0.0025\n",
      "Epoch 49/100\n",
      "38/38 [==============================] - 2s 55ms/step - loss: 0.0029\n",
      "Epoch 50/100\n",
      "38/38 [==============================] - 2s 55ms/step - loss: 0.0030\n",
      "Epoch 51/100\n",
      "38/38 [==============================] - 2s 55ms/step - loss: 0.0026\n",
      "Epoch 52/100\n",
      "38/38 [==============================] - 2s 56ms/step - loss: 0.0028\n",
      "Epoch 53/100\n",
      "38/38 [==============================] - 2s 55ms/step - loss: 0.0025\n",
      "Epoch 54/100\n",
      "38/38 [==============================] - 2s 55ms/step - loss: 0.0027\n",
      "Epoch 55/100\n",
      "38/38 [==============================] - 2s 55ms/step - loss: 0.0024\n",
      "Epoch 56/100\n",
      "38/38 [==============================] - 2s 55ms/step - loss: 0.0026\n",
      "Epoch 57/100\n",
      "38/38 [==============================] - 2s 54ms/step - loss: 0.0027\n",
      "Epoch 58/100\n",
      "38/38 [==============================] - 2s 55ms/step - loss: 0.0025\n",
      "Epoch 59/100\n",
      "38/38 [==============================] - 2s 55ms/step - loss: 0.0026\n",
      "Epoch 60/100\n",
      "38/38 [==============================] - 2s 55ms/step - loss: 0.0026\n",
      "Epoch 61/100\n",
      "38/38 [==============================] - 2s 55ms/step - loss: 0.0024\n",
      "Epoch 62/100\n",
      "38/38 [==============================] - 2s 55ms/step - loss: 0.0021\n",
      "Epoch 63/100\n",
      "38/38 [==============================] - 2s 55ms/step - loss: 0.0024\n",
      "Epoch 64/100\n",
      "38/38 [==============================] - 2s 55ms/step - loss: 0.0025\n",
      "Epoch 65/100\n",
      "38/38 [==============================] - 2s 55ms/step - loss: 0.0023\n",
      "Epoch 66/100\n",
      "38/38 [==============================] - 2s 55ms/step - loss: 0.0024\n",
      "Epoch 67/100\n",
      "38/38 [==============================] - 2s 55ms/step - loss: 0.0024\n",
      "Epoch 68/100\n",
      "38/38 [==============================] - 2s 56ms/step - loss: 0.0024\n",
      "Epoch 69/100\n",
      "38/38 [==============================] - 2s 56ms/step - loss: 0.0023\n",
      "Epoch 70/100\n",
      "38/38 [==============================] - 2s 52ms/step - loss: 0.0022\n",
      "Epoch 71/100\n",
      "38/38 [==============================] - 2s 51ms/step - loss: 0.0025\n",
      "Epoch 72/100\n",
      "38/38 [==============================] - 2s 51ms/step - loss: 0.0023\n",
      "Epoch 73/100\n",
      "38/38 [==============================] - 2s 51ms/step - loss: 0.0021\n",
      "Epoch 74/100\n",
      "38/38 [==============================] - 2s 51ms/step - loss: 0.0022\n",
      "Epoch 75/100\n",
      "38/38 [==============================] - 2s 50ms/step - loss: 0.0023\n",
      "Epoch 76/100\n",
      "38/38 [==============================] - 2s 51ms/step - loss: 0.0023\n",
      "Epoch 77/100\n",
      "38/38 [==============================] - 2s 51ms/step - loss: 0.0023\n",
      "Epoch 78/100\n",
      "38/38 [==============================] - 2s 51ms/step - loss: 0.0022\n",
      "Epoch 79/100\n",
      "38/38 [==============================] - 2s 51ms/step - loss: 0.0020\n",
      "Epoch 80/100\n",
      "38/38 [==============================] - 2s 50ms/step - loss: 0.0020\n",
      "Epoch 81/100\n",
      "38/38 [==============================] - 2s 51ms/step - loss: 0.0022\n",
      "Epoch 82/100\n",
      "38/38 [==============================] - 2s 51ms/step - loss: 0.0021\n",
      "Epoch 83/100\n",
      "38/38 [==============================] - 2s 55ms/step - loss: 0.0020\n",
      "Epoch 84/100\n",
      "38/38 [==============================] - 2s 54ms/step - loss: 0.0022\n",
      "Epoch 85/100\n",
      "38/38 [==============================] - 2s 54ms/step - loss: 0.0020\n",
      "Epoch 86/100\n",
      "38/38 [==============================] - 2s 55ms/step - loss: 0.0024\n",
      "Epoch 87/100\n",
      "38/38 [==============================] - 2s 54ms/step - loss: 0.0020\n",
      "Epoch 88/100\n",
      "38/38 [==============================] - 2s 53ms/step - loss: 0.0020\n",
      "Epoch 89/100\n",
      "38/38 [==============================] - 2s 54ms/step - loss: 0.0022\n",
      "Epoch 90/100\n",
      "38/38 [==============================] - 2s 55ms/step - loss: 0.0022\n",
      "Epoch 91/100\n",
      "38/38 [==============================] - 2s 53ms/step - loss: 0.0020\n",
      "Epoch 92/100\n",
      "38/38 [==============================] - 2s 54ms/step - loss: 0.0020\n",
      "Epoch 93/100\n",
      "38/38 [==============================] - 2s 53ms/step - loss: 0.0022\n",
      "Epoch 94/100\n",
      "38/38 [==============================] - 2s 55ms/step - loss: 0.0020\n",
      "Epoch 95/100\n",
      "38/38 [==============================] - 2s 54ms/step - loss: 0.0020\n",
      "Epoch 96/100\n",
      "38/38 [==============================] - 2s 54ms/step - loss: 0.0020\n",
      "Epoch 97/100\n",
      "38/38 [==============================] - 2s 55ms/step - loss: 0.0019\n",
      "Epoch 98/100\n",
      "38/38 [==============================] - 2s 54ms/step - loss: 0.0019\n",
      "Epoch 99/100\n",
      "38/38 [==============================] - 2s 54ms/step - loss: 0.0020\n",
      "Epoch 100/100\n",
      "38/38 [==============================] - 2s 54ms/step - loss: 0.0019\n"
     ]
    },
    {
     "data": {
      "text/plain": [
       "<keras.callbacks.History at 0x1b7e40f70>"
      ]
     },
     "execution_count": 19,
     "metadata": {},
     "output_type": "execute_result"
    }
   ],
   "source": [
    "model.fit(X_train, y_train, epochs=100, batch_size=32)"
   ]
  },
  {
   "cell_type": "code",
   "execution_count": 21,
   "metadata": {},
   "outputs": [
    {
     "name": "stderr",
     "output_type": "stream",
     "text": [
      "WARNING:absl:Found untraced functions such as _update_step_xla, lstm_cell_layer_call_fn, lstm_cell_layer_call_and_return_conditional_losses, lstm_cell_1_layer_call_fn, lstm_cell_1_layer_call_and_return_conditional_losses while saving (showing 5 of 9). These functions will not be directly callable after loading.\n"
     ]
    },
    {
     "name": "stdout",
     "output_type": "stream",
     "text": [
      "INFO:tensorflow:Assets written to: model_lstm/assets\n"
     ]
    },
    {
     "name": "stderr",
     "output_type": "stream",
     "text": [
      "INFO:tensorflow:Assets written to: model_lstm/assets\n"
     ]
    }
   ],
   "source": [
    "import os\n",
    "from tensorflow.keras.models import model_from_json\n",
    "# save 2 copies of model just in case :)\n",
    "\n",
    "directory = 'model_lstm'\n",
    "if not os.path.isdir(directory):\n",
    "    os.mkdir(directory)\n",
    "model.save(directory)\n",
    "\n",
    "models_path = 'models'\n",
    "if not os.path.isdir(models_path):\n",
    "    os.mkdir(models_path)\n",
    "\n",
    "json_path = models_path + '/lstm.json'\n",
    "weight_path = models_path + '/lstm.h5'\n",
    "\n",
    "# serialize model to JSON\n",
    "model_json = model.to_json()\n",
    "with open(json_path, \"w\") as json_file:\n",
    "    json_file.write(model_json)\n",
    "# save weight mandatory!!!\n",
    "# without weights only layers are saved\n",
    "model.save_weights(weight_path)"
   ]
  },
  {
   "attachments": {},
   "cell_type": "markdown",
   "metadata": {},
   "source": [
    "#### Make predictions"
   ]
  },
  {
   "cell_type": "code",
   "execution_count": null,
   "metadata": {},
   "outputs": [],
   "source": []
  },
  {
   "cell_type": "code",
   "execution_count": null,
   "metadata": {},
   "outputs": [],
   "source": []
  },
  {
   "cell_type": "code",
   "execution_count": null,
   "metadata": {},
   "outputs": [],
   "source": []
  },
  {
   "cell_type": "code",
   "execution_count": null,
   "metadata": {},
   "outputs": [],
   "source": []
  },
  {
   "cell_type": "code",
   "execution_count": null,
   "metadata": {},
   "outputs": [],
   "source": []
  }
 ],
 "metadata": {
  "kernelspec": {
   "display_name": "base",
   "language": "python",
   "name": "python3"
  },
  "language_info": {
   "codemirror_mode": {
    "name": "ipython",
    "version": 3
   },
   "file_extension": ".py",
   "mimetype": "text/x-python",
   "name": "python",
   "nbconvert_exporter": "python",
   "pygments_lexer": "ipython3",
   "version": "3.10.9"
  },
  "orig_nbformat": 4
 },
 "nbformat": 4,
 "nbformat_minor": 2
}
