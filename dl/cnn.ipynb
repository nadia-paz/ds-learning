{
 "cells": [
  {
   "cell_type": "code",
   "execution_count": 1,
   "metadata": {},
   "outputs": [],
   "source": [
    "import numpy as np\n",
    "import tensorflow as tf\n",
    "from keras.preprocessing import image\n",
    "from keras.preprocessing.image import ImageDataGenerator"
   ]
  },
  {
   "cell_type": "code",
   "execution_count": 2,
   "metadata": {},
   "outputs": [
    {
     "name": "stdout",
     "output_type": "stream",
     "text": [
      "Found 8000 images belonging to 2 classes.\n"
     ]
    }
   ],
   "source": [
    "#  use Image Data Generator to reshape images to avoid overfitting\n",
    "# 1. / 255 -> scaling\n",
    "train_datagen = ImageDataGenerator(rescale = 1./255,\n",
    "                                   shear_range = 0.2,\n",
    "                                   zoom_range = 0.2,\n",
    "                                   horizontal_flip = True)\n",
    "# class mode = 'binary' because of the binary outcome. for more outcomes -> category\n",
    "training_set = train_datagen.flow_from_directory('../datasets/cats_dogs_images/training_set',\n",
    "                                                 target_size = (64, 64),\n",
    "                                                 batch_size = 32,\n",
    "                                                 class_mode = 'binary')"
   ]
  },
  {
   "cell_type": "code",
   "execution_count": 3,
   "metadata": {},
   "outputs": [
    {
     "name": "stdout",
     "output_type": "stream",
     "text": [
      "Found 2000 images belonging to 2 classes.\n"
     ]
    }
   ],
   "source": [
    "# Image Data Generator for the test set -> rescale only!\n",
    "test_datagen = ImageDataGenerator(rescale=1./255)\n",
    "test_set = test_datagen.flow_from_directory('../datasets/cats_dogs_images/test_set',\n",
    "    # use same target size and batch size as on training set\n",
    "                                                 target_size = (64, 64),\n",
    "                                                 batch_size = 32,\n",
    "                                                 class_mode = 'binary')"
   ]
  },
  {
   "cell_type": "code",
   "execution_count": 4,
   "metadata": {},
   "outputs": [
    {
     "name": "stderr",
     "output_type": "stream",
     "text": [
      "2023-04-05 12:00:45.780527: I tensorflow/core/platform/cpu_feature_guard.cc:193] This TensorFlow binary is optimized with oneAPI Deep Neural Network Library (oneDNN) to use the following CPU instructions in performance-critical operations:  SSE4.1 SSE4.2 AVX AVX2 FMA\n",
      "To enable them in other operations, rebuild TensorFlow with the appropriate compiler flags.\n"
     ]
    }
   ],
   "source": [
    "cnn = tf.keras.models.Sequential()"
   ]
  },
  {
   "attachments": {},
   "cell_type": "markdown",
   "metadata": {},
   "source": [
    "Add layers"
   ]
  },
  {
   "cell_type": "code",
   "execution_count": 5,
   "metadata": {},
   "outputs": [],
   "source": [
    "# add convolutional layers\n",
    "# filters -> number of feature detectors\n",
    "# kernel size -> dimensions 3x3\n",
    "# input shape 64, 64 pixels + 3 of rgb channels\n",
    "cnn.add(tf.keras.layers.Conv2D(filters=32, kernel_size=3, activation='relu', input_shape=[64, 64, 3]))\n",
    "\n",
    "# create pooling\n",
    "# pool_size -> 2x2 pixels (picks the max value from the feature frame)\n",
    "# strides -> shift by 2 pixels \n",
    "# paddind: 'valid' (no padding/default), 'same' use padding and don't calculate the vslues outside the square)\n",
    "cnn.add(tf.keras.layers.MaxPool2D(pool_size=2, strides=2, padding='valid'))\n",
    "\n",
    "# add 2nd convolutional layer with the pool\n",
    "cnn.add(tf.keras.layers.Conv2D(filters=32, kernel_size=3, activation='relu'))\n",
    "cnn.add(tf.keras.layers.MaxPool2D(pool_size=2, strides=2, padding='valid'))\n",
    "\n",
    "# flattening\n",
    "cnn.add(tf.keras.layers.Flatten())"
   ]
  },
  {
   "attachments": {},
   "cell_type": "markdown",
   "metadata": {},
   "source": [
    "Connect layers and add an output layer"
   ]
  },
  {
   "cell_type": "code",
   "execution_count": 6,
   "metadata": {},
   "outputs": [],
   "source": [
    "# bigger number of units since we deal with images 64x64\n",
    "cnn.add(tf.keras.layers.Dense(units=128, activation='relu'))\n",
    "# units = 1 and activation sigmoid (for binary output), softmax for many categories\n",
    "cnn.add(tf.keras.layers.Dense(units=1, activation='sigmoid'))"
   ]
  },
  {
   "attachments": {},
   "cell_type": "markdown",
   "metadata": {},
   "source": [
    "Compile and train"
   ]
  },
  {
   "cell_type": "code",
   "execution_count": 7,
   "metadata": {},
   "outputs": [],
   "source": [
    "cnn.compile(optimizer='adam', loss='binary_crossentropy', metrics=['accuracy'])"
   ]
  },
  {
   "cell_type": "code",
   "execution_count": 8,
   "metadata": {},
   "outputs": [
    {
     "name": "stdout",
     "output_type": "stream",
     "text": [
      "Epoch 1/20\n",
      "250/250 [==============================] - 40s 157ms/step - loss: 0.6896 - accuracy: 0.5376 - val_loss: 0.7049 - val_accuracy: 0.5415\n",
      "Epoch 2/20\n",
      "250/250 [==============================] - 34s 137ms/step - loss: 0.6557 - accuracy: 0.6161 - val_loss: 0.6406 - val_accuracy: 0.6350\n",
      "Epoch 3/20\n",
      "250/250 [==============================] - 32s 127ms/step - loss: 0.6268 - accuracy: 0.6500 - val_loss: 0.6262 - val_accuracy: 0.6550\n",
      "Epoch 4/20\n",
      "250/250 [==============================] - 32s 127ms/step - loss: 0.6051 - accuracy: 0.6721 - val_loss: 0.6282 - val_accuracy: 0.6605\n",
      "Epoch 5/20\n",
      "250/250 [==============================] - 32s 127ms/step - loss: 0.5733 - accuracy: 0.7044 - val_loss: 0.6163 - val_accuracy: 0.6670\n",
      "Epoch 6/20\n",
      "250/250 [==============================] - 34s 135ms/step - loss: 0.5405 - accuracy: 0.7236 - val_loss: 0.5419 - val_accuracy: 0.7360\n",
      "Epoch 7/20\n",
      "250/250 [==============================] - 36s 144ms/step - loss: 0.5056 - accuracy: 0.7469 - val_loss: 0.5552 - val_accuracy: 0.7315\n",
      "Epoch 8/20\n",
      "250/250 [==============================] - 35s 138ms/step - loss: 0.4860 - accuracy: 0.7655 - val_loss: 0.5216 - val_accuracy: 0.7570\n",
      "Epoch 9/20\n",
      "250/250 [==============================] - 34s 137ms/step - loss: 0.4607 - accuracy: 0.7794 - val_loss: 0.4927 - val_accuracy: 0.7750\n",
      "Epoch 10/20\n",
      "250/250 [==============================] - 35s 139ms/step - loss: 0.4489 - accuracy: 0.7880 - val_loss: 0.5022 - val_accuracy: 0.7670\n",
      "Epoch 11/20\n",
      "250/250 [==============================] - 35s 139ms/step - loss: 0.4273 - accuracy: 0.8001 - val_loss: 0.4963 - val_accuracy: 0.7720\n",
      "Epoch 12/20\n",
      "250/250 [==============================] - 35s 141ms/step - loss: 0.4138 - accuracy: 0.8096 - val_loss: 0.4755 - val_accuracy: 0.7905\n",
      "Epoch 13/20\n",
      "250/250 [==============================] - 36s 142ms/step - loss: 0.3905 - accuracy: 0.8245 - val_loss: 0.4981 - val_accuracy: 0.7895\n",
      "Epoch 14/20\n",
      "250/250 [==============================] - 39s 155ms/step - loss: 0.3812 - accuracy: 0.8292 - val_loss: 0.5533 - val_accuracy: 0.7590\n",
      "Epoch 15/20\n",
      "250/250 [==============================] - 39s 155ms/step - loss: 0.3575 - accuracy: 0.8405 - val_loss: 0.4998 - val_accuracy: 0.7860\n",
      "Epoch 16/20\n",
      "250/250 [==============================] - 37s 146ms/step - loss: 0.3446 - accuracy: 0.8435 - val_loss: 0.5291 - val_accuracy: 0.7800\n",
      "Epoch 17/20\n",
      "250/250 [==============================] - 39s 155ms/step - loss: 0.3283 - accuracy: 0.8560 - val_loss: 0.5429 - val_accuracy: 0.7825\n",
      "Epoch 18/20\n",
      "250/250 [==============================] - 32s 128ms/step - loss: 0.3158 - accuracy: 0.8665 - val_loss: 0.5045 - val_accuracy: 0.7965\n",
      "Epoch 19/20\n",
      "250/250 [==============================] - 34s 136ms/step - loss: 0.3054 - accuracy: 0.8665 - val_loss: 0.5264 - val_accuracy: 0.7960\n",
      "Epoch 20/20\n",
      "250/250 [==============================] - 36s 145ms/step - loss: 0.2910 - accuracy: 0.8754 - val_loss: 0.5612 - val_accuracy: 0.7820\n"
     ]
    },
    {
     "data": {
      "text/plain": [
       "<keras.callbacks.History at 0x137020b20>"
      ]
     },
     "execution_count": 8,
     "metadata": {},
     "output_type": "execute_result"
    }
   ],
   "source": [
    "cnn.fit(x = training_set, validation_data=test_set, epochs=20)"
   ]
  },
  {
   "cell_type": "code",
   "execution_count": 16,
   "metadata": {},
   "outputs": [
    {
     "name": "stdout",
     "output_type": "stream",
     "text": [
      "1/1 [==============================] - 0s 98ms/step\n"
     ]
    }
   ],
   "source": [
    "test1 = tf.keras.utils.load_img('../datasets/cats_dogs_images/imgs/1.jpg', target_size=(64, 64))\n",
    "test1 = tf.keras.utils.img_to_array(test1)\n",
    "test1 = np.expand_dims(test1, axis=0)\n",
    "result1 = cnn.predict(test1)"
   ]
  },
  {
   "cell_type": "code",
   "execution_count": 18,
   "metadata": {},
   "outputs": [
    {
     "data": {
      "text/plain": [
       "array([[1.]], dtype=float32)"
      ]
     },
     "execution_count": 18,
     "metadata": {},
     "output_type": "execute_result"
    }
   ],
   "source": [
    "result1"
   ]
  },
  {
   "cell_type": "code",
   "execution_count": 26,
   "metadata": {},
   "outputs": [
    {
     "data": {
      "text/plain": [
       "{'cats': 0, 'dogs': 1}"
      ]
     },
     "execution_count": 26,
     "metadata": {},
     "output_type": "execute_result"
    }
   ],
   "source": [
    "training_set.class_indices"
   ]
  },
  {
   "cell_type": "code",
   "execution_count": 22,
   "metadata": {},
   "outputs": [
    {
     "data": {
      "text/plain": [
       "1.0"
      ]
     },
     "execution_count": 22,
     "metadata": {},
     "output_type": "execute_result"
    }
   ],
   "source": [
    "result1[0][0]"
   ]
  },
  {
   "cell_type": "code",
   "execution_count": 23,
   "metadata": {},
   "outputs": [
    {
     "name": "stdout",
     "output_type": "stream",
     "text": [
      "1/1 [==============================] - 0s 20ms/step\n"
     ]
    }
   ],
   "source": [
    "test2 = tf.keras.utils.load_img('../datasets/cats_dogs_images/imgs/2.jpg', target_size=(64, 64))\n",
    "test2 = tf.keras.utils.img_to_array(test2)\n",
    "test2 = np.expand_dims(test2, axis=0)\n",
    "result2 = cnn.predict(test2)"
   ]
  },
  {
   "cell_type": "code",
   "execution_count": 24,
   "metadata": {},
   "outputs": [
    {
     "name": "stdout",
     "output_type": "stream",
     "text": [
      "Cat\n"
     ]
    }
   ],
   "source": [
    "if result2 == 0:\n",
    "    print('Cat')\n",
    "else:\n",
    "    print('Dog')"
   ]
  },
  {
   "cell_type": "code",
   "execution_count": 46,
   "metadata": {},
   "outputs": [],
   "source": [
    "def get_result(path:str):\n",
    "    '''\n",
    "    the function returns prediction cat or dog\n",
    "    '''\n",
    "    output = training_set.class_indices\n",
    "    \n",
    "    img = tf.keras.utils.load_img(path, target_size=(64, 64))\n",
    "    img = tf.keras.utils.img_to_array(img)\n",
    "    # add a dimention for a batch. put it on the 1st place axis=0\n",
    "    img = np.expand_dims(img, axis=0)\n",
    "    # alternatively (from Keras API docs)\n",
    "    # img = np.array([img])  # Convert single image to a batch.\n",
    "    res = cnn.predict(img)[0][0].astype(np.uint8)\n",
    "    final = ''\n",
    "    for key in output:\n",
    "        if output[key] == res:\n",
    "            final = key\n",
    "    \n",
    "    return final.title()"
   ]
  },
  {
   "cell_type": "code",
   "execution_count": 47,
   "metadata": {},
   "outputs": [
    {
     "name": "stdout",
     "output_type": "stream",
     "text": [
      "1/1 [==============================] - 0s 20ms/step\n"
     ]
    },
    {
     "data": {
      "text/plain": [
       "'Dogs'"
      ]
     },
     "execution_count": 47,
     "metadata": {},
     "output_type": "execute_result"
    }
   ],
   "source": [
    "get_result('../datasets/cats_dogs_images/imgs/3.webp')"
   ]
  }
 ],
 "metadata": {
  "kernelspec": {
   "display_name": "base",
   "language": "python",
   "name": "python3"
  },
  "language_info": {
   "codemirror_mode": {
    "name": "ipython",
    "version": 3
   },
   "file_extension": ".py",
   "mimetype": "text/x-python",
   "name": "python",
   "nbconvert_exporter": "python",
   "pygments_lexer": "ipython3",
   "version": "3.10.9"
  },
  "orig_nbformat": 4
 },
 "nbformat": 4,
 "nbformat_minor": 2
}
