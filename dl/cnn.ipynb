{
 "cells": [
  {
   "cell_type": "code",
   "execution_count": 2,
   "metadata": {},
   "outputs": [
    {
     "name": "stderr",
     "output_type": "stream",
     "text": [
      "2023-04-05 17:35:43.115662: I tensorflow/core/platform/cpu_feature_guard.cc:193] This TensorFlow binary is optimized with oneAPI Deep Neural Network Library (oneDNN) to use the following CPU instructions in performance-critical operations:  SSE4.1 SSE4.2 AVX AVX2 FMA\n",
      "To enable them in other operations, rebuild TensorFlow with the appropriate compiler flags.\n"
     ]
    }
   ],
   "source": [
    "import numpy as np\n",
    "import tensorflow as tf\n",
    "from keras.preprocessing import image\n",
    "from keras.preprocessing.image import ImageDataGenerator"
   ]
  },
  {
   "cell_type": "code",
   "execution_count": 3,
   "metadata": {},
   "outputs": [
    {
     "name": "stdout",
     "output_type": "stream",
     "text": [
      "Found 8000 images belonging to 2 classes.\n"
     ]
    }
   ],
   "source": [
    "#  use Image Data Generator to reshape images to avoid overfitting\n",
    "# 1. / 255 -> scaling\n",
    "train_datagen = ImageDataGenerator(rescale = 1./255,\n",
    "                                   shear_range = 0.2,\n",
    "                                   zoom_range = 0.2,\n",
    "                                   horizontal_flip = True)\n",
    "# class mode = 'binary' because of the binary outcome. for more outcomes -> category\n",
    "training_set = train_datagen.flow_from_directory('../datasets/cats_dogs_images/training_set',\n",
    "                                                 target_size = (64, 64),\n",
    "                                                 batch_size = 32,\n",
    "                                                 class_mode = 'binary')"
   ]
  },
  {
   "cell_type": "code",
   "execution_count": 5,
   "metadata": {},
   "outputs": [
    {
     "name": "stdout",
     "output_type": "stream",
     "text": [
      "Found 2000 images belonging to 2 classes.\n"
     ]
    }
   ],
   "source": [
    "# Image Data Generator for the test set -> rescale only!\n",
    "test_datagen = ImageDataGenerator(rescale=1./255)\n",
    "test_set = test_datagen.flow_from_directory('../datasets/cats_dogs_images/test_set',\n",
    "    # use same target size and batch size as on training set\n",
    "                                                 target_size = (64, 64),\n",
    "                                                 batch_size = 32,\n",
    "                                                 class_mode = 'binary')"
   ]
  },
  {
   "cell_type": "code",
   "execution_count": 6,
   "metadata": {},
   "outputs": [
    {
     "name": "stderr",
     "output_type": "stream",
     "text": [
      "2023-04-05 14:59:29.506635: I tensorflow/core/platform/cpu_feature_guard.cc:193] This TensorFlow binary is optimized with oneAPI Deep Neural Network Library (oneDNN) to use the following CPU instructions in performance-critical operations:  SSE4.1 SSE4.2 AVX AVX2 FMA\n",
      "To enable them in other operations, rebuild TensorFlow with the appropriate compiler flags.\n"
     ]
    }
   ],
   "source": [
    "cnn = tf.keras.models.Sequential()"
   ]
  },
  {
   "attachments": {},
   "cell_type": "markdown",
   "metadata": {},
   "source": [
    "Add layers"
   ]
  },
  {
   "cell_type": "code",
   "execution_count": 7,
   "metadata": {},
   "outputs": [],
   "source": [
    "# add convolutional layers\n",
    "# filters -> number of feature detectors\n",
    "# kernel size -> dimensions 3x3\n",
    "# input shape 64, 64 pixels + 3 of rgb channels\n",
    "cnn.add(tf.keras.layers.Conv2D(filters=32, kernel_size=3, activation='relu', input_shape=[64, 64, 3]))\n",
    "\n",
    "# create pooling\n",
    "# pool_size -> 2x2 pixels (picks the max value from the feature frame)\n",
    "# strides -> shift by 2 pixels \n",
    "# paddind: 'valid' (no padding/default), 'same' use padding and don't calculate the vslues outside the square)\n",
    "cnn.add(tf.keras.layers.MaxPool2D(pool_size=2, strides=2, padding='valid'))\n",
    "\n",
    "# add 2nd convolutional layer with the pool\n",
    "cnn.add(tf.keras.layers.Conv2D(filters=32, kernel_size=3, activation='relu'))\n",
    "cnn.add(tf.keras.layers.MaxPool2D(pool_size=2, strides=2, padding='valid'))\n",
    "\n",
    "# flattening\n",
    "cnn.add(tf.keras.layers.Flatten())"
   ]
  },
  {
   "attachments": {},
   "cell_type": "markdown",
   "metadata": {},
   "source": [
    "Connect layers and add an output layer"
   ]
  },
  {
   "cell_type": "code",
   "execution_count": 8,
   "metadata": {},
   "outputs": [],
   "source": [
    "# bigger number of units since we deal with images 64x64\n",
    "cnn.add(tf.keras.layers.Dense(units=128, activation='relu'))\n",
    "# units = 1 and activation sigmoid (for binary output), softmax for many categories\n",
    "cnn.add(tf.keras.layers.Dense(units=1, activation='sigmoid'))"
   ]
  },
  {
   "attachments": {},
   "cell_type": "markdown",
   "metadata": {},
   "source": [
    "Compile and train"
   ]
  },
  {
   "cell_type": "code",
   "execution_count": 9,
   "metadata": {},
   "outputs": [],
   "source": [
    "cnn.compile(optimizer='adam', loss='binary_crossentropy', metrics=['accuracy'])"
   ]
  },
  {
   "cell_type": "code",
   "execution_count": 10,
   "metadata": {},
   "outputs": [
    {
     "name": "stdout",
     "output_type": "stream",
     "text": [
      "Epoch 1/20\n",
      "250/250 [==============================] - 41s 159ms/step - loss: 0.6636 - accuracy: 0.5978 - val_loss: 0.6037 - val_accuracy: 0.6850\n",
      "Epoch 2/20\n",
      "250/250 [==============================] - 34s 137ms/step - loss: 0.5826 - accuracy: 0.6950 - val_loss: 0.5787 - val_accuracy: 0.7075\n",
      "Epoch 3/20\n",
      "250/250 [==============================] - 33s 132ms/step - loss: 0.5454 - accuracy: 0.7212 - val_loss: 0.5307 - val_accuracy: 0.7420\n",
      "Epoch 4/20\n",
      "250/250 [==============================] - 34s 136ms/step - loss: 0.5162 - accuracy: 0.7448 - val_loss: 0.5112 - val_accuracy: 0.7500\n",
      "Epoch 5/20\n",
      "250/250 [==============================] - 34s 135ms/step - loss: 0.4898 - accuracy: 0.7582 - val_loss: 0.4778 - val_accuracy: 0.7780\n",
      "Epoch 6/20\n",
      "250/250 [==============================] - 38s 151ms/step - loss: 0.4579 - accuracy: 0.7780 - val_loss: 0.4577 - val_accuracy: 0.7900\n",
      "Epoch 7/20\n",
      "250/250 [==============================] - 35s 140ms/step - loss: 0.4479 - accuracy: 0.7870 - val_loss: 0.5093 - val_accuracy: 0.7625\n",
      "Epoch 8/20\n",
      "250/250 [==============================] - 38s 150ms/step - loss: 0.4365 - accuracy: 0.7943 - val_loss: 0.4652 - val_accuracy: 0.7810\n",
      "Epoch 9/20\n",
      "250/250 [==============================] - 43s 172ms/step - loss: 0.4217 - accuracy: 0.8069 - val_loss: 0.4511 - val_accuracy: 0.8095\n",
      "Epoch 10/20\n",
      "250/250 [==============================] - 37s 146ms/step - loss: 0.4028 - accuracy: 0.8121 - val_loss: 0.4511 - val_accuracy: 0.7970\n",
      "Epoch 11/20\n",
      "250/250 [==============================] - 36s 143ms/step - loss: 0.3994 - accuracy: 0.8188 - val_loss: 0.4506 - val_accuracy: 0.7860\n",
      "Epoch 12/20\n",
      "250/250 [==============================] - 38s 151ms/step - loss: 0.3773 - accuracy: 0.8310 - val_loss: 0.4400 - val_accuracy: 0.8065\n",
      "Epoch 13/20\n",
      "250/250 [==============================] - 38s 151ms/step - loss: 0.3713 - accuracy: 0.8339 - val_loss: 0.4861 - val_accuracy: 0.7860\n",
      "Epoch 14/20\n",
      "250/250 [==============================] - 37s 148ms/step - loss: 0.3585 - accuracy: 0.8389 - val_loss: 0.4305 - val_accuracy: 0.8140\n",
      "Epoch 15/20\n",
      "250/250 [==============================] - 36s 143ms/step - loss: 0.3405 - accuracy: 0.8508 - val_loss: 0.5192 - val_accuracy: 0.7840\n",
      "Epoch 16/20\n",
      "250/250 [==============================] - 41s 164ms/step - loss: 0.3263 - accuracy: 0.8570 - val_loss: 0.4675 - val_accuracy: 0.7900\n",
      "Epoch 17/20\n",
      "250/250 [==============================] - 36s 143ms/step - loss: 0.3184 - accuracy: 0.8600 - val_loss: 0.4252 - val_accuracy: 0.8260\n",
      "Epoch 18/20\n",
      "250/250 [==============================] - 38s 151ms/step - loss: 0.3041 - accuracy: 0.8716 - val_loss: 0.4841 - val_accuracy: 0.8025\n",
      "Epoch 19/20\n",
      "250/250 [==============================] - 40s 159ms/step - loss: 0.2854 - accuracy: 0.8776 - val_loss: 0.4330 - val_accuracy: 0.8225\n",
      "Epoch 20/20\n",
      "250/250 [==============================] - 36s 145ms/step - loss: 0.2648 - accuracy: 0.8892 - val_loss: 0.4777 - val_accuracy: 0.8105\n"
     ]
    },
    {
     "data": {
      "text/plain": [
       "<keras.callbacks.History at 0x1b7410880>"
      ]
     },
     "execution_count": 10,
     "metadata": {},
     "output_type": "execute_result"
    }
   ],
   "source": [
    "cnn.fit(x = training_set, validation_data=test_set, epochs=20)"
   ]
  },
  {
   "cell_type": "code",
   "execution_count": 14,
   "metadata": {},
   "outputs": [
    {
     "data": {
      "text/plain": [
       "<keras.engine.sequential.Sequential at 0x1b6caf3a0>"
      ]
     },
     "execution_count": 14,
     "metadata": {},
     "output_type": "execute_result"
    }
   ],
   "source": [
    "cnn"
   ]
  },
  {
   "cell_type": "code",
   "execution_count": 24,
   "metadata": {},
   "outputs": [
    {
     "data": {
      "text/plain": [
       "{'cats': 0, 'dogs': 1}"
      ]
     },
     "execution_count": 24,
     "metadata": {},
     "output_type": "execute_result"
    }
   ],
   "source": [
    "training_set.class_indices"
   ]
  },
  {
   "cell_type": "code",
   "execution_count": 29,
   "metadata": {},
   "outputs": [
    {
     "name": "stdout",
     "output_type": "stream",
     "text": [
      "1/1 [==============================] - 0s 21ms/step\n"
     ]
    }
   ],
   "source": [
    "test1 = tf.keras.utils.load_img('../datasets/cats_dogs_images/imgs/1.jpg', target_size=(64, 64))\n",
    "test1 = tf.keras.utils.img_to_array(test1)\n",
    "test1 = np.expand_dims(test1, axis=0)\n",
    "result1 = cnn.predict(test1)"
   ]
  },
  {
   "cell_type": "code",
   "execution_count": 30,
   "metadata": {},
   "outputs": [
    {
     "data": {
      "text/plain": [
       "array([[1.]], dtype=float32)"
      ]
     },
     "execution_count": 30,
     "metadata": {},
     "output_type": "execute_result"
    }
   ],
   "source": [
    "result1"
   ]
  },
  {
   "cell_type": "code",
   "execution_count": 22,
   "metadata": {},
   "outputs": [
    {
     "data": {
      "text/plain": [
       "1.0"
      ]
     },
     "execution_count": 22,
     "metadata": {},
     "output_type": "execute_result"
    }
   ],
   "source": [
    "result1[0][0]"
   ]
  },
  {
   "cell_type": "code",
   "execution_count": 23,
   "metadata": {},
   "outputs": [
    {
     "name": "stdout",
     "output_type": "stream",
     "text": [
      "1/1 [==============================] - 0s 20ms/step\n"
     ]
    }
   ],
   "source": [
    "test2 = tf.keras.utils.load_img('../datasets/cats_dogs_images/imgs/2.jpg', target_size=(64, 64))\n",
    "test2 = tf.keras.utils.img_to_array(test2)\n",
    "test2 = np.expand_dims(test2, axis=0)\n",
    "result2 = cnn.predict(test2)"
   ]
  },
  {
   "cell_type": "code",
   "execution_count": 24,
   "metadata": {},
   "outputs": [
    {
     "name": "stdout",
     "output_type": "stream",
     "text": [
      "Cat\n"
     ]
    }
   ],
   "source": [
    "if result2 == 0:\n",
    "    print('Cat')\n",
    "else:\n",
    "    print('Dog')"
   ]
  },
  {
   "cell_type": "code",
   "execution_count": 12,
   "metadata": {},
   "outputs": [],
   "source": [
    "def get_result(cnn, path:str):\n",
    "    '''\n",
    "    the function returns prediction cat or dog\n",
    "    '''\n",
    "    # {'cats': 0, 'dogs': 1}\n",
    "    output = training_set.class_indices\n",
    "    \n",
    "    img = tf.keras.utils.load_img(path, target_size=(64, 64))\n",
    "    img = tf.keras.utils.img_to_array(img)\n",
    "    # add a dimention for a batch. put it on the 1st place axis=0\n",
    "    img = np.expand_dims(img, axis=0)\n",
    "    # alternatively (from Keras API docs)\n",
    "    # img = np.array([img])  # Convert single image to a batch.\n",
    "    res = cnn.predict(img)[0][0].astype(np.uint8)\n",
    "    final = ''\n",
    "    for key in output:\n",
    "        if output[key] == res:\n",
    "            final = key\n",
    "    \n",
    "    return final.title()"
   ]
  },
  {
   "cell_type": "code",
   "execution_count": 37,
   "metadata": {},
   "outputs": [],
   "source": [
    "def get_result_corrected(cnn, path:str):\n",
    "    '''\n",
    "    the function returns prediction cat or dog\n",
    "    '''\n",
    "    # {'cats': 0, 'dogs': 1}\n",
    "    output = training_set.class_indices\n",
    "    \n",
    "    img = tf.keras.utils.load_img(path, target_size=(64, 64))\n",
    "    img = tf.keras.utils.img_to_array(img)\n",
    "    # add a dimention for a batch. put it on the 1st place axis=0\n",
    "    img = np.expand_dims(img, axis=0)\n",
    "    # alternatively (from Keras API docs)\n",
    "    # img = np.array([img])  # Convert single image to a batch.\n",
    "\n",
    "    # corrected version with normalized input image and probability return\n",
    "    res = cnn.predict(img / 255.0)[0][0]\n",
    "    if res > 0.5:\n",
    "        res = 1\n",
    "    else:\n",
    "        res = 0\n",
    "    final = ''\n",
    "    for key in output:\n",
    "        if output[key] == res:\n",
    "            final = key\n",
    "    \n",
    "    return final.title()"
   ]
  },
  {
   "attachments": {},
   "cell_type": "markdown",
   "metadata": {},
   "source": [
    "#### Save the model if check if it is correct"
   ]
  },
  {
   "cell_type": "code",
   "execution_count": 4,
   "metadata": {},
   "outputs": [],
   "source": [
    "import pickle\n",
    "import joblib\n",
    "import os\n",
    "import json\n",
    "\n",
    "from tensorflow.keras.models import model_from_json\n",
    "\n",
    "directory = 'model_cnn'\n",
    "if not os.path.isdir(directory):\n",
    "    os.mkdir(directory)"
   ]
  },
  {
   "cell_type": "code",
   "execution_count": 16,
   "metadata": {},
   "outputs": [
    {
     "name": "stderr",
     "output_type": "stream",
     "text": [
      "WARNING:absl:Found untraced functions such as _jit_compiled_convolution_op, _jit_compiled_convolution_op, _update_step_xla while saving (showing 3 of 3). These functions will not be directly callable after loading.\n"
     ]
    },
    {
     "name": "stdout",
     "output_type": "stream",
     "text": [
      "INFO:tensorflow:Assets written to: models/assets\n"
     ]
    },
    {
     "name": "stderr",
     "output_type": "stream",
     "text": [
      "INFO:tensorflow:Assets written to: models/assets\n"
     ]
    }
   ],
   "source": [
    "cnn.save('models')"
   ]
  },
  {
   "cell_type": "code",
   "execution_count": 18,
   "metadata": {},
   "outputs": [],
   "source": [
    "cnn_loaded = tf.keras.models.load_model('models')"
   ]
  },
  {
   "cell_type": "code",
   "execution_count": 33,
   "metadata": {},
   "outputs": [
    {
     "name": "stdout",
     "output_type": "stream",
     "text": [
      "1/1 [==============================] - 0s 21ms/step\n"
     ]
    },
    {
     "data": {
      "text/plain": [
       "'Dogs'"
      ]
     },
     "execution_count": 33,
     "metadata": {},
     "output_type": "execute_result"
    }
   ],
   "source": [
    "img1 = '../datasets/cats_dogs_images/imgs/1.jpg' # DOG\n",
    "get_result(cnn=cnn_loaded, path=img1)\n",
    "# saved and loaded model returned wrong result :o)"
   ]
  },
  {
   "cell_type": "code",
   "execution_count": 34,
   "metadata": {},
   "outputs": [
    {
     "name": "stdout",
     "output_type": "stream",
     "text": [
      "1/1 [==============================] - 0s 20ms/step\n"
     ]
    },
    {
     "data": {
      "text/plain": [
       "'Dogs'"
      ]
     },
     "execution_count": 34,
     "metadata": {},
     "output_type": "execute_result"
    }
   ],
   "source": [
    "get_result(cnn, img1)"
   ]
  },
  {
   "cell_type": "code",
   "execution_count": 38,
   "metadata": {},
   "outputs": [
    {
     "name": "stdout",
     "output_type": "stream",
     "text": [
      "1/1 [==============================] - 0s 20ms/step\n"
     ]
    },
    {
     "data": {
      "text/plain": [
       "'Dogs'"
      ]
     },
     "execution_count": 38,
     "metadata": {},
     "output_type": "execute_result"
    }
   ],
   "source": [
    "get_result_corrected(cnn_loaded, img1)"
   ]
  },
  {
   "cell_type": "code",
   "execution_count": 9,
   "metadata": {},
   "outputs": [],
   "source": [
    "directory = 'models'\n",
    "if not os.path.isdir(directory):\n",
    "    os.mkdir(directory)\n",
    "\n",
    "file_pickle = directory + '/cnn.pkl'\n",
    "file_json = directory + '/cnn.json'\n",
    "weight_path = directory + '/cnn.h5'"
   ]
  },
  {
   "cell_type": "code",
   "execution_count": 64,
   "metadata": {},
   "outputs": [],
   "source": [
    "# serialize model to JSON\n",
    "model_json = cnn.to_json()\n",
    "with open(file_json, \"w\") as json_file:\n",
    "    json_file.write(model_json)\n",
    "# save weight mandatory!!!\n",
    "# without weights only layers are saved\n",
    "cnn.save_weights(weight_path)"
   ]
  },
  {
   "cell_type": "code",
   "execution_count": 65,
   "metadata": {},
   "outputs": [],
   "source": [
    "# load json and create model\n",
    "json_file = open(file_json, 'r')\n",
    "model_json = json_file.read()\n",
    "json_file.close()\n",
    "cnn_json = model_from_json(model_json)\n",
    "cnn_json.compile(loss='binary_crossentropy', optimizer='adam', metrics=['accuracy'])\n",
    "cnn_json.load_weights(weight_path)"
   ]
  },
  {
   "cell_type": "code",
   "execution_count": 52,
   "metadata": {},
   "outputs": [
    {
     "data": {
      "text/plain": [
       "'{\"class_name\": \"Sequential\", \"config\": {\"name\": \"sequential\", \"layers\": [{\"class_name\": \"InputLayer\", \"config\": {\"batch_input_shape\": [null, 64, 64, 3], \"dtype\": \"float32\", \"sparse\": false, \"ragged\": false, \"name\": \"conv2d_input\"}}, {\"class_name\": \"Conv2D\", \"config\": {\"name\": \"conv2d\", \"trainable\": true, \"dtype\": \"float32\", \"batch_input_shape\": [null, 64, 64, 3], \"filters\": 32, \"kernel_size\": [3, 3], \"strides\": [1, 1], \"padding\": \"valid\", \"data_format\": \"channels_last\", \"dilation_rate\": [1, 1], \"groups\": 1, \"activation\": \"relu\", \"use_bias\": true, \"kernel_initializer\": {\"class_name\": \"GlorotUniform\", \"config\": {\"seed\": null}}, \"bias_initializer\": {\"class_name\": \"Zeros\", \"config\": {}}, \"kernel_regularizer\": null, \"bias_regularizer\": null, \"activity_regularizer\": null, \"kernel_constraint\": null, \"bias_constraint\": null}}, {\"class_name\": \"MaxPooling2D\", \"config\": {\"name\": \"max_pooling2d\", \"trainable\": true, \"dtype\": \"float32\", \"pool_size\": [2, 2], \"padding\": \"valid\", \"strides\": [2, 2], \"data_format\": \"channels_last\"}}, {\"class_name\": \"Conv2D\", \"config\": {\"name\": \"conv2d_1\", \"trainable\": true, \"dtype\": \"float32\", \"filters\": 32, \"kernel_size\": [3, 3], \"strides\": [1, 1], \"padding\": \"valid\", \"data_format\": \"channels_last\", \"dilation_rate\": [1, 1], \"groups\": 1, \"activation\": \"relu\", \"use_bias\": true, \"kernel_initializer\": {\"class_name\": \"GlorotUniform\", \"config\": {\"seed\": null}}, \"bias_initializer\": {\"class_name\": \"Zeros\", \"config\": {}}, \"kernel_regularizer\": null, \"bias_regularizer\": null, \"activity_regularizer\": null, \"kernel_constraint\": null, \"bias_constraint\": null}}, {\"class_name\": \"MaxPooling2D\", \"config\": {\"name\": \"max_pooling2d_1\", \"trainable\": true, \"dtype\": \"float32\", \"pool_size\": [2, 2], \"padding\": \"valid\", \"strides\": [2, 2], \"data_format\": \"channels_last\"}}, {\"class_name\": \"Flatten\", \"config\": {\"name\": \"flatten\", \"trainable\": true, \"dtype\": \"float32\", \"data_format\": \"channels_last\"}}, {\"class_name\": \"Dense\", \"config\": {\"name\": \"dense\", \"trainable\": true, \"dtype\": \"float32\", \"units\": 128, \"activation\": \"relu\", \"use_bias\": true, \"kernel_initializer\": {\"class_name\": \"GlorotUniform\", \"config\": {\"seed\": null}}, \"bias_initializer\": {\"class_name\": \"Zeros\", \"config\": {}}, \"kernel_regularizer\": null, \"bias_regularizer\": null, \"activity_regularizer\": null, \"kernel_constraint\": null, \"bias_constraint\": null}}, {\"class_name\": \"Dense\", \"config\": {\"name\": \"dense_1\", \"trainable\": true, \"dtype\": \"float32\", \"units\": 1, \"activation\": \"sigmoid\", \"use_bias\": true, \"kernel_initializer\": {\"class_name\": \"GlorotUniform\", \"config\": {\"seed\": null}}, \"bias_initializer\": {\"class_name\": \"Zeros\", \"config\": {}}, \"kernel_regularizer\": null, \"bias_regularizer\": null, \"activity_regularizer\": null, \"kernel_constraint\": null, \"bias_constraint\": null}}]}, \"keras_version\": \"2.11.0\", \"backend\": \"tensorflow\"}'"
      ]
     },
     "execution_count": 52,
     "metadata": {},
     "output_type": "execute_result"
    }
   ],
   "source": [
    "model_json"
   ]
  },
  {
   "cell_type": "code",
   "execution_count": 48,
   "metadata": {},
   "outputs": [
    {
     "data": {
      "text/plain": [
       "<keras.engine.sequential.Sequential at 0x1b81af7c0>"
      ]
     },
     "execution_count": 48,
     "metadata": {},
     "output_type": "execute_result"
    }
   ],
   "source": [
    "cnn_json"
   ]
  },
  {
   "cell_type": "code",
   "execution_count": 68,
   "metadata": {},
   "outputs": [
    {
     "name": "stdout",
     "output_type": "stream",
     "text": [
      "1/1 [==============================] - 0s 73ms/step\n"
     ]
    },
    {
     "data": {
      "text/plain": [
       "'Dogs'"
      ]
     },
     "execution_count": 68,
     "metadata": {},
     "output_type": "execute_result"
    }
   ],
   "source": [
    "# without saved weights the model returned Cats\n",
    "get_result(cnn_json, img1)"
   ]
  },
  {
   "cell_type": "code",
   "execution_count": 69,
   "metadata": {},
   "outputs": [
    {
     "name": "stdout",
     "output_type": "stream",
     "text": [
      "1/1 [==============================] - 0s 21ms/step\n"
     ]
    },
    {
     "data": {
      "text/plain": [
       "'Dogs'"
      ]
     },
     "execution_count": 69,
     "metadata": {},
     "output_type": "execute_result"
    }
   ],
   "source": [
    "get_result(cnn_json, img1)"
   ]
  },
  {
   "cell_type": "code",
   "execution_count": 51,
   "metadata": {},
   "outputs": [
    {
     "name": "stdout",
     "output_type": "stream",
     "text": [
      "1/1 [==============================] - 0s 23ms/step\n"
     ]
    },
    {
     "data": {
      "text/plain": [
       "'Cats'"
      ]
     },
     "execution_count": 51,
     "metadata": {},
     "output_type": "execute_result"
    }
   ],
   "source": [
    "get_result_corrected(cnn_json, img1)"
   ]
  },
  {
   "attachments": {},
   "cell_type": "markdown",
   "metadata": {},
   "source": [
    "To pickle -> write binary"
   ]
  },
  {
   "cell_type": "code",
   "execution_count": 6,
   "metadata": {},
   "outputs": [
    {
     "name": "stderr",
     "output_type": "stream",
     "text": [
      "2023-04-05 17:37:50.639589: I tensorflow/core/platform/cpu_feature_guard.cc:193] This TensorFlow binary is optimized with oneAPI Deep Neural Network Library (oneDNN) to use the following CPU instructions in performance-critical operations:  SSE4.1 SSE4.2 AVX AVX2 FMA\n",
      "To enable them in other operations, rebuild TensorFlow with the appropriate compiler flags.\n"
     ]
    }
   ],
   "source": [
    "cnn = tf.keras.models.load_model('model_cnn')"
   ]
  },
  {
   "cell_type": "code",
   "execution_count": 7,
   "metadata": {},
   "outputs": [
    {
     "data": {
      "text/plain": [
       "<keras.engine.sequential.Sequential at 0x1a6a54fa0>"
      ]
     },
     "execution_count": 7,
     "metadata": {},
     "output_type": "execute_result"
    }
   ],
   "source": [
    "cnn"
   ]
  },
  {
   "cell_type": "code",
   "execution_count": 15,
   "metadata": {},
   "outputs": [
    {
     "name": "stdout",
     "output_type": "stream",
     "text": [
      "Keras weights file (<HDF5 file \"variables.h5\" (mode r+)>) saving:\n",
      "...layers\n",
      "......conv2d\n",
      ".........vars\n",
      "............0\n",
      "............1\n",
      "......conv2d_1\n",
      ".........vars\n",
      "............0\n",
      "............1\n",
      "......dense\n",
      ".........vars\n",
      "............0\n",
      "............1\n",
      "......dense_1\n",
      ".........vars\n",
      "............0\n",
      "............1\n",
      "......flatten\n",
      ".........vars\n",
      "......max_pooling2d\n",
      ".........vars\n",
      "......max_pooling2d_1\n",
      ".........vars\n",
      "...metrics\n",
      "......mean\n",
      ".........vars\n",
      "............0\n",
      "............1\n",
      "......mean_metric_wrapper\n",
      ".........vars\n",
      "............0\n",
      "............1\n",
      "...optimizer\n",
      "......vars\n",
      ".........0\n",
      "...vars\n",
      "Keras model archive saving:\n",
      "File Name                                             Modified             Size\n",
      "config.json                                    2023-04-05 17:40:12         3861\n",
      "metadata.json                                  2023-04-05 17:40:12           64\n",
      "variables.h5                                   2023-04-05 17:40:12      3280816\n"
     ]
    }
   ],
   "source": [
    "\n",
    "pickle.dump(cnn, open(file_pickle, 'wb'))"
   ]
  },
  {
   "cell_type": "code",
   "execution_count": 16,
   "metadata": {},
   "outputs": [
    {
     "name": "stdout",
     "output_type": "stream",
     "text": [
      "Keras weights file (<HDF5 file \"variables.h5\" (mode r+)>) saving:\n",
      "...layers\n",
      "......conv2d\n",
      ".........vars\n",
      "............0\n",
      "............1\n",
      "......conv2d_1\n",
      ".........vars\n",
      "............0\n",
      "............1\n",
      "......dense\n",
      ".........vars\n",
      "............0\n",
      "............1\n",
      "......dense_1\n",
      ".........vars\n",
      "............0\n",
      "............1\n",
      "......flatten\n",
      ".........vars\n",
      "......max_pooling2d\n",
      ".........vars\n",
      "......max_pooling2d_1\n",
      ".........vars\n",
      "...metrics\n",
      "......mean\n",
      ".........vars\n",
      "............0\n",
      "............1\n",
      "......mean_metric_wrapper\n",
      ".........vars\n",
      "............0\n",
      "............1\n",
      "...optimizer\n",
      "......vars\n",
      ".........0\n",
      "...vars\n",
      "Keras model archive saving:\n",
      "File Name                                             Modified             Size\n",
      "config.json                                    2023-04-05 17:40:13         3861\n",
      "metadata.json                                  2023-04-05 17:40:13           64\n",
      "variables.h5                                   2023-04-05 17:40:13      3280816\n"
     ]
    }
   ],
   "source": [
    "pickle.dump(cnn, open(file_pickle, 'wb'))"
   ]
  },
  {
   "cell_type": "code",
   "execution_count": 18,
   "metadata": {},
   "outputs": [],
   "source": [
    "# throws an error when I save a reconstructed model\n",
    "# cnn_pickle = pickle.load(open(file_pickle, 'rb'))"
   ]
  }
 ],
 "metadata": {
  "kernelspec": {
   "display_name": "base",
   "language": "python",
   "name": "python3"
  },
  "language_info": {
   "codemirror_mode": {
    "name": "ipython",
    "version": 3
   },
   "file_extension": ".py",
   "mimetype": "text/x-python",
   "name": "python",
   "nbconvert_exporter": "python",
   "pygments_lexer": "ipython3",
   "version": "3.10.9"
  },
  "orig_nbformat": 4
 },
 "nbformat": 4,
 "nbformat_minor": 2
}
